{
 "cells": [
  {
   "cell_type": "code",
   "execution_count": 2,
   "metadata": {},
   "outputs": [],
   "source": [
    "import sys\n",
    "import pandas as pd\n",
    "import numpy as np\n",
    "import datetime, time\n",
    "import seaborn as sns\n",
    "\n",
    "from sklearn.preprocessing import StandardScaler, OneHotEncoder, KBinsDiscretizer\n",
    "from sklearn.impute import SimpleImputer\n",
    "from sklearn.compose import ColumnTransformer\n",
    "from sklearn.ensemble import RandomForestClassifier\n",
    "from sklearn.model_selection import train_test_split\n",
    "from sklearn.model_selection import GridSearchCV"
   ]
  },
  {
   "cell_type": "code",
   "execution_count": 8,
   "metadata": {},
   "outputs": [],
   "source": [
    "from src.utils import convierte_a_minusculas"
   ]
  },
  {
   "cell_type": "code",
   "execution_count": 3,
   "metadata": {},
   "outputs": [],
   "source": [
    "#### Asisting configuration\n",
    "sys.path.append(\"..\")"
   ]
  },
  {
   "cell_type": "code",
   "execution_count": 4,
   "metadata": {},
   "outputs": [],
   "source": [
    "pd.set_option('display.max_rows', 200)"
   ]
  },
  {
   "cell_type": "code",
   "execution_count": 488,
   "metadata": {},
   "outputs": [],
   "source": [
    "df = pd.read_csv(\"../data/ds_challenge_apr2021.csv\")"
   ]
  },
  {
   "cell_type": "markdown",
   "metadata": {},
   "source": [
    "## Limpieza"
   ]
  },
  {
   "cell_type": "code",
   "execution_count": 489,
   "metadata": {},
   "outputs": [],
   "source": [
    "df = df.rename(columns={'ID_USER':'id_user'})\n",
    "df['fecha'] = pd.to_datetime(df['fecha'])"
   ]
  },
  {
   "cell_type": "code",
   "execution_count": 490,
   "metadata": {},
   "outputs": [],
   "source": [
    "df = convierte_a_minusculas(df)"
   ]
  },
  {
   "cell_type": "code",
   "execution_count": 491,
   "metadata": {},
   "outputs": [],
   "source": [
    "df['fraude'] = df['fraude'].apply(lambda x: 1 if x==True else 0)\n",
    "df['is_prime'] = df['is_prime'].apply(lambda x: 'si_prime' if x==True else 'no_prime')"
   ]
  },
  {
   "cell_type": "code",
   "execution_count": 492,
   "metadata": {},
   "outputs": [],
   "source": [
    "df['tipo_tc'] = df['tipo_tc'].replace(['física'],'fisica')\n",
    "df['genero'] = df['genero'].replace(['--'],'no_def')"
   ]
  },
  {
   "cell_type": "code",
   "execution_count": 493,
   "metadata": {},
   "outputs": [],
   "source": [
    "df['establecimiento']=df['establecimiento'].fillna('NA_establecimiento')"
   ]
  },
  {
   "cell_type": "code",
   "execution_count": 494,
   "metadata": {},
   "outputs": [],
   "source": [
    "df['ciudad']=df['ciudad'].fillna('NA_ciudad')"
   ]
  },
  {
   "cell_type": "markdown",
   "metadata": {},
   "source": [
    "### Transformación de variables"
   ]
  },
  {
   "cell_type": "code",
   "execution_count": 495,
   "metadata": {},
   "outputs": [],
   "source": [
    "standard_scaler = StandardScaler()\n",
    "\n",
    "transformers = [('one_hot', OneHotEncoder(sparse = False, categories = \"auto\"),\n",
    "                 ['tipo_tc', 'is_prime', 'genero', 'establecimiento', 'ciudad']),\n",
    "               ('standar_scaler', standard_scaler, \n",
    "                ['monto', 'dcto','cashback','linea_tc','interes_tc'\n",
    "                ])]\n",
    "col_trans = ColumnTransformer(transformers, remainder=\"drop\", n_jobs=-1, verbose=True)"
   ]
  },
  {
   "cell_type": "code",
   "execution_count": 496,
   "metadata": {},
   "outputs": [
    {
     "data": {
      "text/plain": [
       "ColumnTransformer(n_jobs=-1,\n",
       "                  transformers=[('one_hot', OneHotEncoder(sparse=False),\n",
       "                                 ['tipo_tc', 'is_prime', 'genero',\n",
       "                                  'establecimiento', 'ciudad']),\n",
       "                                ('standar_scaler', StandardScaler(),\n",
       "                                 ['monto', 'dcto', 'cashback', 'linea_tc',\n",
       "                                  'interes_tc'])],\n",
       "                  verbose=True)"
      ]
     },
     "execution_count": 496,
     "metadata": {},
     "output_type": "execute_result"
    }
   ],
   "source": [
    "df_regressors = col_trans.fit(df)\n",
    "df_regressors"
   ]
  },
  {
   "cell_type": "code",
   "execution_count": 497,
   "metadata": {},
   "outputs": [],
   "source": [
    "df_transformed = df_regressors.transform(df)"
   ]
  },
  {
   "cell_type": "code",
   "execution_count": 498,
   "metadata": {},
   "outputs": [],
   "source": [
    "A = [sorted(df.tipo_tc.unique()),\n",
    "    sorted(df.is_prime.unique()),\n",
    "    sorted(df.genero.unique()),\n",
    "    sorted(df.establecimiento.unique()),\n",
    "    sorted(df.ciudad.unique())]\n",
    "\n",
    "colnames = sum(A, [])"
   ]
  },
  {
   "cell_type": "code",
   "execution_count": 499,
   "metadata": {},
   "outputs": [],
   "source": [
    "colnames.append('monto')\n",
    "colnames.append('dcto')\n",
    "colnames.append('cashback')\n",
    "colnames.append('linea_tc')\n",
    "colnames.append('interes_tc')"
   ]
  },
  {
   "cell_type": "code",
   "execution_count": 500,
   "metadata": {},
   "outputs": [
    {
     "data": {
      "text/plain": [
       "['fisica',\n",
       " 'virtual',\n",
       " 'no_prime',\n",
       " 'si_prime',\n",
       " 'f',\n",
       " 'm',\n",
       " 'no_def',\n",
       " 'NA_establecimiento',\n",
       " 'abarrotes',\n",
       " 'farmacia',\n",
       " 'mpago',\n",
       " 'restaurante',\n",
       " 'super',\n",
       " 'NA_ciudad',\n",
       " 'guadalajara',\n",
       " 'merida',\n",
       " 'monterrey',\n",
       " 'toluca',\n",
       " 'monto',\n",
       " 'dcto',\n",
       " 'cashback',\n",
       " 'linea_tc',\n",
       " 'interes_tc']"
      ]
     },
     "execution_count": 500,
     "metadata": {},
     "output_type": "execute_result"
    }
   ],
   "source": [
    "colnames"
   ]
  },
  {
   "cell_type": "code",
   "execution_count": 501,
   "metadata": {},
   "outputs": [],
   "source": [
    "final_df = pd.DataFrame(df_transformed, columns = colnames)"
   ]
  },
  {
   "cell_type": "code",
   "execution_count": 502,
   "metadata": {},
   "outputs": [],
   "source": [
    "#df[df['fecha']=='2020-01-31']"
   ]
  },
  {
   "cell_type": "code",
   "execution_count": 503,
   "metadata": {},
   "outputs": [],
   "source": [
    "df['dia'] = pd.DatetimeIndex(df['fecha']).day"
   ]
  },
  {
   "cell_type": "code",
   "execution_count": 504,
   "metadata": {},
   "outputs": [],
   "source": [
    "dias = 30 \n",
    "\n",
    "final_df['sin_dia'] = np.sin(2*np.pi*df['dia']/dias)\n",
    "final_df['cos_dia'] = np.cos(2*np.pi*df['dia']/dias)"
   ]
  },
  {
   "cell_type": "code",
   "execution_count": 505,
   "metadata": {},
   "outputs": [],
   "source": [
    "horas = 24 \n",
    "\n",
    "final_df['sin_hora'] = np.sin(2*np.pi*df['hora']/horas)\n",
    "final_df['cos_hora'] = np.cos(2*np.pi*df['hora']/horas)"
   ]
  },
  {
   "cell_type": "code",
   "execution_count": 506,
   "metadata": {},
   "outputs": [],
   "source": [
    "df_transformed=final_df.values"
   ]
  },
  {
   "cell_type": "code",
   "execution_count": 507,
   "metadata": {},
   "outputs": [],
   "source": [
    "#final_df['id']=df['id_user']"
   ]
  },
  {
   "cell_type": "code",
   "execution_count": 508,
   "metadata": {},
   "outputs": [],
   "source": [
    "colnames.append('sin_dia')\n",
    "colnames.append('cos_dia')\n",
    "colnames.append('sin_hora')\n",
    "colnames.append('cos_hora')"
   ]
  },
  {
   "cell_type": "code",
   "execution_count": 509,
   "metadata": {},
   "outputs": [
    {
     "data": {
      "text/plain": [
       "(26975, 27)"
      ]
     },
     "execution_count": 509,
     "metadata": {},
     "output_type": "execute_result"
    }
   ],
   "source": [
    "df_transformed.shape"
   ]
  },
  {
   "cell_type": "code",
   "execution_count": 510,
   "metadata": {},
   "outputs": [
    {
     "data": {
      "text/plain": [
       "(26975, 27)"
      ]
     },
     "execution_count": 510,
     "metadata": {},
     "output_type": "execute_result"
    }
   ],
   "source": [
    "final_df.shape"
   ]
  },
  {
   "cell_type": "code",
   "execution_count": 454,
   "metadata": {},
   "outputs": [
    {
     "data": {
      "text/html": [
       "<div>\n",
       "<style scoped>\n",
       "    .dataframe tbody tr th:only-of-type {\n",
       "        vertical-align: middle;\n",
       "    }\n",
       "\n",
       "    .dataframe tbody tr th {\n",
       "        vertical-align: top;\n",
       "    }\n",
       "\n",
       "    .dataframe thead th {\n",
       "        text-align: right;\n",
       "    }\n",
       "</style>\n",
       "<table border=\"1\" class=\"dataframe\">\n",
       "  <thead>\n",
       "    <tr style=\"text-align: right;\">\n",
       "      <th></th>\n",
       "      <th>fisica</th>\n",
       "      <th>virtual</th>\n",
       "      <th>no_prime</th>\n",
       "      <th>si_prime</th>\n",
       "      <th>f</th>\n",
       "      <th>m</th>\n",
       "      <th>no_def</th>\n",
       "      <th>NA_establecimiento</th>\n",
       "      <th>abarrotes</th>\n",
       "      <th>farmacia</th>\n",
       "      <th>...</th>\n",
       "      <th>monto</th>\n",
       "      <th>dcto</th>\n",
       "      <th>cashback</th>\n",
       "      <th>linea_tc</th>\n",
       "      <th>interes_tc</th>\n",
       "      <th>sin_dia</th>\n",
       "      <th>cos_dia</th>\n",
       "      <th>sin_hora</th>\n",
       "      <th>cos_hora</th>\n",
       "      <th>id</th>\n",
       "    </tr>\n",
       "  </thead>\n",
       "  <tbody>\n",
       "    <tr>\n",
       "      <th>0</th>\n",
       "      <td>1.0</td>\n",
       "      <td>0.0</td>\n",
       "      <td>1.0</td>\n",
       "      <td>0.0</td>\n",
       "      <td>1.0</td>\n",
       "      <td>0.0</td>\n",
       "      <td>0.0</td>\n",
       "      <td>0.0</td>\n",
       "      <td>0.0</td>\n",
       "      <td>0.0</td>\n",
       "      <td>...</td>\n",
       "      <td>0.377721</td>\n",
       "      <td>1.263136</td>\n",
       "      <td>-0.176315</td>\n",
       "      <td>0.389427</td>\n",
       "      <td>0.289465</td>\n",
       "      <td>-9.510565e-01</td>\n",
       "      <td>-0.309017</td>\n",
       "      <td>-0.866025</td>\n",
       "      <td>0.500000</td>\n",
       "      <td>0</td>\n",
       "    </tr>\n",
       "    <tr>\n",
       "      <th>1</th>\n",
       "      <td>0.0</td>\n",
       "      <td>1.0</td>\n",
       "      <td>1.0</td>\n",
       "      <td>0.0</td>\n",
       "      <td>1.0</td>\n",
       "      <td>0.0</td>\n",
       "      <td>0.0</td>\n",
       "      <td>1.0</td>\n",
       "      <td>0.0</td>\n",
       "      <td>0.0</td>\n",
       "      <td>...</td>\n",
       "      <td>-1.418404</td>\n",
       "      <td>-0.508714</td>\n",
       "      <td>-1.006380</td>\n",
       "      <td>0.389427</td>\n",
       "      <td>0.289465</td>\n",
       "      <td>5.665539e-16</td>\n",
       "      <td>-1.000000</td>\n",
       "      <td>0.965926</td>\n",
       "      <td>-0.258819</td>\n",
       "      <td>0</td>\n",
       "    </tr>\n",
       "    <tr>\n",
       "      <th>2</th>\n",
       "      <td>0.0</td>\n",
       "      <td>1.0</td>\n",
       "      <td>1.0</td>\n",
       "      <td>0.0</td>\n",
       "      <td>1.0</td>\n",
       "      <td>0.0</td>\n",
       "      <td>0.0</td>\n",
       "      <td>1.0</td>\n",
       "      <td>0.0</td>\n",
       "      <td>0.0</td>\n",
       "      <td>...</td>\n",
       "      <td>1.005752</td>\n",
       "      <td>-0.508714</td>\n",
       "      <td>2.139704</td>\n",
       "      <td>1.440304</td>\n",
       "      <td>0.811001</td>\n",
       "      <td>-4.067366e-01</td>\n",
       "      <td>-0.913545</td>\n",
       "      <td>0.258819</td>\n",
       "      <td>-0.965926</td>\n",
       "      <td>1</td>\n",
       "    </tr>\n",
       "    <tr>\n",
       "      <th>3</th>\n",
       "      <td>1.0</td>\n",
       "      <td>0.0</td>\n",
       "      <td>1.0</td>\n",
       "      <td>0.0</td>\n",
       "      <td>1.0</td>\n",
       "      <td>0.0</td>\n",
       "      <td>0.0</td>\n",
       "      <td>0.0</td>\n",
       "      <td>0.0</td>\n",
       "      <td>0.0</td>\n",
       "      <td>...</td>\n",
       "      <td>0.926139</td>\n",
       "      <td>-0.508714</td>\n",
       "      <td>0.316006</td>\n",
       "      <td>1.440304</td>\n",
       "      <td>0.811001</td>\n",
       "      <td>8.660254e-01</td>\n",
       "      <td>0.500000</td>\n",
       "      <td>0.258819</td>\n",
       "      <td>-0.965926</td>\n",
       "      <td>1</td>\n",
       "    </tr>\n",
       "    <tr>\n",
       "      <th>4</th>\n",
       "      <td>1.0</td>\n",
       "      <td>0.0</td>\n",
       "      <td>1.0</td>\n",
       "      <td>0.0</td>\n",
       "      <td>1.0</td>\n",
       "      <td>0.0</td>\n",
       "      <td>0.0</td>\n",
       "      <td>1.0</td>\n",
       "      <td>0.0</td>\n",
       "      <td>0.0</td>\n",
       "      <td>...</td>\n",
       "      <td>-0.846509</td>\n",
       "      <td>-0.508714</td>\n",
       "      <td>-0.834270</td>\n",
       "      <td>1.440304</td>\n",
       "      <td>0.811001</td>\n",
       "      <td>-1.133108e-15</td>\n",
       "      <td>1.000000</td>\n",
       "      <td>0.500000</td>\n",
       "      <td>-0.866025</td>\n",
       "      <td>1</td>\n",
       "    </tr>\n",
       "    <tr>\n",
       "      <th>...</th>\n",
       "      <td>...</td>\n",
       "      <td>...</td>\n",
       "      <td>...</td>\n",
       "      <td>...</td>\n",
       "      <td>...</td>\n",
       "      <td>...</td>\n",
       "      <td>...</td>\n",
       "      <td>...</td>\n",
       "      <td>...</td>\n",
       "      <td>...</td>\n",
       "      <td>...</td>\n",
       "      <td>...</td>\n",
       "      <td>...</td>\n",
       "      <td>...</td>\n",
       "      <td>...</td>\n",
       "      <td>...</td>\n",
       "      <td>...</td>\n",
       "      <td>...</td>\n",
       "      <td>...</td>\n",
       "      <td>...</td>\n",
       "      <td>...</td>\n",
       "    </tr>\n",
       "    <tr>\n",
       "      <th>26970</th>\n",
       "      <td>1.0</td>\n",
       "      <td>0.0</td>\n",
       "      <td>1.0</td>\n",
       "      <td>0.0</td>\n",
       "      <td>0.0</td>\n",
       "      <td>1.0</td>\n",
       "      <td>0.0</td>\n",
       "      <td>1.0</td>\n",
       "      <td>0.0</td>\n",
       "      <td>0.0</td>\n",
       "      <td>...</td>\n",
       "      <td>0.854196</td>\n",
       "      <td>-0.508714</td>\n",
       "      <td>0.269322</td>\n",
       "      <td>-1.026972</td>\n",
       "      <td>0.811001</td>\n",
       "      <td>9.945219e-01</td>\n",
       "      <td>-0.104528</td>\n",
       "      <td>-0.258819</td>\n",
       "      <td>-0.965926</td>\n",
       "      <td>3999</td>\n",
       "    </tr>\n",
       "    <tr>\n",
       "      <th>26971</th>\n",
       "      <td>1.0</td>\n",
       "      <td>0.0</td>\n",
       "      <td>1.0</td>\n",
       "      <td>0.0</td>\n",
       "      <td>0.0</td>\n",
       "      <td>1.0</td>\n",
       "      <td>0.0</td>\n",
       "      <td>1.0</td>\n",
       "      <td>0.0</td>\n",
       "      <td>0.0</td>\n",
       "      <td>...</td>\n",
       "      <td>1.530346</td>\n",
       "      <td>-0.508714</td>\n",
       "      <td>0.708078</td>\n",
       "      <td>-1.026972</td>\n",
       "      <td>0.811001</td>\n",
       "      <td>2.079117e-01</td>\n",
       "      <td>-0.978148</td>\n",
       "      <td>-0.707107</td>\n",
       "      <td>-0.707107</td>\n",
       "      <td>3999</td>\n",
       "    </tr>\n",
       "    <tr>\n",
       "      <th>26972</th>\n",
       "      <td>0.0</td>\n",
       "      <td>1.0</td>\n",
       "      <td>1.0</td>\n",
       "      <td>0.0</td>\n",
       "      <td>0.0</td>\n",
       "      <td>1.0</td>\n",
       "      <td>0.0</td>\n",
       "      <td>1.0</td>\n",
       "      <td>0.0</td>\n",
       "      <td>0.0</td>\n",
       "      <td>...</td>\n",
       "      <td>-0.856813</td>\n",
       "      <td>-0.508714</td>\n",
       "      <td>-0.277543</td>\n",
       "      <td>-1.026972</td>\n",
       "      <td>0.811001</td>\n",
       "      <td>-2.079117e-01</td>\n",
       "      <td>-0.978148</td>\n",
       "      <td>0.258819</td>\n",
       "      <td>-0.965926</td>\n",
       "      <td>3999</td>\n",
       "    </tr>\n",
       "    <tr>\n",
       "      <th>26973</th>\n",
       "      <td>1.0</td>\n",
       "      <td>0.0</td>\n",
       "      <td>1.0</td>\n",
       "      <td>0.0</td>\n",
       "      <td>0.0</td>\n",
       "      <td>1.0</td>\n",
       "      <td>0.0</td>\n",
       "      <td>1.0</td>\n",
       "      <td>0.0</td>\n",
       "      <td>0.0</td>\n",
       "      <td>...</td>\n",
       "      <td>-1.641479</td>\n",
       "      <td>-0.438280</td>\n",
       "      <td>-1.355553</td>\n",
       "      <td>-1.026972</td>\n",
       "      <td>0.811001</td>\n",
       "      <td>4.067366e-01</td>\n",
       "      <td>-0.913545</td>\n",
       "      <td>-0.965926</td>\n",
       "      <td>-0.258819</td>\n",
       "      <td>3999</td>\n",
       "    </tr>\n",
       "    <tr>\n",
       "      <th>26974</th>\n",
       "      <td>1.0</td>\n",
       "      <td>0.0</td>\n",
       "      <td>1.0</td>\n",
       "      <td>0.0</td>\n",
       "      <td>0.0</td>\n",
       "      <td>1.0</td>\n",
       "      <td>0.0</td>\n",
       "      <td>0.0</td>\n",
       "      <td>0.0</td>\n",
       "      <td>0.0</td>\n",
       "      <td>...</td>\n",
       "      <td>0.062701</td>\n",
       "      <td>-0.508714</td>\n",
       "      <td>-0.244281</td>\n",
       "      <td>-1.026972</td>\n",
       "      <td>0.811001</td>\n",
       "      <td>5.877853e-01</td>\n",
       "      <td>0.809017</td>\n",
       "      <td>-0.866025</td>\n",
       "      <td>0.500000</td>\n",
       "      <td>3999</td>\n",
       "    </tr>\n",
       "  </tbody>\n",
       "</table>\n",
       "<p>26975 rows × 28 columns</p>\n",
       "</div>"
      ],
      "text/plain": [
       "       fisica  virtual  no_prime  si_prime    f    m  no_def  \\\n",
       "0         1.0      0.0       1.0       0.0  1.0  0.0     0.0   \n",
       "1         0.0      1.0       1.0       0.0  1.0  0.0     0.0   \n",
       "2         0.0      1.0       1.0       0.0  1.0  0.0     0.0   \n",
       "3         1.0      0.0       1.0       0.0  1.0  0.0     0.0   \n",
       "4         1.0      0.0       1.0       0.0  1.0  0.0     0.0   \n",
       "...       ...      ...       ...       ...  ...  ...     ...   \n",
       "26970     1.0      0.0       1.0       0.0  0.0  1.0     0.0   \n",
       "26971     1.0      0.0       1.0       0.0  0.0  1.0     0.0   \n",
       "26972     0.0      1.0       1.0       0.0  0.0  1.0     0.0   \n",
       "26973     1.0      0.0       1.0       0.0  0.0  1.0     0.0   \n",
       "26974     1.0      0.0       1.0       0.0  0.0  1.0     0.0   \n",
       "\n",
       "       NA_establecimiento  abarrotes  farmacia  ...     monto      dcto  \\\n",
       "0                     0.0        0.0       0.0  ...  0.377721  1.263136   \n",
       "1                     1.0        0.0       0.0  ... -1.418404 -0.508714   \n",
       "2                     1.0        0.0       0.0  ...  1.005752 -0.508714   \n",
       "3                     0.0        0.0       0.0  ...  0.926139 -0.508714   \n",
       "4                     1.0        0.0       0.0  ... -0.846509 -0.508714   \n",
       "...                   ...        ...       ...  ...       ...       ...   \n",
       "26970                 1.0        0.0       0.0  ...  0.854196 -0.508714   \n",
       "26971                 1.0        0.0       0.0  ...  1.530346 -0.508714   \n",
       "26972                 1.0        0.0       0.0  ... -0.856813 -0.508714   \n",
       "26973                 1.0        0.0       0.0  ... -1.641479 -0.438280   \n",
       "26974                 0.0        0.0       0.0  ...  0.062701 -0.508714   \n",
       "\n",
       "       cashback  linea_tc  interes_tc       sin_dia   cos_dia  sin_hora  \\\n",
       "0     -0.176315  0.389427    0.289465 -9.510565e-01 -0.309017 -0.866025   \n",
       "1     -1.006380  0.389427    0.289465  5.665539e-16 -1.000000  0.965926   \n",
       "2      2.139704  1.440304    0.811001 -4.067366e-01 -0.913545  0.258819   \n",
       "3      0.316006  1.440304    0.811001  8.660254e-01  0.500000  0.258819   \n",
       "4     -0.834270  1.440304    0.811001 -1.133108e-15  1.000000  0.500000   \n",
       "...         ...       ...         ...           ...       ...       ...   \n",
       "26970  0.269322 -1.026972    0.811001  9.945219e-01 -0.104528 -0.258819   \n",
       "26971  0.708078 -1.026972    0.811001  2.079117e-01 -0.978148 -0.707107   \n",
       "26972 -0.277543 -1.026972    0.811001 -2.079117e-01 -0.978148  0.258819   \n",
       "26973 -1.355553 -1.026972    0.811001  4.067366e-01 -0.913545 -0.965926   \n",
       "26974 -0.244281 -1.026972    0.811001  5.877853e-01  0.809017 -0.866025   \n",
       "\n",
       "       cos_hora    id  \n",
       "0      0.500000     0  \n",
       "1     -0.258819     0  \n",
       "2     -0.965926     1  \n",
       "3     -0.965926     1  \n",
       "4     -0.866025     1  \n",
       "...         ...   ...  \n",
       "26970 -0.965926  3999  \n",
       "26971 -0.707107  3999  \n",
       "26972 -0.965926  3999  \n",
       "26973 -0.258819  3999  \n",
       "26974  0.500000  3999  \n",
       "\n",
       "[26975 rows x 28 columns]"
      ]
     },
     "execution_count": 454,
     "metadata": {},
     "output_type": "execute_result"
    }
   ],
   "source": [
    "final_df"
   ]
  },
  {
   "cell_type": "markdown",
   "metadata": {},
   "source": [
    "## Selección de variables (VarianceThreshold)"
   ]
  },
  {
   "cell_type": "code",
   "execution_count": 461,
   "metadata": {},
   "outputs": [],
   "source": [
    "from sklearn.feature_selection import VarianceThreshold"
   ]
  },
  {
   "cell_type": "code",
   "execution_count": 462,
   "metadata": {},
   "outputs": [
    {
     "data": {
      "text/plain": [
       "VarianceThreshold(threshold=0.1)"
      ]
     },
     "execution_count": 462,
     "metadata": {},
     "output_type": "execute_result"
    }
   ],
   "source": [
    "variance_threshold = VarianceThreshold(threshold=0.1)\n",
    "variance_threshold.fit(df_transformed)"
   ]
  },
  {
   "cell_type": "code",
   "execution_count": 463,
   "metadata": {},
   "outputs": [
    {
     "data": {
      "text/plain": [
       "array([[ 1.        ,  0.        ,  1.        , ..., -0.30901699,\n",
       "        -0.8660254 ,  0.5       ],\n",
       "       [ 0.        ,  1.        ,  1.        , ..., -1.        ,\n",
       "         0.96592583, -0.25881905],\n",
       "       [ 0.        ,  1.        ,  1.        , ..., -0.91354546,\n",
       "         0.25881905, -0.96592583],\n",
       "       ...,\n",
       "       [ 0.        ,  1.        ,  1.        , ..., -0.9781476 ,\n",
       "         0.25881905, -0.96592583],\n",
       "       [ 1.        ,  0.        ,  1.        , ..., -0.91354546,\n",
       "        -0.96592583, -0.25881905],\n",
       "       [ 1.        ,  0.        ,  1.        , ...,  0.80901699,\n",
       "        -0.8660254 ,  0.5       ]])"
      ]
     },
     "execution_count": 463,
     "metadata": {},
     "output_type": "execute_result"
    }
   ],
   "source": [
    "variance_threshold.transform(df_transformed)"
   ]
  },
  {
   "cell_type": "code",
   "execution_count": 458,
   "metadata": {},
   "outputs": [],
   "source": [
    "#variance_threshold.variances_"
   ]
  },
  {
   "cell_type": "code",
   "execution_count": 466,
   "metadata": {},
   "outputs": [],
   "source": [
    "impor_var = pd.DataFrame(colnames ,variance_threshold.variances_)"
   ]
  },
  {
   "cell_type": "code",
   "execution_count": 467,
   "metadata": {},
   "outputs": [],
   "source": [
    "impor_var['predictores'] = impor_var.loc[:,0]"
   ]
  },
  {
   "cell_type": "code",
   "execution_count": 468,
   "metadata": {},
   "outputs": [
    {
     "data": {
      "text/html": [
       "<div>\n",
       "<style scoped>\n",
       "    .dataframe tbody tr th:only-of-type {\n",
       "        vertical-align: middle;\n",
       "    }\n",
       "\n",
       "    .dataframe tbody tr th {\n",
       "        vertical-align: top;\n",
       "    }\n",
       "\n",
       "    .dataframe thead th {\n",
       "        text-align: right;\n",
       "    }\n",
       "</style>\n",
       "<table border=\"1\" class=\"dataframe\">\n",
       "  <thead>\n",
       "    <tr style=\"text-align: right;\">\n",
       "      <th></th>\n",
       "      <th>predictores</th>\n",
       "      <th>index</th>\n",
       "    </tr>\n",
       "  </thead>\n",
       "  <tbody>\n",
       "    <tr>\n",
       "      <th>20</th>\n",
       "      <td>cashback</td>\n",
       "      <td>1.000000</td>\n",
       "    </tr>\n",
       "    <tr>\n",
       "      <th>22</th>\n",
       "      <td>interes_tc</td>\n",
       "      <td>1.000000</td>\n",
       "    </tr>\n",
       "    <tr>\n",
       "      <th>21</th>\n",
       "      <td>linea_tc</td>\n",
       "      <td>1.000000</td>\n",
       "    </tr>\n",
       "    <tr>\n",
       "      <th>19</th>\n",
       "      <td>dcto</td>\n",
       "      <td>1.000000</td>\n",
       "    </tr>\n",
       "    <tr>\n",
       "      <th>18</th>\n",
       "      <td>monto</td>\n",
       "      <td>1.000000</td>\n",
       "    </tr>\n",
       "    <tr>\n",
       "      <th>25</th>\n",
       "      <td>sin_hora</td>\n",
       "      <td>0.525616</td>\n",
       "    </tr>\n",
       "    <tr>\n",
       "      <th>23</th>\n",
       "      <td>sin_dia</td>\n",
       "      <td>0.514248</td>\n",
       "    </tr>\n",
       "    <tr>\n",
       "      <th>24</th>\n",
       "      <td>cos_dia</td>\n",
       "      <td>0.484718</td>\n",
       "    </tr>\n",
       "    <tr>\n",
       "      <th>26</th>\n",
       "      <td>cos_hora</td>\n",
       "      <td>0.472809</td>\n",
       "    </tr>\n",
       "    <tr>\n",
       "      <th>5</th>\n",
       "      <td>m</td>\n",
       "      <td>0.249999</td>\n",
       "    </tr>\n",
       "    <tr>\n",
       "      <th>13</th>\n",
       "      <td>NA_ciudad</td>\n",
       "      <td>0.245500</td>\n",
       "    </tr>\n",
       "    <tr>\n",
       "      <th>4</th>\n",
       "      <td>f</td>\n",
       "      <td>0.239520</td>\n",
       "    </tr>\n",
       "    <tr>\n",
       "      <th>7</th>\n",
       "      <td>NA_establecimiento</td>\n",
       "      <td>0.234406</td>\n",
       "    </tr>\n",
       "    <tr>\n",
       "      <th>1</th>\n",
       "      <td>virtual</td>\n",
       "      <td>0.209695</td>\n",
       "    </tr>\n",
       "    <tr>\n",
       "      <th>0</th>\n",
       "      <td>fisica</td>\n",
       "      <td>0.209695</td>\n",
       "    </tr>\n",
       "    <tr>\n",
       "      <th>17</th>\n",
       "      <td>toluca</td>\n",
       "      <td>0.126219</td>\n",
       "    </tr>\n",
       "    <tr>\n",
       "      <th>14</th>\n",
       "      <td>guadalajara</td>\n",
       "      <td>0.121904</td>\n",
       "    </tr>\n",
       "    <tr>\n",
       "      <th>15</th>\n",
       "      <td>merida</td>\n",
       "      <td>0.119986</td>\n",
       "    </tr>\n",
       "    <tr>\n",
       "      <th>16</th>\n",
       "      <td>monterrey</td>\n",
       "      <td>0.118511</td>\n",
       "    </tr>\n",
       "    <tr>\n",
       "      <th>3</th>\n",
       "      <td>si_prime</td>\n",
       "      <td>0.114530</td>\n",
       "    </tr>\n",
       "    <tr>\n",
       "      <th>2</th>\n",
       "      <td>no_prime</td>\n",
       "      <td>0.114530</td>\n",
       "    </tr>\n",
       "    <tr>\n",
       "      <th>11</th>\n",
       "      <td>restaurante</td>\n",
       "      <td>0.111649</td>\n",
       "    </tr>\n",
       "    <tr>\n",
       "      <th>8</th>\n",
       "      <td>abarrotes</td>\n",
       "      <td>0.110571</td>\n",
       "    </tr>\n",
       "    <tr>\n",
       "      <th>12</th>\n",
       "      <td>super</td>\n",
       "      <td>0.110211</td>\n",
       "    </tr>\n",
       "    <tr>\n",
       "      <th>10</th>\n",
       "      <td>mpago</td>\n",
       "      <td>0.108571</td>\n",
       "    </tr>\n",
       "    <tr>\n",
       "      <th>9</th>\n",
       "      <td>farmacia</td>\n",
       "      <td>0.105741</td>\n",
       "    </tr>\n",
       "    <tr>\n",
       "      <th>6</th>\n",
       "      <td>no_def</td>\n",
       "      <td>0.090962</td>\n",
       "    </tr>\n",
       "  </tbody>\n",
       "</table>\n",
       "</div>"
      ],
      "text/plain": [
       "           predictores     index\n",
       "20            cashback  1.000000\n",
       "22          interes_tc  1.000000\n",
       "21            linea_tc  1.000000\n",
       "19                dcto  1.000000\n",
       "18               monto  1.000000\n",
       "25            sin_hora  0.525616\n",
       "23             sin_dia  0.514248\n",
       "24             cos_dia  0.484718\n",
       "26            cos_hora  0.472809\n",
       "5                    m  0.249999\n",
       "13           NA_ciudad  0.245500\n",
       "4                    f  0.239520\n",
       "7   NA_establecimiento  0.234406\n",
       "1              virtual  0.209695\n",
       "0               fisica  0.209695\n",
       "17              toluca  0.126219\n",
       "14         guadalajara  0.121904\n",
       "15              merida  0.119986\n",
       "16           monterrey  0.118511\n",
       "3             si_prime  0.114530\n",
       "2             no_prime  0.114530\n",
       "11         restaurante  0.111649\n",
       "8            abarrotes  0.110571\n",
       "12               super  0.110211\n",
       "10               mpago  0.108571\n",
       "9             farmacia  0.105741\n",
       "6               no_def  0.090962"
      ]
     },
     "execution_count": 468,
     "metadata": {},
     "output_type": "execute_result"
    }
   ],
   "source": [
    "impor_var.reset_index().iloc[:, [2,0]].sort_values(by = 'index', ascending=False)"
   ]
  },
  {
   "cell_type": "markdown",
   "metadata": {},
   "source": [
    "### Selección de variables (RF)"
   ]
  },
  {
   "cell_type": "code",
   "execution_count": 469,
   "metadata": {},
   "outputs": [
    {
     "data": {
      "text/plain": [
       "array([0, 0, 0, ..., 0, 0, 0])"
      ]
     },
     "execution_count": 469,
     "metadata": {},
     "output_type": "execute_result"
    }
   ],
   "source": [
    "y = df['fraude'].values\n",
    "y"
   ]
  },
  {
   "cell_type": "code",
   "execution_count": 470,
   "metadata": {},
   "outputs": [
    {
     "data": {
      "text/plain": [
       "array([[ 1.        ,  0.        ,  1.        , ..., -0.30901699,\n",
       "        -0.8660254 ,  0.5       ],\n",
       "       [ 0.        ,  1.        ,  1.        , ..., -1.        ,\n",
       "         0.96592583, -0.25881905],\n",
       "       [ 0.        ,  1.        ,  1.        , ..., -0.91354546,\n",
       "         0.25881905, -0.96592583],\n",
       "       ...,\n",
       "       [ 0.        ,  1.        ,  1.        , ..., -0.9781476 ,\n",
       "         0.25881905, -0.96592583],\n",
       "       [ 1.        ,  0.        ,  1.        , ..., -0.91354546,\n",
       "        -0.96592583, -0.25881905],\n",
       "       [ 1.        ,  0.        ,  1.        , ...,  0.80901699,\n",
       "        -0.8660254 ,  0.5       ]])"
      ]
     },
     "execution_count": 470,
     "metadata": {},
     "output_type": "execute_result"
    }
   ],
   "source": [
    "X = df_transformed\n",
    "X"
   ]
  },
  {
   "cell_type": "code",
   "execution_count": 471,
   "metadata": {},
   "outputs": [
    {
     "name": "stdout",
     "output_type": "stream",
     "text": [
      "(26975, 27) (26975,)\n"
     ]
    }
   ],
   "source": [
    "print(X.shape, y.shape)"
   ]
  },
  {
   "cell_type": "code",
   "execution_count": 472,
   "metadata": {},
   "outputs": [
    {
     "name": "stdout",
     "output_type": "stream",
     "text": [
      "Tiempo de ejecución:  203.53188395500183\n"
     ]
    }
   ],
   "source": [
    "# ocuparemos un RF\n",
    "classifier = RandomForestClassifier(oob_score=True, random_state=1234)\n",
    "\n",
    "# separando en train, test\n",
    "X_train, X_test, y_train, y_test = train_test_split(X, y)\n",
    "\n",
    "# definicion de los hiperparametros que queremos probar\n",
    "hyper_param_grid = {'n_estimators': [100,200,300], \n",
    "                    'max_depth': [1, 2, 3],\n",
    "                    'min_samples_split': [2, 3, 5, 7]}\n",
    "\n",
    "# ocupemos grid search!\n",
    "gs = GridSearchCV(classifier, \n",
    "                           hyper_param_grid, \n",
    "                           scoring = 'precision', #\n",
    "                           cv = 5, \n",
    "                           n_jobs = -1)\n",
    "\n",
    "start_time = time.time()\n",
    "gs.fit(X, y)\n",
    "print(\"Tiempo de ejecución: \", time.time() - start_time)"
   ]
  },
  {
   "cell_type": "code",
   "execution_count": 473,
   "metadata": {},
   "outputs": [
    {
     "data": {
      "text/plain": [
       "{'max_depth': 1, 'min_samples_split': 2, 'n_estimators': 100}"
      ]
     },
     "execution_count": 473,
     "metadata": {},
     "output_type": "execute_result"
    }
   ],
   "source": [
    "gs.best_params_"
   ]
  },
  {
   "cell_type": "code",
   "execution_count": 474,
   "metadata": {},
   "outputs": [
    {
     "data": {
      "text/plain": [
       "RandomForestClassifier(max_depth=1, oob_score=True, random_state=1234)"
      ]
     },
     "execution_count": 474,
     "metadata": {},
     "output_type": "execute_result"
    }
   ],
   "source": [
    "gs.best_estimator_"
   ]
  },
  {
   "cell_type": "code",
   "execution_count": 475,
   "metadata": {},
   "outputs": [
    {
     "data": {
      "text/plain": [
       "0.9699721964782205"
      ]
     },
     "execution_count": 475,
     "metadata": {},
     "output_type": "execute_result"
    }
   ],
   "source": [
    "gs.best_estimator_.oob_score_"
   ]
  },
  {
   "cell_type": "code",
   "execution_count": 476,
   "metadata": {},
   "outputs": [],
   "source": [
    "etiquetas_predichas = gs.predict(X_test)"
   ]
  },
  {
   "cell_type": "code",
   "execution_count": 477,
   "metadata": {},
   "outputs": [
    {
     "data": {
      "text/plain": [
       "array([0, 0, 0, ..., 0, 0, 0])"
      ]
     },
     "execution_count": 477,
     "metadata": {},
     "output_type": "execute_result"
    }
   ],
   "source": [
    "etiquetas_predichas"
   ]
  },
  {
   "cell_type": "code",
   "execution_count": 478,
   "metadata": {},
   "outputs": [
    {
     "data": {
      "text/plain": [
       "array([[0.97015106, 0.02984894],\n",
       "       [0.969568  , 0.030432  ],\n",
       "       [0.96980907, 0.03019093],\n",
       "       ...,\n",
       "       [0.96945524, 0.03054476],\n",
       "       [0.96961627, 0.03038373],\n",
       "       [0.96997128, 0.03002872]])"
      ]
     },
     "execution_count": 478,
     "metadata": {},
     "output_type": "execute_result"
    }
   ],
   "source": [
    "score_predicho = gs.predict_proba(X_test)\n",
    "score_predicho"
   ]
  },
  {
   "cell_type": "code",
   "execution_count": 479,
   "metadata": {},
   "outputs": [
    {
     "data": {
      "text/plain": [
       "array([0.  , 0.  , 0.01, 0.01, 0.02, 0.02, 0.  , 0.04, 0.  , 0.01, 0.03,\n",
       "       0.02, 0.02, 0.01, 0.01, 0.  , 0.01, 0.02, 0.08, 0.13, 0.11, 0.09,\n",
       "       0.06, 0.06, 0.09, 0.08, 0.07])"
      ]
     },
     "execution_count": 479,
     "metadata": {},
     "output_type": "execute_result"
    }
   ],
   "source": [
    "gs.best_estimator_.feature_importances_"
   ]
  },
  {
   "cell_type": "code",
   "execution_count": 480,
   "metadata": {},
   "outputs": [],
   "source": [
    "importancias = pd.DataFrame(colnames ,gs.best_estimator_.feature_importances_)"
   ]
  },
  {
   "cell_type": "code",
   "execution_count": 481,
   "metadata": {},
   "outputs": [],
   "source": [
    "importancias['predictores'] = importancias.loc[:,0]"
   ]
  },
  {
   "cell_type": "code",
   "execution_count": 482,
   "metadata": {},
   "outputs": [
    {
     "data": {
      "text/html": [
       "<div>\n",
       "<style scoped>\n",
       "    .dataframe tbody tr th:only-of-type {\n",
       "        vertical-align: middle;\n",
       "    }\n",
       "\n",
       "    .dataframe tbody tr th {\n",
       "        vertical-align: top;\n",
       "    }\n",
       "\n",
       "    .dataframe thead th {\n",
       "        text-align: right;\n",
       "    }\n",
       "</style>\n",
       "<table border=\"1\" class=\"dataframe\">\n",
       "  <thead>\n",
       "    <tr style=\"text-align: right;\">\n",
       "      <th></th>\n",
       "      <th>predictores</th>\n",
       "      <th>index</th>\n",
       "    </tr>\n",
       "  </thead>\n",
       "  <tbody>\n",
       "    <tr>\n",
       "      <th>19</th>\n",
       "      <td>dcto</td>\n",
       "      <td>0.13</td>\n",
       "    </tr>\n",
       "    <tr>\n",
       "      <th>20</th>\n",
       "      <td>cashback</td>\n",
       "      <td>0.11</td>\n",
       "    </tr>\n",
       "    <tr>\n",
       "      <th>24</th>\n",
       "      <td>cos_dia</td>\n",
       "      <td>0.09</td>\n",
       "    </tr>\n",
       "    <tr>\n",
       "      <th>21</th>\n",
       "      <td>linea_tc</td>\n",
       "      <td>0.09</td>\n",
       "    </tr>\n",
       "    <tr>\n",
       "      <th>25</th>\n",
       "      <td>sin_hora</td>\n",
       "      <td>0.08</td>\n",
       "    </tr>\n",
       "    <tr>\n",
       "      <th>18</th>\n",
       "      <td>monto</td>\n",
       "      <td>0.08</td>\n",
       "    </tr>\n",
       "    <tr>\n",
       "      <th>26</th>\n",
       "      <td>cos_hora</td>\n",
       "      <td>0.07</td>\n",
       "    </tr>\n",
       "    <tr>\n",
       "      <th>23</th>\n",
       "      <td>sin_dia</td>\n",
       "      <td>0.06</td>\n",
       "    </tr>\n",
       "    <tr>\n",
       "      <th>22</th>\n",
       "      <td>interes_tc</td>\n",
       "      <td>0.06</td>\n",
       "    </tr>\n",
       "    <tr>\n",
       "      <th>7</th>\n",
       "      <td>NA_establecimiento</td>\n",
       "      <td>0.04</td>\n",
       "    </tr>\n",
       "    <tr>\n",
       "      <th>10</th>\n",
       "      <td>mpago</td>\n",
       "      <td>0.03</td>\n",
       "    </tr>\n",
       "    <tr>\n",
       "      <th>17</th>\n",
       "      <td>toluca</td>\n",
       "      <td>0.02</td>\n",
       "    </tr>\n",
       "    <tr>\n",
       "      <th>4</th>\n",
       "      <td>f</td>\n",
       "      <td>0.02</td>\n",
       "    </tr>\n",
       "    <tr>\n",
       "      <th>5</th>\n",
       "      <td>m</td>\n",
       "      <td>0.02</td>\n",
       "    </tr>\n",
       "    <tr>\n",
       "      <th>11</th>\n",
       "      <td>restaurante</td>\n",
       "      <td>0.02</td>\n",
       "    </tr>\n",
       "    <tr>\n",
       "      <th>12</th>\n",
       "      <td>super</td>\n",
       "      <td>0.02</td>\n",
       "    </tr>\n",
       "    <tr>\n",
       "      <th>13</th>\n",
       "      <td>NA_ciudad</td>\n",
       "      <td>0.01</td>\n",
       "    </tr>\n",
       "    <tr>\n",
       "      <th>16</th>\n",
       "      <td>monterrey</td>\n",
       "      <td>0.01</td>\n",
       "    </tr>\n",
       "    <tr>\n",
       "      <th>14</th>\n",
       "      <td>guadalajara</td>\n",
       "      <td>0.01</td>\n",
       "    </tr>\n",
       "    <tr>\n",
       "      <th>9</th>\n",
       "      <td>farmacia</td>\n",
       "      <td>0.01</td>\n",
       "    </tr>\n",
       "    <tr>\n",
       "      <th>3</th>\n",
       "      <td>si_prime</td>\n",
       "      <td>0.01</td>\n",
       "    </tr>\n",
       "    <tr>\n",
       "      <th>2</th>\n",
       "      <td>no_prime</td>\n",
       "      <td>0.01</td>\n",
       "    </tr>\n",
       "    <tr>\n",
       "      <th>15</th>\n",
       "      <td>merida</td>\n",
       "      <td>0.00</td>\n",
       "    </tr>\n",
       "    <tr>\n",
       "      <th>1</th>\n",
       "      <td>virtual</td>\n",
       "      <td>0.00</td>\n",
       "    </tr>\n",
       "    <tr>\n",
       "      <th>8</th>\n",
       "      <td>abarrotes</td>\n",
       "      <td>0.00</td>\n",
       "    </tr>\n",
       "    <tr>\n",
       "      <th>6</th>\n",
       "      <td>no_def</td>\n",
       "      <td>0.00</td>\n",
       "    </tr>\n",
       "    <tr>\n",
       "      <th>0</th>\n",
       "      <td>fisica</td>\n",
       "      <td>0.00</td>\n",
       "    </tr>\n",
       "  </tbody>\n",
       "</table>\n",
       "</div>"
      ],
      "text/plain": [
       "           predictores  index\n",
       "19                dcto   0.13\n",
       "20            cashback   0.11\n",
       "24             cos_dia   0.09\n",
       "21            linea_tc   0.09\n",
       "25            sin_hora   0.08\n",
       "18               monto   0.08\n",
       "26            cos_hora   0.07\n",
       "23             sin_dia   0.06\n",
       "22          interes_tc   0.06\n",
       "7   NA_establecimiento   0.04\n",
       "10               mpago   0.03\n",
       "17              toluca   0.02\n",
       "4                    f   0.02\n",
       "5                    m   0.02\n",
       "11         restaurante   0.02\n",
       "12               super   0.02\n",
       "13           NA_ciudad   0.01\n",
       "16           monterrey   0.01\n",
       "14         guadalajara   0.01\n",
       "9             farmacia   0.01\n",
       "3             si_prime   0.01\n",
       "2             no_prime   0.01\n",
       "15              merida   0.00\n",
       "1              virtual   0.00\n",
       "8            abarrotes   0.00\n",
       "6               no_def   0.00\n",
       "0               fisica   0.00"
      ]
     },
     "execution_count": 482,
     "metadata": {},
     "output_type": "execute_result"
    }
   ],
   "source": [
    "importancias.reset_index().iloc[:, [2,0]].sort_values(by = 'index', ascending=False)"
   ]
  },
  {
   "cell_type": "code",
   "execution_count": 483,
   "metadata": {},
   "outputs": [
    {
     "data": {
      "text/html": [
       "<div>\n",
       "<style scoped>\n",
       "    .dataframe tbody tr th:only-of-type {\n",
       "        vertical-align: middle;\n",
       "    }\n",
       "\n",
       "    .dataframe tbody tr th {\n",
       "        vertical-align: top;\n",
       "    }\n",
       "\n",
       "    .dataframe thead th {\n",
       "        text-align: right;\n",
       "    }\n",
       "</style>\n",
       "<table border=\"1\" class=\"dataframe\">\n",
       "  <thead>\n",
       "    <tr style=\"text-align: right;\">\n",
       "      <th></th>\n",
       "      <th>fisica</th>\n",
       "      <th>virtual</th>\n",
       "      <th>no_prime</th>\n",
       "      <th>si_prime</th>\n",
       "      <th>f</th>\n",
       "      <th>m</th>\n",
       "      <th>no_def</th>\n",
       "      <th>NA_establecimiento</th>\n",
       "      <th>abarrotes</th>\n",
       "      <th>farmacia</th>\n",
       "      <th>...</th>\n",
       "      <th>monto</th>\n",
       "      <th>dcto</th>\n",
       "      <th>cashback</th>\n",
       "      <th>linea_tc</th>\n",
       "      <th>interes_tc</th>\n",
       "      <th>sin_dia</th>\n",
       "      <th>cos_dia</th>\n",
       "      <th>sin_hora</th>\n",
       "      <th>cos_hora</th>\n",
       "      <th>id</th>\n",
       "    </tr>\n",
       "  </thead>\n",
       "  <tbody>\n",
       "    <tr>\n",
       "      <th>0</th>\n",
       "      <td>1.0</td>\n",
       "      <td>0.0</td>\n",
       "      <td>1.0</td>\n",
       "      <td>0.0</td>\n",
       "      <td>1.0</td>\n",
       "      <td>0.0</td>\n",
       "      <td>0.0</td>\n",
       "      <td>0.0</td>\n",
       "      <td>0.0</td>\n",
       "      <td>0.0</td>\n",
       "      <td>...</td>\n",
       "      <td>0.377721</td>\n",
       "      <td>1.263136</td>\n",
       "      <td>-0.176315</td>\n",
       "      <td>0.389427</td>\n",
       "      <td>0.289465</td>\n",
       "      <td>-9.510565e-01</td>\n",
       "      <td>-0.309017</td>\n",
       "      <td>-0.866025</td>\n",
       "      <td>0.500000</td>\n",
       "      <td>0</td>\n",
       "    </tr>\n",
       "    <tr>\n",
       "      <th>1</th>\n",
       "      <td>0.0</td>\n",
       "      <td>1.0</td>\n",
       "      <td>1.0</td>\n",
       "      <td>0.0</td>\n",
       "      <td>1.0</td>\n",
       "      <td>0.0</td>\n",
       "      <td>0.0</td>\n",
       "      <td>1.0</td>\n",
       "      <td>0.0</td>\n",
       "      <td>0.0</td>\n",
       "      <td>...</td>\n",
       "      <td>-1.418404</td>\n",
       "      <td>-0.508714</td>\n",
       "      <td>-1.006380</td>\n",
       "      <td>0.389427</td>\n",
       "      <td>0.289465</td>\n",
       "      <td>5.665539e-16</td>\n",
       "      <td>-1.000000</td>\n",
       "      <td>0.965926</td>\n",
       "      <td>-0.258819</td>\n",
       "      <td>0</td>\n",
       "    </tr>\n",
       "    <tr>\n",
       "      <th>2</th>\n",
       "      <td>0.0</td>\n",
       "      <td>1.0</td>\n",
       "      <td>1.0</td>\n",
       "      <td>0.0</td>\n",
       "      <td>1.0</td>\n",
       "      <td>0.0</td>\n",
       "      <td>0.0</td>\n",
       "      <td>1.0</td>\n",
       "      <td>0.0</td>\n",
       "      <td>0.0</td>\n",
       "      <td>...</td>\n",
       "      <td>1.005752</td>\n",
       "      <td>-0.508714</td>\n",
       "      <td>2.139704</td>\n",
       "      <td>1.440304</td>\n",
       "      <td>0.811001</td>\n",
       "      <td>-4.067366e-01</td>\n",
       "      <td>-0.913545</td>\n",
       "      <td>0.258819</td>\n",
       "      <td>-0.965926</td>\n",
       "      <td>1</td>\n",
       "    </tr>\n",
       "    <tr>\n",
       "      <th>3</th>\n",
       "      <td>1.0</td>\n",
       "      <td>0.0</td>\n",
       "      <td>1.0</td>\n",
       "      <td>0.0</td>\n",
       "      <td>1.0</td>\n",
       "      <td>0.0</td>\n",
       "      <td>0.0</td>\n",
       "      <td>0.0</td>\n",
       "      <td>0.0</td>\n",
       "      <td>0.0</td>\n",
       "      <td>...</td>\n",
       "      <td>0.926139</td>\n",
       "      <td>-0.508714</td>\n",
       "      <td>0.316006</td>\n",
       "      <td>1.440304</td>\n",
       "      <td>0.811001</td>\n",
       "      <td>8.660254e-01</td>\n",
       "      <td>0.500000</td>\n",
       "      <td>0.258819</td>\n",
       "      <td>-0.965926</td>\n",
       "      <td>1</td>\n",
       "    </tr>\n",
       "    <tr>\n",
       "      <th>4</th>\n",
       "      <td>1.0</td>\n",
       "      <td>0.0</td>\n",
       "      <td>1.0</td>\n",
       "      <td>0.0</td>\n",
       "      <td>1.0</td>\n",
       "      <td>0.0</td>\n",
       "      <td>0.0</td>\n",
       "      <td>1.0</td>\n",
       "      <td>0.0</td>\n",
       "      <td>0.0</td>\n",
       "      <td>...</td>\n",
       "      <td>-0.846509</td>\n",
       "      <td>-0.508714</td>\n",
       "      <td>-0.834270</td>\n",
       "      <td>1.440304</td>\n",
       "      <td>0.811001</td>\n",
       "      <td>-1.133108e-15</td>\n",
       "      <td>1.000000</td>\n",
       "      <td>0.500000</td>\n",
       "      <td>-0.866025</td>\n",
       "      <td>1</td>\n",
       "    </tr>\n",
       "    <tr>\n",
       "      <th>...</th>\n",
       "      <td>...</td>\n",
       "      <td>...</td>\n",
       "      <td>...</td>\n",
       "      <td>...</td>\n",
       "      <td>...</td>\n",
       "      <td>...</td>\n",
       "      <td>...</td>\n",
       "      <td>...</td>\n",
       "      <td>...</td>\n",
       "      <td>...</td>\n",
       "      <td>...</td>\n",
       "      <td>...</td>\n",
       "      <td>...</td>\n",
       "      <td>...</td>\n",
       "      <td>...</td>\n",
       "      <td>...</td>\n",
       "      <td>...</td>\n",
       "      <td>...</td>\n",
       "      <td>...</td>\n",
       "      <td>...</td>\n",
       "      <td>...</td>\n",
       "    </tr>\n",
       "    <tr>\n",
       "      <th>26970</th>\n",
       "      <td>1.0</td>\n",
       "      <td>0.0</td>\n",
       "      <td>1.0</td>\n",
       "      <td>0.0</td>\n",
       "      <td>0.0</td>\n",
       "      <td>1.0</td>\n",
       "      <td>0.0</td>\n",
       "      <td>1.0</td>\n",
       "      <td>0.0</td>\n",
       "      <td>0.0</td>\n",
       "      <td>...</td>\n",
       "      <td>0.854196</td>\n",
       "      <td>-0.508714</td>\n",
       "      <td>0.269322</td>\n",
       "      <td>-1.026972</td>\n",
       "      <td>0.811001</td>\n",
       "      <td>9.945219e-01</td>\n",
       "      <td>-0.104528</td>\n",
       "      <td>-0.258819</td>\n",
       "      <td>-0.965926</td>\n",
       "      <td>3999</td>\n",
       "    </tr>\n",
       "    <tr>\n",
       "      <th>26971</th>\n",
       "      <td>1.0</td>\n",
       "      <td>0.0</td>\n",
       "      <td>1.0</td>\n",
       "      <td>0.0</td>\n",
       "      <td>0.0</td>\n",
       "      <td>1.0</td>\n",
       "      <td>0.0</td>\n",
       "      <td>1.0</td>\n",
       "      <td>0.0</td>\n",
       "      <td>0.0</td>\n",
       "      <td>...</td>\n",
       "      <td>1.530346</td>\n",
       "      <td>-0.508714</td>\n",
       "      <td>0.708078</td>\n",
       "      <td>-1.026972</td>\n",
       "      <td>0.811001</td>\n",
       "      <td>2.079117e-01</td>\n",
       "      <td>-0.978148</td>\n",
       "      <td>-0.707107</td>\n",
       "      <td>-0.707107</td>\n",
       "      <td>3999</td>\n",
       "    </tr>\n",
       "    <tr>\n",
       "      <th>26972</th>\n",
       "      <td>0.0</td>\n",
       "      <td>1.0</td>\n",
       "      <td>1.0</td>\n",
       "      <td>0.0</td>\n",
       "      <td>0.0</td>\n",
       "      <td>1.0</td>\n",
       "      <td>0.0</td>\n",
       "      <td>1.0</td>\n",
       "      <td>0.0</td>\n",
       "      <td>0.0</td>\n",
       "      <td>...</td>\n",
       "      <td>-0.856813</td>\n",
       "      <td>-0.508714</td>\n",
       "      <td>-0.277543</td>\n",
       "      <td>-1.026972</td>\n",
       "      <td>0.811001</td>\n",
       "      <td>-2.079117e-01</td>\n",
       "      <td>-0.978148</td>\n",
       "      <td>0.258819</td>\n",
       "      <td>-0.965926</td>\n",
       "      <td>3999</td>\n",
       "    </tr>\n",
       "    <tr>\n",
       "      <th>26973</th>\n",
       "      <td>1.0</td>\n",
       "      <td>0.0</td>\n",
       "      <td>1.0</td>\n",
       "      <td>0.0</td>\n",
       "      <td>0.0</td>\n",
       "      <td>1.0</td>\n",
       "      <td>0.0</td>\n",
       "      <td>1.0</td>\n",
       "      <td>0.0</td>\n",
       "      <td>0.0</td>\n",
       "      <td>...</td>\n",
       "      <td>-1.641479</td>\n",
       "      <td>-0.438280</td>\n",
       "      <td>-1.355553</td>\n",
       "      <td>-1.026972</td>\n",
       "      <td>0.811001</td>\n",
       "      <td>4.067366e-01</td>\n",
       "      <td>-0.913545</td>\n",
       "      <td>-0.965926</td>\n",
       "      <td>-0.258819</td>\n",
       "      <td>3999</td>\n",
       "    </tr>\n",
       "    <tr>\n",
       "      <th>26974</th>\n",
       "      <td>1.0</td>\n",
       "      <td>0.0</td>\n",
       "      <td>1.0</td>\n",
       "      <td>0.0</td>\n",
       "      <td>0.0</td>\n",
       "      <td>1.0</td>\n",
       "      <td>0.0</td>\n",
       "      <td>0.0</td>\n",
       "      <td>0.0</td>\n",
       "      <td>0.0</td>\n",
       "      <td>...</td>\n",
       "      <td>0.062701</td>\n",
       "      <td>-0.508714</td>\n",
       "      <td>-0.244281</td>\n",
       "      <td>-1.026972</td>\n",
       "      <td>0.811001</td>\n",
       "      <td>5.877853e-01</td>\n",
       "      <td>0.809017</td>\n",
       "      <td>-0.866025</td>\n",
       "      <td>0.500000</td>\n",
       "      <td>3999</td>\n",
       "    </tr>\n",
       "  </tbody>\n",
       "</table>\n",
       "<p>26975 rows × 28 columns</p>\n",
       "</div>"
      ],
      "text/plain": [
       "       fisica  virtual  no_prime  si_prime    f    m  no_def  \\\n",
       "0         1.0      0.0       1.0       0.0  1.0  0.0     0.0   \n",
       "1         0.0      1.0       1.0       0.0  1.0  0.0     0.0   \n",
       "2         0.0      1.0       1.0       0.0  1.0  0.0     0.0   \n",
       "3         1.0      0.0       1.0       0.0  1.0  0.0     0.0   \n",
       "4         1.0      0.0       1.0       0.0  1.0  0.0     0.0   \n",
       "...       ...      ...       ...       ...  ...  ...     ...   \n",
       "26970     1.0      0.0       1.0       0.0  0.0  1.0     0.0   \n",
       "26971     1.0      0.0       1.0       0.0  0.0  1.0     0.0   \n",
       "26972     0.0      1.0       1.0       0.0  0.0  1.0     0.0   \n",
       "26973     1.0      0.0       1.0       0.0  0.0  1.0     0.0   \n",
       "26974     1.0      0.0       1.0       0.0  0.0  1.0     0.0   \n",
       "\n",
       "       NA_establecimiento  abarrotes  farmacia  ...     monto      dcto  \\\n",
       "0                     0.0        0.0       0.0  ...  0.377721  1.263136   \n",
       "1                     1.0        0.0       0.0  ... -1.418404 -0.508714   \n",
       "2                     1.0        0.0       0.0  ...  1.005752 -0.508714   \n",
       "3                     0.0        0.0       0.0  ...  0.926139 -0.508714   \n",
       "4                     1.0        0.0       0.0  ... -0.846509 -0.508714   \n",
       "...                   ...        ...       ...  ...       ...       ...   \n",
       "26970                 1.0        0.0       0.0  ...  0.854196 -0.508714   \n",
       "26971                 1.0        0.0       0.0  ...  1.530346 -0.508714   \n",
       "26972                 1.0        0.0       0.0  ... -0.856813 -0.508714   \n",
       "26973                 1.0        0.0       0.0  ... -1.641479 -0.438280   \n",
       "26974                 0.0        0.0       0.0  ...  0.062701 -0.508714   \n",
       "\n",
       "       cashback  linea_tc  interes_tc       sin_dia   cos_dia  sin_hora  \\\n",
       "0     -0.176315  0.389427    0.289465 -9.510565e-01 -0.309017 -0.866025   \n",
       "1     -1.006380  0.389427    0.289465  5.665539e-16 -1.000000  0.965926   \n",
       "2      2.139704  1.440304    0.811001 -4.067366e-01 -0.913545  0.258819   \n",
       "3      0.316006  1.440304    0.811001  8.660254e-01  0.500000  0.258819   \n",
       "4     -0.834270  1.440304    0.811001 -1.133108e-15  1.000000  0.500000   \n",
       "...         ...       ...         ...           ...       ...       ...   \n",
       "26970  0.269322 -1.026972    0.811001  9.945219e-01 -0.104528 -0.258819   \n",
       "26971  0.708078 -1.026972    0.811001  2.079117e-01 -0.978148 -0.707107   \n",
       "26972 -0.277543 -1.026972    0.811001 -2.079117e-01 -0.978148  0.258819   \n",
       "26973 -1.355553 -1.026972    0.811001  4.067366e-01 -0.913545 -0.965926   \n",
       "26974 -0.244281 -1.026972    0.811001  5.877853e-01  0.809017 -0.866025   \n",
       "\n",
       "       cos_hora    id  \n",
       "0      0.500000     0  \n",
       "1     -0.258819     0  \n",
       "2     -0.965926     1  \n",
       "3     -0.965926     1  \n",
       "4     -0.866025     1  \n",
       "...         ...   ...  \n",
       "26970 -0.965926  3999  \n",
       "26971 -0.707107  3999  \n",
       "26972 -0.965926  3999  \n",
       "26973 -0.258819  3999  \n",
       "26974  0.500000  3999  \n",
       "\n",
       "[26975 rows x 28 columns]"
      ]
     },
     "execution_count": 483,
     "metadata": {},
     "output_type": "execute_result"
    }
   ],
   "source": [
    "final_df"
   ]
  },
  {
   "cell_type": "code",
   "execution_count": 484,
   "metadata": {},
   "outputs": [],
   "source": [
    "import joblib\n",
    "\n",
    "def save_df(df, path):\n",
    "    joblib.dump(df, path)"
   ]
  },
  {
   "cell_type": "code",
   "execution_count": 513,
   "metadata": {},
   "outputs": [],
   "source": [
    "# Agregamos etiqueta antes de guardar\n",
    "final_df['fraude']=df['fraude']\n",
    "final_df['fecha']=df['fecha']"
   ]
  },
  {
   "cell_type": "code",
   "execution_count": 514,
   "metadata": {},
   "outputs": [],
   "source": [
    "save_df(final_df,'../tmp/fe_df.pkl' )"
   ]
  },
  {
   "cell_type": "code",
   "execution_count": null,
   "metadata": {},
   "outputs": [],
   "source": []
  }
 ],
 "metadata": {
  "kernelspec": {
   "display_name": "dpa_env",
   "language": "python",
   "name": "dpa_env"
  },
  "language_info": {
   "codemirror_mode": {
    "name": "ipython",
    "version": 3
   },
   "file_extension": ".py",
   "mimetype": "text/x-python",
   "name": "python",
   "nbconvert_exporter": "python",
   "pygments_lexer": "ipython3",
   "version": "3.7.4"
  }
 },
 "nbformat": 4,
 "nbformat_minor": 4
}
