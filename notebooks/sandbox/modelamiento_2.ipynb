{
 "cells": [
  {
   "cell_type": "code",
   "execution_count": 13,
   "metadata": {},
   "outputs": [],
   "source": [
    "# librerias\n",
    "import pandas as pd\n",
    "import numpy as np"
   ]
  },
  {
   "cell_type": "code",
   "execution_count": 2,
   "metadata": {},
   "outputs": [],
   "source": [
    "import joblib\n",
    "\n",
    "def load_df(path):\n",
    "    df = joblib.load(path)\n",
    "    return df"
   ]
  },
  {
   "cell_type": "code",
   "execution_count": 8,
   "metadata": {},
   "outputs": [],
   "source": [
    "df = load_df('../tmp/fe_df.pkl')"
   ]
  },
  {
   "cell_type": "code",
   "execution_count": 9,
   "metadata": {},
   "outputs": [
    {
     "data": {
      "text/html": [
       "<div>\n",
       "<style scoped>\n",
       "    .dataframe tbody tr th:only-of-type {\n",
       "        vertical-align: middle;\n",
       "    }\n",
       "\n",
       "    .dataframe tbody tr th {\n",
       "        vertical-align: top;\n",
       "    }\n",
       "\n",
       "    .dataframe thead th {\n",
       "        text-align: right;\n",
       "    }\n",
       "</style>\n",
       "<table border=\"1\" class=\"dataframe\">\n",
       "  <thead>\n",
       "    <tr style=\"text-align: right;\">\n",
       "      <th></th>\n",
       "      <th>fisica</th>\n",
       "      <th>virtual</th>\n",
       "      <th>no_prime</th>\n",
       "      <th>si_prime</th>\n",
       "      <th>f</th>\n",
       "      <th>m</th>\n",
       "      <th>no_def</th>\n",
       "      <th>NA_establecimiento</th>\n",
       "      <th>abarrotes</th>\n",
       "      <th>farmacia</th>\n",
       "      <th>...</th>\n",
       "      <th>dcto</th>\n",
       "      <th>cashback</th>\n",
       "      <th>linea_tc</th>\n",
       "      <th>interes_tc</th>\n",
       "      <th>sin_dia</th>\n",
       "      <th>cos_dia</th>\n",
       "      <th>sin_hora</th>\n",
       "      <th>cos_hora</th>\n",
       "      <th>fraude</th>\n",
       "      <th>fecha</th>\n",
       "    </tr>\n",
       "  </thead>\n",
       "  <tbody>\n",
       "    <tr>\n",
       "      <th>0</th>\n",
       "      <td>1.0</td>\n",
       "      <td>0.0</td>\n",
       "      <td>1.0</td>\n",
       "      <td>0.0</td>\n",
       "      <td>1.0</td>\n",
       "      <td>0.0</td>\n",
       "      <td>0.0</td>\n",
       "      <td>0.0</td>\n",
       "      <td>0.0</td>\n",
       "      <td>0.0</td>\n",
       "      <td>...</td>\n",
       "      <td>1.263136</td>\n",
       "      <td>-0.176315</td>\n",
       "      <td>0.389427</td>\n",
       "      <td>0.289465</td>\n",
       "      <td>-9.510565e-01</td>\n",
       "      <td>-0.309017</td>\n",
       "      <td>-0.866025</td>\n",
       "      <td>0.500000</td>\n",
       "      <td>0</td>\n",
       "      <td>2020-01-21</td>\n",
       "    </tr>\n",
       "    <tr>\n",
       "      <th>1</th>\n",
       "      <td>0.0</td>\n",
       "      <td>1.0</td>\n",
       "      <td>1.0</td>\n",
       "      <td>0.0</td>\n",
       "      <td>1.0</td>\n",
       "      <td>0.0</td>\n",
       "      <td>0.0</td>\n",
       "      <td>1.0</td>\n",
       "      <td>0.0</td>\n",
       "      <td>0.0</td>\n",
       "      <td>...</td>\n",
       "      <td>-0.508714</td>\n",
       "      <td>-1.006380</td>\n",
       "      <td>0.389427</td>\n",
       "      <td>0.289465</td>\n",
       "      <td>5.665539e-16</td>\n",
       "      <td>-1.000000</td>\n",
       "      <td>0.965926</td>\n",
       "      <td>-0.258819</td>\n",
       "      <td>0</td>\n",
       "      <td>2020-01-15</td>\n",
       "    </tr>\n",
       "    <tr>\n",
       "      <th>2</th>\n",
       "      <td>0.0</td>\n",
       "      <td>1.0</td>\n",
       "      <td>1.0</td>\n",
       "      <td>0.0</td>\n",
       "      <td>1.0</td>\n",
       "      <td>0.0</td>\n",
       "      <td>0.0</td>\n",
       "      <td>1.0</td>\n",
       "      <td>0.0</td>\n",
       "      <td>0.0</td>\n",
       "      <td>...</td>\n",
       "      <td>-0.508714</td>\n",
       "      <td>2.139704</td>\n",
       "      <td>1.440304</td>\n",
       "      <td>0.811001</td>\n",
       "      <td>-4.067366e-01</td>\n",
       "      <td>-0.913545</td>\n",
       "      <td>0.258819</td>\n",
       "      <td>-0.965926</td>\n",
       "      <td>0</td>\n",
       "      <td>2020-01-17</td>\n",
       "    </tr>\n",
       "    <tr>\n",
       "      <th>3</th>\n",
       "      <td>1.0</td>\n",
       "      <td>0.0</td>\n",
       "      <td>1.0</td>\n",
       "      <td>0.0</td>\n",
       "      <td>1.0</td>\n",
       "      <td>0.0</td>\n",
       "      <td>0.0</td>\n",
       "      <td>0.0</td>\n",
       "      <td>0.0</td>\n",
       "      <td>0.0</td>\n",
       "      <td>...</td>\n",
       "      <td>-0.508714</td>\n",
       "      <td>0.316006</td>\n",
       "      <td>1.440304</td>\n",
       "      <td>0.811001</td>\n",
       "      <td>8.660254e-01</td>\n",
       "      <td>0.500000</td>\n",
       "      <td>0.258819</td>\n",
       "      <td>-0.965926</td>\n",
       "      <td>0</td>\n",
       "      <td>2020-01-05</td>\n",
       "    </tr>\n",
       "    <tr>\n",
       "      <th>4</th>\n",
       "      <td>1.0</td>\n",
       "      <td>0.0</td>\n",
       "      <td>1.0</td>\n",
       "      <td>0.0</td>\n",
       "      <td>1.0</td>\n",
       "      <td>0.0</td>\n",
       "      <td>0.0</td>\n",
       "      <td>1.0</td>\n",
       "      <td>0.0</td>\n",
       "      <td>0.0</td>\n",
       "      <td>...</td>\n",
       "      <td>-0.508714</td>\n",
       "      <td>-0.834270</td>\n",
       "      <td>1.440304</td>\n",
       "      <td>0.811001</td>\n",
       "      <td>-1.133108e-15</td>\n",
       "      <td>1.000000</td>\n",
       "      <td>0.500000</td>\n",
       "      <td>-0.866025</td>\n",
       "      <td>0</td>\n",
       "      <td>2020-01-30</td>\n",
       "    </tr>\n",
       "    <tr>\n",
       "      <th>...</th>\n",
       "      <td>...</td>\n",
       "      <td>...</td>\n",
       "      <td>...</td>\n",
       "      <td>...</td>\n",
       "      <td>...</td>\n",
       "      <td>...</td>\n",
       "      <td>...</td>\n",
       "      <td>...</td>\n",
       "      <td>...</td>\n",
       "      <td>...</td>\n",
       "      <td>...</td>\n",
       "      <td>...</td>\n",
       "      <td>...</td>\n",
       "      <td>...</td>\n",
       "      <td>...</td>\n",
       "      <td>...</td>\n",
       "      <td>...</td>\n",
       "      <td>...</td>\n",
       "      <td>...</td>\n",
       "      <td>...</td>\n",
       "      <td>...</td>\n",
       "    </tr>\n",
       "    <tr>\n",
       "      <th>26970</th>\n",
       "      <td>1.0</td>\n",
       "      <td>0.0</td>\n",
       "      <td>1.0</td>\n",
       "      <td>0.0</td>\n",
       "      <td>0.0</td>\n",
       "      <td>1.0</td>\n",
       "      <td>0.0</td>\n",
       "      <td>1.0</td>\n",
       "      <td>0.0</td>\n",
       "      <td>0.0</td>\n",
       "      <td>...</td>\n",
       "      <td>-0.508714</td>\n",
       "      <td>0.269322</td>\n",
       "      <td>-1.026972</td>\n",
       "      <td>0.811001</td>\n",
       "      <td>9.945219e-01</td>\n",
       "      <td>-0.104528</td>\n",
       "      <td>-0.258819</td>\n",
       "      <td>-0.965926</td>\n",
       "      <td>0</td>\n",
       "      <td>2020-01-08</td>\n",
       "    </tr>\n",
       "    <tr>\n",
       "      <th>26971</th>\n",
       "      <td>1.0</td>\n",
       "      <td>0.0</td>\n",
       "      <td>1.0</td>\n",
       "      <td>0.0</td>\n",
       "      <td>0.0</td>\n",
       "      <td>1.0</td>\n",
       "      <td>0.0</td>\n",
       "      <td>1.0</td>\n",
       "      <td>0.0</td>\n",
       "      <td>0.0</td>\n",
       "      <td>...</td>\n",
       "      <td>-0.508714</td>\n",
       "      <td>0.708078</td>\n",
       "      <td>-1.026972</td>\n",
       "      <td>0.811001</td>\n",
       "      <td>2.079117e-01</td>\n",
       "      <td>-0.978148</td>\n",
       "      <td>-0.707107</td>\n",
       "      <td>-0.707107</td>\n",
       "      <td>0</td>\n",
       "      <td>2020-01-14</td>\n",
       "    </tr>\n",
       "    <tr>\n",
       "      <th>26972</th>\n",
       "      <td>0.0</td>\n",
       "      <td>1.0</td>\n",
       "      <td>1.0</td>\n",
       "      <td>0.0</td>\n",
       "      <td>0.0</td>\n",
       "      <td>1.0</td>\n",
       "      <td>0.0</td>\n",
       "      <td>1.0</td>\n",
       "      <td>0.0</td>\n",
       "      <td>0.0</td>\n",
       "      <td>...</td>\n",
       "      <td>-0.508714</td>\n",
       "      <td>-0.277543</td>\n",
       "      <td>-1.026972</td>\n",
       "      <td>0.811001</td>\n",
       "      <td>-2.079117e-01</td>\n",
       "      <td>-0.978148</td>\n",
       "      <td>0.258819</td>\n",
       "      <td>-0.965926</td>\n",
       "      <td>0</td>\n",
       "      <td>2020-01-16</td>\n",
       "    </tr>\n",
       "    <tr>\n",
       "      <th>26973</th>\n",
       "      <td>1.0</td>\n",
       "      <td>0.0</td>\n",
       "      <td>1.0</td>\n",
       "      <td>0.0</td>\n",
       "      <td>0.0</td>\n",
       "      <td>1.0</td>\n",
       "      <td>0.0</td>\n",
       "      <td>1.0</td>\n",
       "      <td>0.0</td>\n",
       "      <td>0.0</td>\n",
       "      <td>...</td>\n",
       "      <td>-0.438280</td>\n",
       "      <td>-1.355553</td>\n",
       "      <td>-1.026972</td>\n",
       "      <td>0.811001</td>\n",
       "      <td>4.067366e-01</td>\n",
       "      <td>-0.913545</td>\n",
       "      <td>-0.965926</td>\n",
       "      <td>-0.258819</td>\n",
       "      <td>0</td>\n",
       "      <td>2020-01-13</td>\n",
       "    </tr>\n",
       "    <tr>\n",
       "      <th>26974</th>\n",
       "      <td>1.0</td>\n",
       "      <td>0.0</td>\n",
       "      <td>1.0</td>\n",
       "      <td>0.0</td>\n",
       "      <td>0.0</td>\n",
       "      <td>1.0</td>\n",
       "      <td>0.0</td>\n",
       "      <td>0.0</td>\n",
       "      <td>0.0</td>\n",
       "      <td>0.0</td>\n",
       "      <td>...</td>\n",
       "      <td>-0.508714</td>\n",
       "      <td>-0.244281</td>\n",
       "      <td>-1.026972</td>\n",
       "      <td>0.811001</td>\n",
       "      <td>5.877853e-01</td>\n",
       "      <td>0.809017</td>\n",
       "      <td>-0.866025</td>\n",
       "      <td>0.500000</td>\n",
       "      <td>0</td>\n",
       "      <td>2020-01-03</td>\n",
       "    </tr>\n",
       "  </tbody>\n",
       "</table>\n",
       "<p>26975 rows × 29 columns</p>\n",
       "</div>"
      ],
      "text/plain": [
       "       fisica  virtual  no_prime  si_prime    f    m  no_def  \\\n",
       "0         1.0      0.0       1.0       0.0  1.0  0.0     0.0   \n",
       "1         0.0      1.0       1.0       0.0  1.0  0.0     0.0   \n",
       "2         0.0      1.0       1.0       0.0  1.0  0.0     0.0   \n",
       "3         1.0      0.0       1.0       0.0  1.0  0.0     0.0   \n",
       "4         1.0      0.0       1.0       0.0  1.0  0.0     0.0   \n",
       "...       ...      ...       ...       ...  ...  ...     ...   \n",
       "26970     1.0      0.0       1.0       0.0  0.0  1.0     0.0   \n",
       "26971     1.0      0.0       1.0       0.0  0.0  1.0     0.0   \n",
       "26972     0.0      1.0       1.0       0.0  0.0  1.0     0.0   \n",
       "26973     1.0      0.0       1.0       0.0  0.0  1.0     0.0   \n",
       "26974     1.0      0.0       1.0       0.0  0.0  1.0     0.0   \n",
       "\n",
       "       NA_establecimiento  abarrotes  farmacia  ...      dcto  cashback  \\\n",
       "0                     0.0        0.0       0.0  ...  1.263136 -0.176315   \n",
       "1                     1.0        0.0       0.0  ... -0.508714 -1.006380   \n",
       "2                     1.0        0.0       0.0  ... -0.508714  2.139704   \n",
       "3                     0.0        0.0       0.0  ... -0.508714  0.316006   \n",
       "4                     1.0        0.0       0.0  ... -0.508714 -0.834270   \n",
       "...                   ...        ...       ...  ...       ...       ...   \n",
       "26970                 1.0        0.0       0.0  ... -0.508714  0.269322   \n",
       "26971                 1.0        0.0       0.0  ... -0.508714  0.708078   \n",
       "26972                 1.0        0.0       0.0  ... -0.508714 -0.277543   \n",
       "26973                 1.0        0.0       0.0  ... -0.438280 -1.355553   \n",
       "26974                 0.0        0.0       0.0  ... -0.508714 -0.244281   \n",
       "\n",
       "       linea_tc  interes_tc       sin_dia   cos_dia  sin_hora  cos_hora  \\\n",
       "0      0.389427    0.289465 -9.510565e-01 -0.309017 -0.866025  0.500000   \n",
       "1      0.389427    0.289465  5.665539e-16 -1.000000  0.965926 -0.258819   \n",
       "2      1.440304    0.811001 -4.067366e-01 -0.913545  0.258819 -0.965926   \n",
       "3      1.440304    0.811001  8.660254e-01  0.500000  0.258819 -0.965926   \n",
       "4      1.440304    0.811001 -1.133108e-15  1.000000  0.500000 -0.866025   \n",
       "...         ...         ...           ...       ...       ...       ...   \n",
       "26970 -1.026972    0.811001  9.945219e-01 -0.104528 -0.258819 -0.965926   \n",
       "26971 -1.026972    0.811001  2.079117e-01 -0.978148 -0.707107 -0.707107   \n",
       "26972 -1.026972    0.811001 -2.079117e-01 -0.978148  0.258819 -0.965926   \n",
       "26973 -1.026972    0.811001  4.067366e-01 -0.913545 -0.965926 -0.258819   \n",
       "26974 -1.026972    0.811001  5.877853e-01  0.809017 -0.866025  0.500000   \n",
       "\n",
       "       fraude      fecha  \n",
       "0           0 2020-01-21  \n",
       "1           0 2020-01-15  \n",
       "2           0 2020-01-17  \n",
       "3           0 2020-01-05  \n",
       "4           0 2020-01-30  \n",
       "...       ...        ...  \n",
       "26970       0 2020-01-08  \n",
       "26971       0 2020-01-14  \n",
       "26972       0 2020-01-16  \n",
       "26973       0 2020-01-13  \n",
       "26974       0 2020-01-03  \n",
       "\n",
       "[26975 rows x 29 columns]"
      ]
     },
     "execution_count": 9,
     "metadata": {},
     "output_type": "execute_result"
    }
   ],
   "source": [
    "df"
   ]
  },
  {
   "cell_type": "markdown",
   "metadata": {},
   "source": [
    "# Train and test data"
   ]
  },
  {
   "cell_type": "code",
   "execution_count": 11,
   "metadata": {},
   "outputs": [],
   "source": [
    "df = df.sort_values(by= ['fecha'])"
   ]
  },
  {
   "cell_type": "code",
   "execution_count": 14,
   "metadata": {},
   "outputs": [],
   "source": [
    "n = 0.80*df.shape[0]\n",
    "n = np.round(n).astype(int)"
   ]
  },
  {
   "cell_type": "code",
   "execution_count": 15,
   "metadata": {},
   "outputs": [],
   "source": [
    "df_train = df.iloc[0:n,:]\n",
    "df_test = df.iloc[n:,:]"
   ]
  },
  {
   "cell_type": "code",
   "execution_count": 17,
   "metadata": {},
   "outputs": [],
   "source": [
    "X_train = df_train.drop(['fraude','fecha'],1)\n",
    "y_train = df_train['fraude'].values\n",
    "X_test = df_test.drop(['fraude','fecha'],1)\n",
    "y_test = df_test['fraude'].values"
   ]
  },
  {
   "cell_type": "code",
   "execution_count": 18,
   "metadata": {},
   "outputs": [
    {
     "name": "stdout",
     "output_type": "stream",
     "text": [
      "X_train shape:  (21580, 27)\n",
      "y_train shape:  (21580,)\n",
      "X_test shape:  (5395, 27)\n",
      "y_test shape:  (5395,)\n"
     ]
    }
   ],
   "source": [
    "print('X_train shape: ', X_train.shape)\n",
    "print('y_train shape: ', y_train.shape)\n",
    "print('X_test shape: ', X_test.shape)\n",
    "print('y_test shape: ', y_test.shape)"
   ]
  },
  {
   "cell_type": "code",
   "execution_count": 21,
   "metadata": {},
   "outputs": [
    {
     "data": {
      "text/plain": [
       "654"
      ]
     },
     "execution_count": 21,
     "metadata": {},
     "output_type": "execute_result"
    }
   ],
   "source": [
    "y_train.sum()"
   ]
  },
  {
   "cell_type": "code",
   "execution_count": 22,
   "metadata": {},
   "outputs": [
    {
     "data": {
      "text/plain": [
       "156"
      ]
     },
     "execution_count": 22,
     "metadata": {},
     "output_type": "execute_result"
    }
   ],
   "source": [
    "y_test.sum()"
   ]
  },
  {
   "cell_type": "markdown",
   "metadata": {},
   "source": [
    "# Magic loop\n",
    "\n",
    "## Definimos los modelos:"
   ]
  },
  {
   "cell_type": "code",
   "execution_count": 26,
   "metadata": {},
   "outputs": [],
   "source": [
    "algorithms = ['tree', 'logistic']"
   ]
  },
  {
   "cell_type": "code",
   "execution_count": 27,
   "metadata": {},
   "outputs": [],
   "source": [
    "algorithms_dict = {'tree': 'tree_grid_search',\n",
    "                  'logistic': 'logitstic_regression'}"
   ]
  },
  {
   "cell_type": "code",
   "execution_count": 28,
   "metadata": {},
   "outputs": [],
   "source": [
    "grid_search_dict = {'tree_grid_search': {'max_depth': [3, 5], \n",
    "                                         'min_samples_leaf': [3, 5]},\n",
    "                   'logitstic_regression': {'penalty':['l2'],\n",
    "                                           'solver':['sag','saga']}}"
   ]
  },
  {
   "cell_type": "code",
   "execution_count": 31,
   "metadata": {},
   "outputs": [],
   "source": [
    "from sklearn.tree import DecisionTreeClassifier\n",
    "from sklearn.linear_model import LogisticRegression\n",
    "\n",
    "estimators_dict = {'tree': DecisionTreeClassifier(random_state=96356),\n",
    "                   'logistic': LogisticRegression(random_state=928)}"
   ]
  },
  {
   "cell_type": "code",
   "execution_count": 32,
   "metadata": {},
   "outputs": [],
   "source": [
    "best_estimators = []"
   ]
  },
  {
   "cell_type": "code",
   "execution_count": 33,
   "metadata": {},
   "outputs": [],
   "source": [
    "features = X_train\n",
    "labels = y_train"
   ]
  },
  {
   "cell_type": "code",
   "execution_count": 34,
   "metadata": {},
   "outputs": [
    {
     "name": "stderr",
     "output_type": "stream",
     "text": [
      "/Users/ele/.pyenv/versions/dpa_env/lib/python3.7/site-packages/sklearn/linear_model/_sag.py:329: ConvergenceWarning: The max_iter was reached which means the coef_ did not converge\n",
      "  \"the coef_ did not converge\", ConvergenceWarning)\n"
     ]
    }
   ],
   "source": [
    "from sklearn.model_selection import TimeSeriesSplit\n",
    "from sklearn.model_selection import GridSearchCV\n",
    "\n",
    "for algorithm in algorithms:\n",
    "        estimator = estimators_dict[algorithm]\n",
    "        grid_search_to_look = algorithms_dict[algorithm]\n",
    "        grid_params = grid_search_dict[grid_search_to_look]\n",
    "        \n",
    "        tscv = TimeSeriesSplit(\n",
    "            n_splits = 3\n",
    "        )\n",
    "        gs = GridSearchCV(\n",
    "            estimator,\n",
    "            grid_params, \n",
    "            scoring = 'precision', \n",
    "            cv = tscv, \n",
    "            n_jobs = -1\n",
    "        )\n",
    "        \n",
    "        #train\n",
    "        gs.fit(features, labels)\n",
    "        #best estimator\n",
    "        best_estimators.append(gs)"
   ]
  },
  {
   "cell_type": "code",
   "execution_count": 35,
   "metadata": {},
   "outputs": [
    {
     "data": {
      "text/plain": [
       "[GridSearchCV(cv=TimeSeriesSplit(gap=0, max_train_size=None, n_splits=3, test_size=None),\n",
       "              estimator=DecisionTreeClassifier(random_state=96356), n_jobs=-1,\n",
       "              param_grid={'max_depth': [3, 5], 'min_samples_leaf': [3, 5]},\n",
       "              scoring='precision'),\n",
       " GridSearchCV(cv=TimeSeriesSplit(gap=0, max_train_size=None, n_splits=3, test_size=None),\n",
       "              estimator=LogisticRegression(random_state=928), n_jobs=-1,\n",
       "              param_grid={'penalty': ['l2'], 'solver': ['sag', 'saga']},\n",
       "              scoring='precision')]"
      ]
     },
     "execution_count": 35,
     "metadata": {},
     "output_type": "execute_result"
    }
   ],
   "source": [
    "best_estimators"
   ]
  },
  {
   "cell_type": "code",
   "execution_count": 39,
   "metadata": {},
   "outputs": [],
   "source": [
    "models = best_estimators"
   ]
  },
  {
   "cell_type": "code",
   "execution_count": 40,
   "metadata": {},
   "outputs": [
    {
     "data": {
      "text/plain": [
       "GridSearchCV(cv=TimeSeriesSplit(gap=0, max_train_size=None, n_splits=3, test_size=None),\n",
       "             estimator=DecisionTreeClassifier(random_state=96356), n_jobs=-1,\n",
       "             param_grid={'max_depth': [3, 5], 'min_samples_leaf': [3, 5]},\n",
       "             scoring='precision')"
      ]
     },
     "execution_count": 40,
     "metadata": {},
     "output_type": "execute_result"
    }
   ],
   "source": [
    "models[0]"
   ]
  },
  {
   "cell_type": "code",
   "execution_count": 41,
   "metadata": {},
   "outputs": [
    {
     "data": {
      "text/plain": [
       "GridSearchCV(cv=TimeSeriesSplit(gap=0, max_train_size=None, n_splits=3, test_size=None),\n",
       "             estimator=LogisticRegression(random_state=928), n_jobs=-1,\n",
       "             param_grid={'penalty': ['l2'], 'solver': ['sag', 'saga']},\n",
       "             scoring='precision')"
      ]
     },
     "execution_count": 41,
     "metadata": {},
     "output_type": "execute_result"
    }
   ],
   "source": [
    "models[1]"
   ]
  },
  {
   "cell_type": "code",
   "execution_count": 43,
   "metadata": {},
   "outputs": [],
   "source": [
    "predicted_scores_model_1 = models[1].predict_proba(X_test) # logistic\n",
    "predicted_scores_model_0 = models[0].predict_proba(X_test) # árbol"
   ]
  },
  {
   "cell_type": "code",
   "execution_count": 44,
   "metadata": {},
   "outputs": [],
   "source": [
    "punto_corte = 0.7"
   ]
  },
  {
   "cell_type": "code",
   "execution_count": 45,
   "metadata": {},
   "outputs": [
    {
     "data": {
      "text/plain": [
       "array([[0.96880206, 0.03119794],\n",
       "       [0.97243717, 0.02756283],\n",
       "       [0.97750212, 0.02249788],\n",
       "       ...,\n",
       "       [0.97186991, 0.02813009],\n",
       "       [0.96841289, 0.03158711],\n",
       "       [0.97256462, 0.02743538]])"
      ]
     },
     "execution_count": 45,
     "metadata": {},
     "output_type": "execute_result"
    }
   ],
   "source": [
    "predicted_scores_model_1"
   ]
  },
  {
   "cell_type": "code",
   "execution_count": 46,
   "metadata": {},
   "outputs": [
    {
     "data": {
      "text/plain": [
       "array([[0.97610224, 0.02389776],\n",
       "       [0.97610224, 0.02389776],\n",
       "       [0.97610224, 0.02389776],\n",
       "       ...,\n",
       "       [0.97610224, 0.02389776],\n",
       "       [0.96582198, 0.03417802],\n",
       "       [0.96582198, 0.03417802]])"
      ]
     },
     "execution_count": 46,
     "metadata": {},
     "output_type": "execute_result"
    }
   ],
   "source": [
    "predicted_scores_model_0"
   ]
  },
  {
   "cell_type": "code",
   "execution_count": 48,
   "metadata": {},
   "outputs": [],
   "source": [
    "from sklearn.metrics import precision_score"
   ]
  },
  {
   "cell_type": "code",
   "execution_count": 49,
   "metadata": {},
   "outputs": [],
   "source": [
    "labels_model_1 = [0 if score < punto_corte else 1 for score in predicted_scores_model_1[:,1]]"
   ]
  },
  {
   "cell_type": "code",
   "execution_count": 50,
   "metadata": {},
   "outputs": [],
   "source": [
    "labels_model_0 = [0 if score < punto_corte else 1 for score in predicted_scores_model_0[:,1]]"
   ]
  },
  {
   "cell_type": "code",
   "execution_count": 54,
   "metadata": {},
   "outputs": [],
   "source": [
    "precision_0 = precision_score(y_test, labels_model_0,average='micro')"
   ]
  },
  {
   "cell_type": "code",
   "execution_count": 53,
   "metadata": {},
   "outputs": [],
   "source": [
    "precision_1 = precision_score(y_test, labels_model_1, average='micro')"
   ]
  },
  {
   "cell_type": "code",
   "execution_count": 55,
   "metadata": {},
   "outputs": [],
   "source": [
    "mod_0 = pd.DataFrame(labels_model_0)\n",
    "mod_0.columns = ['fraude']"
   ]
  },
  {
   "cell_type": "code",
   "execution_count": 56,
   "metadata": {},
   "outputs": [
    {
     "data": {
      "text/html": [
       "<div>\n",
       "<style scoped>\n",
       "    .dataframe tbody tr th:only-of-type {\n",
       "        vertical-align: middle;\n",
       "    }\n",
       "\n",
       "    .dataframe tbody tr th {\n",
       "        vertical-align: top;\n",
       "    }\n",
       "\n",
       "    .dataframe thead th {\n",
       "        text-align: right;\n",
       "    }\n",
       "</style>\n",
       "<table border=\"1\" class=\"dataframe\">\n",
       "  <thead>\n",
       "    <tr style=\"text-align: right;\">\n",
       "      <th></th>\n",
       "      <th>fraude</th>\n",
       "    </tr>\n",
       "  </thead>\n",
       "  <tbody>\n",
       "    <tr>\n",
       "      <th>0</th>\n",
       "      <td>0</td>\n",
       "    </tr>\n",
       "    <tr>\n",
       "      <th>1</th>\n",
       "      <td>0</td>\n",
       "    </tr>\n",
       "    <tr>\n",
       "      <th>2</th>\n",
       "      <td>0</td>\n",
       "    </tr>\n",
       "    <tr>\n",
       "      <th>3</th>\n",
       "      <td>0</td>\n",
       "    </tr>\n",
       "    <tr>\n",
       "      <th>4</th>\n",
       "      <td>0</td>\n",
       "    </tr>\n",
       "    <tr>\n",
       "      <th>...</th>\n",
       "      <td>...</td>\n",
       "    </tr>\n",
       "    <tr>\n",
       "      <th>5390</th>\n",
       "      <td>0</td>\n",
       "    </tr>\n",
       "    <tr>\n",
       "      <th>5391</th>\n",
       "      <td>0</td>\n",
       "    </tr>\n",
       "    <tr>\n",
       "      <th>5392</th>\n",
       "      <td>0</td>\n",
       "    </tr>\n",
       "    <tr>\n",
       "      <th>5393</th>\n",
       "      <td>0</td>\n",
       "    </tr>\n",
       "    <tr>\n",
       "      <th>5394</th>\n",
       "      <td>0</td>\n",
       "    </tr>\n",
       "  </tbody>\n",
       "</table>\n",
       "<p>5395 rows × 1 columns</p>\n",
       "</div>"
      ],
      "text/plain": [
       "      fraude\n",
       "0          0\n",
       "1          0\n",
       "2          0\n",
       "3          0\n",
       "4          0\n",
       "...      ...\n",
       "5390       0\n",
       "5391       0\n",
       "5392       0\n",
       "5393       0\n",
       "5394       0\n",
       "\n",
       "[5395 rows x 1 columns]"
      ]
     },
     "execution_count": 56,
     "metadata": {},
     "output_type": "execute_result"
    }
   ],
   "source": [
    "mod_0"
   ]
  },
  {
   "cell_type": "code",
   "execution_count": 57,
   "metadata": {},
   "outputs": [],
   "source": [
    "mod_1 = pd.DataFrame(labels_model_1)\n",
    "mod_1.columns = ['results']"
   ]
  },
  {
   "cell_type": "code",
   "execution_count": 58,
   "metadata": {},
   "outputs": [],
   "source": [
    "model_0 = pd.concat([X_test.reset_index(drop='True'), mod_0.reset_index(drop='True')], axis=1)\n",
    "model_1 = pd.concat([X_test.reset_index(drop='True'), mod_1.reset_index(drop='True')], axis=1)"
   ]
  },
  {
   "cell_type": "code",
   "execution_count": 59,
   "metadata": {},
   "outputs": [
    {
     "data": {
      "text/plain": [
       "0.9710843373493976"
      ]
     },
     "execution_count": 59,
     "metadata": {},
     "output_type": "execute_result"
    }
   ],
   "source": [
    "precision_0"
   ]
  },
  {
   "cell_type": "code",
   "execution_count": 60,
   "metadata": {},
   "outputs": [
    {
     "data": {
      "text/plain": [
       "0.9710843373493976"
      ]
     },
     "execution_count": 60,
     "metadata": {},
     "output_type": "execute_result"
    }
   ],
   "source": [
    "precision_1"
   ]
  },
  {
   "cell_type": "code",
   "execution_count": null,
   "metadata": {},
   "outputs": [],
   "source": []
  }
 ],
 "metadata": {
  "kernelspec": {
   "display_name": "dpa_env",
   "language": "python",
   "name": "dpa_env"
  },
  "language_info": {
   "codemirror_mode": {
    "name": "ipython",
    "version": 3
   },
   "file_extension": ".py",
   "mimetype": "text/x-python",
   "name": "python",
   "nbconvert_exporter": "python",
   "pygments_lexer": "ipython3",
   "version": "3.7.4"
  }
 },
 "nbformat": 4,
 "nbformat_minor": 4
}
