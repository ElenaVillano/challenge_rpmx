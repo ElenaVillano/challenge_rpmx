{
 "cells": [
  {
   "cell_type": "code",
   "execution_count": 2,
   "metadata": {},
   "outputs": [],
   "source": [
    "import sys\n",
    "import pandas as pd\n",
    "import numpy as np\n",
    "import seaborn as sns\n",
    "from datetime import datetime\n",
    "import matplotlib.pyplot as plt\n",
    "import matplotlib.ticker as mtick"
   ]
  },
  {
   "cell_type": "code",
   "execution_count": 3,
   "metadata": {},
   "outputs": [],
   "source": [
    "#### Asisting configuration\n",
    "sys.path.append(\"..\")"
   ]
  },
  {
   "cell_type": "code",
   "execution_count": 4,
   "metadata": {},
   "outputs": [
    {
     "data": {
      "text/plain": [
       "'3.7.4 (default, Sep 22 2020, 11:44:10) \\n[Clang 11.0.3 (clang-1103.0.32.62)]'"
      ]
     },
     "execution_count": 4,
     "metadata": {},
     "output_type": "execute_result"
    }
   ],
   "source": [
    "sys.version"
   ]
  },
  {
   "cell_type": "code",
   "execution_count": 96,
   "metadata": {},
   "outputs": [],
   "source": [
    "pd.set_option('display.max_rows', 200)"
   ]
  },
  {
   "cell_type": "code",
   "execution_count": 6,
   "metadata": {},
   "outputs": [],
   "source": [
    "df = pd.read_csv(\"../data/ds_challenge_apr2021.csv\")"
   ]
  },
  {
   "cell_type": "code",
   "execution_count": 36,
   "metadata": {},
   "outputs": [],
   "source": [
    "df = df.rename(columns={'ID_USER':'id_user'})\n",
    "df['fecha'] = pd.to_datetime(df['fecha'])"
   ]
  },
  {
   "cell_type": "code",
   "execution_count": 37,
   "metadata": {},
   "outputs": [
    {
     "data": {
      "text/html": [
       "<div>\n",
       "<style scoped>\n",
       "    .dataframe tbody tr th:only-of-type {\n",
       "        vertical-align: middle;\n",
       "    }\n",
       "\n",
       "    .dataframe tbody tr th {\n",
       "        vertical-align: top;\n",
       "    }\n",
       "\n",
       "    .dataframe thead th {\n",
       "        text-align: right;\n",
       "    }\n",
       "</style>\n",
       "<table border=\"1\" class=\"dataframe\">\n",
       "  <thead>\n",
       "    <tr style=\"text-align: right;\">\n",
       "      <th></th>\n",
       "      <th>id_user</th>\n",
       "      <th>genero</th>\n",
       "      <th>monto</th>\n",
       "      <th>fecha</th>\n",
       "      <th>hora</th>\n",
       "      <th>dispositivo</th>\n",
       "      <th>establecimiento</th>\n",
       "      <th>ciudad</th>\n",
       "      <th>tipo_tc</th>\n",
       "      <th>linea_tc</th>\n",
       "      <th>interes_tc</th>\n",
       "      <th>status_txn</th>\n",
       "      <th>is_prime</th>\n",
       "      <th>dcto</th>\n",
       "      <th>cashback</th>\n",
       "      <th>fraude</th>\n",
       "    </tr>\n",
       "  </thead>\n",
       "  <tbody>\n",
       "    <tr>\n",
       "      <th>0</th>\n",
       "      <td>0</td>\n",
       "      <td>F</td>\n",
       "      <td>608.345634</td>\n",
       "      <td>2020-01-21</td>\n",
       "      <td>20</td>\n",
       "      <td>{'model': 2020, 'device_score': 3, 'os': 'ANDR...</td>\n",
       "      <td>Super</td>\n",
       "      <td>Merida</td>\n",
       "      <td>Física</td>\n",
       "      <td>71000</td>\n",
       "      <td>51</td>\n",
       "      <td>Aceptada</td>\n",
       "      <td>False</td>\n",
       "      <td>60.834563</td>\n",
       "      <td>5.475111</td>\n",
       "      <td>False</td>\n",
       "    </tr>\n",
       "    <tr>\n",
       "      <th>1</th>\n",
       "      <td>0</td>\n",
       "      <td>F</td>\n",
       "      <td>88.719243</td>\n",
       "      <td>2020-01-15</td>\n",
       "      <td>7</td>\n",
       "      <td>{'model': 2020, 'device_score': 1, 'os': 'ANDR...</td>\n",
       "      <td>NaN</td>\n",
       "      <td>Merida</td>\n",
       "      <td>Virtual</td>\n",
       "      <td>71000</td>\n",
       "      <td>51</td>\n",
       "      <td>Aceptada</td>\n",
       "      <td>False</td>\n",
       "      <td>0.000000</td>\n",
       "      <td>1.774385</td>\n",
       "      <td>False</td>\n",
       "    </tr>\n",
       "    <tr>\n",
       "      <th>2</th>\n",
       "      <td>1</td>\n",
       "      <td>F</td>\n",
       "      <td>790.037653</td>\n",
       "      <td>2020-01-17</td>\n",
       "      <td>11</td>\n",
       "      <td>{'model': 2020, 'device_score': 1, 'os': '.'}</td>\n",
       "      <td>NaN</td>\n",
       "      <td>Guadalajara</td>\n",
       "      <td>Virtual</td>\n",
       "      <td>94000</td>\n",
       "      <td>56</td>\n",
       "      <td>En proceso</td>\n",
       "      <td>False</td>\n",
       "      <td>0.000000</td>\n",
       "      <td>15.800753</td>\n",
       "      <td>False</td>\n",
       "    </tr>\n",
       "    <tr>\n",
       "      <th>3</th>\n",
       "      <td>1</td>\n",
       "      <td>F</td>\n",
       "      <td>767.005387</td>\n",
       "      <td>2020-01-05</td>\n",
       "      <td>11</td>\n",
       "      <td>{'model': 2020, 'device_score': 3, 'os': 'WEB'}</td>\n",
       "      <td>MPago</td>\n",
       "      <td>Guadalajara</td>\n",
       "      <td>Física</td>\n",
       "      <td>94000</td>\n",
       "      <td>56</td>\n",
       "      <td>Aceptada</td>\n",
       "      <td>False</td>\n",
       "      <td>0.000000</td>\n",
       "      <td>7.670054</td>\n",
       "      <td>False</td>\n",
       "    </tr>\n",
       "    <tr>\n",
       "      <th>4</th>\n",
       "      <td>1</td>\n",
       "      <td>F</td>\n",
       "      <td>254.171053</td>\n",
       "      <td>2020-01-30</td>\n",
       "      <td>10</td>\n",
       "      <td>{'model': 2020, 'device_score': 3, 'os': '%%'}</td>\n",
       "      <td>NaN</td>\n",
       "      <td>Guadalajara</td>\n",
       "      <td>Física</td>\n",
       "      <td>94000</td>\n",
       "      <td>56</td>\n",
       "      <td>Aceptada</td>\n",
       "      <td>False</td>\n",
       "      <td>0.000000</td>\n",
       "      <td>2.541711</td>\n",
       "      <td>False</td>\n",
       "    </tr>\n",
       "    <tr>\n",
       "      <th>...</th>\n",
       "      <td>...</td>\n",
       "      <td>...</td>\n",
       "      <td>...</td>\n",
       "      <td>...</td>\n",
       "      <td>...</td>\n",
       "      <td>...</td>\n",
       "      <td>...</td>\n",
       "      <td>...</td>\n",
       "      <td>...</td>\n",
       "      <td>...</td>\n",
       "      <td>...</td>\n",
       "      <td>...</td>\n",
       "      <td>...</td>\n",
       "      <td>...</td>\n",
       "      <td>...</td>\n",
       "      <td>...</td>\n",
       "    </tr>\n",
       "    <tr>\n",
       "      <th>26970</th>\n",
       "      <td>3999</td>\n",
       "      <td>M</td>\n",
       "      <td>746.192089</td>\n",
       "      <td>2020-01-08</td>\n",
       "      <td>13</td>\n",
       "      <td>{'model': 2020, 'device_score': 2, 'os': 'ANDR...</td>\n",
       "      <td>NaN</td>\n",
       "      <td>Toluca</td>\n",
       "      <td>Física</td>\n",
       "      <td>40000</td>\n",
       "      <td>56</td>\n",
       "      <td>Aceptada</td>\n",
       "      <td>False</td>\n",
       "      <td>0.000000</td>\n",
       "      <td>7.461921</td>\n",
       "      <td>False</td>\n",
       "    </tr>\n",
       "    <tr>\n",
       "      <th>26971</th>\n",
       "      <td>3999</td>\n",
       "      <td>M</td>\n",
       "      <td>941.804966</td>\n",
       "      <td>2020-01-14</td>\n",
       "      <td>15</td>\n",
       "      <td>{'model': 2020, 'device_score': 2, 'os': 'WEB'}</td>\n",
       "      <td>NaN</td>\n",
       "      <td>Toluca</td>\n",
       "      <td>Física</td>\n",
       "      <td>40000</td>\n",
       "      <td>56</td>\n",
       "      <td>Aceptada</td>\n",
       "      <td>False</td>\n",
       "      <td>0.000000</td>\n",
       "      <td>9.418050</td>\n",
       "      <td>False</td>\n",
       "    </tr>\n",
       "    <tr>\n",
       "      <th>26972</th>\n",
       "      <td>3999</td>\n",
       "      <td>M</td>\n",
       "      <td>251.189885</td>\n",
       "      <td>2020-01-16</td>\n",
       "      <td>11</td>\n",
       "      <td>{'model': 2020, 'device_score': 2, 'os': 'WEB'}</td>\n",
       "      <td>NaN</td>\n",
       "      <td>Toluca</td>\n",
       "      <td>Virtual</td>\n",
       "      <td>40000</td>\n",
       "      <td>56</td>\n",
       "      <td>Aceptada</td>\n",
       "      <td>False</td>\n",
       "      <td>0.000000</td>\n",
       "      <td>5.023798</td>\n",
       "      <td>False</td>\n",
       "    </tr>\n",
       "    <tr>\n",
       "      <th>26973</th>\n",
       "      <td>3999</td>\n",
       "      <td>M</td>\n",
       "      <td>24.182665</td>\n",
       "      <td>2020-01-13</td>\n",
       "      <td>17</td>\n",
       "      <td>{'model': 2020, 'device_score': 5, 'os': '.'}</td>\n",
       "      <td>NaN</td>\n",
       "      <td>Toluca</td>\n",
       "      <td>Física</td>\n",
       "      <td>40000</td>\n",
       "      <td>56</td>\n",
       "      <td>Aceptada</td>\n",
       "      <td>False</td>\n",
       "      <td>2.418266</td>\n",
       "      <td>0.217644</td>\n",
       "      <td>False</td>\n",
       "    </tr>\n",
       "    <tr>\n",
       "      <th>26974</th>\n",
       "      <td>3999</td>\n",
       "      <td>M</td>\n",
       "      <td>517.209272</td>\n",
       "      <td>2020-01-03</td>\n",
       "      <td>20</td>\n",
       "      <td>{'model': 2020, 'device_score': 5, 'os': 'ANDR...</td>\n",
       "      <td>MPago</td>\n",
       "      <td>Toluca</td>\n",
       "      <td>Física</td>\n",
       "      <td>40000</td>\n",
       "      <td>56</td>\n",
       "      <td>En proceso</td>\n",
       "      <td>False</td>\n",
       "      <td>0.000000</td>\n",
       "      <td>5.172093</td>\n",
       "      <td>False</td>\n",
       "    </tr>\n",
       "  </tbody>\n",
       "</table>\n",
       "<p>26975 rows × 16 columns</p>\n",
       "</div>"
      ],
      "text/plain": [
       "       id_user genero       monto      fecha  hora  \\\n",
       "0            0      F  608.345634 2020-01-21    20   \n",
       "1            0      F   88.719243 2020-01-15     7   \n",
       "2            1      F  790.037653 2020-01-17    11   \n",
       "3            1      F  767.005387 2020-01-05    11   \n",
       "4            1      F  254.171053 2020-01-30    10   \n",
       "...        ...    ...         ...        ...   ...   \n",
       "26970     3999      M  746.192089 2020-01-08    13   \n",
       "26971     3999      M  941.804966 2020-01-14    15   \n",
       "26972     3999      M  251.189885 2020-01-16    11   \n",
       "26973     3999      M   24.182665 2020-01-13    17   \n",
       "26974     3999      M  517.209272 2020-01-03    20   \n",
       "\n",
       "                                             dispositivo establecimiento  \\\n",
       "0      {'model': 2020, 'device_score': 3, 'os': 'ANDR...           Super   \n",
       "1      {'model': 2020, 'device_score': 1, 'os': 'ANDR...             NaN   \n",
       "2          {'model': 2020, 'device_score': 1, 'os': '.'}             NaN   \n",
       "3        {'model': 2020, 'device_score': 3, 'os': 'WEB'}           MPago   \n",
       "4         {'model': 2020, 'device_score': 3, 'os': '%%'}             NaN   \n",
       "...                                                  ...             ...   \n",
       "26970  {'model': 2020, 'device_score': 2, 'os': 'ANDR...             NaN   \n",
       "26971    {'model': 2020, 'device_score': 2, 'os': 'WEB'}             NaN   \n",
       "26972    {'model': 2020, 'device_score': 2, 'os': 'WEB'}             NaN   \n",
       "26973      {'model': 2020, 'device_score': 5, 'os': '.'}             NaN   \n",
       "26974  {'model': 2020, 'device_score': 5, 'os': 'ANDR...           MPago   \n",
       "\n",
       "            ciudad  tipo_tc  linea_tc  interes_tc  status_txn  is_prime  \\\n",
       "0           Merida   Física     71000          51    Aceptada     False   \n",
       "1           Merida  Virtual     71000          51    Aceptada     False   \n",
       "2      Guadalajara  Virtual     94000          56  En proceso     False   \n",
       "3      Guadalajara   Física     94000          56    Aceptada     False   \n",
       "4      Guadalajara   Física     94000          56    Aceptada     False   \n",
       "...            ...      ...       ...         ...         ...       ...   \n",
       "26970       Toluca   Física     40000          56    Aceptada     False   \n",
       "26971       Toluca   Física     40000          56    Aceptada     False   \n",
       "26972       Toluca  Virtual     40000          56    Aceptada     False   \n",
       "26973       Toluca   Física     40000          56    Aceptada     False   \n",
       "26974       Toluca   Física     40000          56  En proceso     False   \n",
       "\n",
       "            dcto   cashback  fraude  \n",
       "0      60.834563   5.475111   False  \n",
       "1       0.000000   1.774385   False  \n",
       "2       0.000000  15.800753   False  \n",
       "3       0.000000   7.670054   False  \n",
       "4       0.000000   2.541711   False  \n",
       "...          ...        ...     ...  \n",
       "26970   0.000000   7.461921   False  \n",
       "26971   0.000000   9.418050   False  \n",
       "26972   0.000000   5.023798   False  \n",
       "26973   2.418266   0.217644   False  \n",
       "26974   0.000000   5.172093   False  \n",
       "\n",
       "[26975 rows x 16 columns]"
      ]
     },
     "execution_count": 37,
     "metadata": {},
     "output_type": "execute_result"
    }
   ],
   "source": [
    "df"
   ]
  },
  {
   "cell_type": "code",
   "execution_count": 51,
   "metadata": {},
   "outputs": [
    {
     "name": "stderr",
     "output_type": "stream",
     "text": [
      "/Users/ele/.pyenv/versions/dpa_env/lib/python3.7/site-packages/seaborn/_decorators.py:43: FutureWarning: Pass the following variable as a keyword arg: x. From version 0.12, the only valid positional argument will be `data`, and passing other arguments without an explicit keyword will result in an error or misinterpretation.\n",
      "  FutureWarning\n"
     ]
    },
    {
     "data": {
      "text/plain": [
       "<AxesSubplot:xlabel='hora'>"
      ]
     },
     "execution_count": 51,
     "metadata": {},
     "output_type": "execute_result"
    },
    {
     "data": {
      "image/png": "[encoded data removed]",
      "text/plain": [
       "<Figure size 432x288 with 1 Axes>"
      ]
     },
     "metadata": {
      "needs_background": "light"
     },
     "output_type": "display_data"
    }
   ],
   "source": [
    "sns.boxplot(df['hora'])"
   ]
  },
  {
   "cell_type": "code",
   "execution_count": 50,
   "metadata": {},
   "outputs": [
    {
     "data": {
      "text/plain": [
       "<AxesSubplot:xlabel='hora', ylabel='Count'>"
      ]
     },
     "execution_count": 50,
     "metadata": {},
     "output_type": "execute_result"
    },
    {
     "data": {
      "image/png": "[encoded data removed]",
      "text/plain": [
       "<Figure size 432x288 with 1 Axes>"
      ]
     },
     "metadata": {
      "needs_background": "light"
     },
     "output_type": "display_data"
    }
   ],
   "source": [
    "sns.histplot(df['hora'])"
   ]
  },
  {
   "cell_type": "code",
   "execution_count": 59,
   "metadata": {},
   "outputs": [
    {
     "data": {
      "text/plain": [
       "<AxesSubplot:ylabel='Count'>"
      ]
     },
     "execution_count": 59,
     "metadata": {},
     "output_type": "execute_result"
    },
    {
     "data": {
      "image/png": "[encoded data removed]",
      "text/plain": [
       "<Figure size 432x288 with 1 Axes>"
      ]
     },
     "metadata": {
      "needs_background": "light"
     },
     "output_type": "display_data"
    }
   ],
   "source": [
    "sns.histplot(df[(['monto','interes_tc'])])"
   ]
  },
  {
   "cell_type": "code",
   "execution_count": 54,
   "metadata": {},
   "outputs": [
    {
     "data": {
      "text/plain": [
       "<AxesSubplot:xlabel='dcto', ylabel='Count'>"
      ]
     },
     "execution_count": 54,
     "metadata": {},
     "output_type": "execute_result"
    },
    {
     "data": {
      "image/png": "[encoded data removed]",
      "text/plain": [
       "<Figure size 432x288 with 1 Axes>"
      ]
     },
     "metadata": {
      "needs_background": "light"
     },
     "output_type": "display_data"
    }
   ],
   "source": [
    "sns.histplot(df['dcto'])"
   ]
  },
  {
   "cell_type": "code",
   "execution_count": 55,
   "metadata": {},
   "outputs": [
    {
     "data": {
      "text/plain": [
       "<AxesSubplot:xlabel='cashback', ylabel='Count'>"
      ]
     },
     "execution_count": 55,
     "metadata": {},
     "output_type": "execute_result"
    },
    {
     "data": {
      "image/png": "[encoded data removed]",
      "text/plain": [
       "<Figure size 432x288 with 1 Axes>"
      ]
     },
     "metadata": {
      "needs_background": "light"
     },
     "output_type": "display_data"
    }
   ],
   "source": [
    "sns.histplot(df['cashback'])"
   ]
  },
  {
   "cell_type": "code",
   "execution_count": 73,
   "metadata": {},
   "outputs": [
    {
     "data": {
      "text/plain": [
       "<seaborn.axisgrid.FacetGrid at 0x122a04d50>"
      ]
     },
     "execution_count": 73,
     "metadata": {},
     "output_type": "execute_result"
    },
    {
     "data": {
      "image/png": "[encoded data removed]",
      "text/plain": [
       "<Figure size 457x360 with 1 Axes>"
      ]
     },
     "metadata": {
      "needs_background": "light"
     },
     "output_type": "display_data"
    }
   ],
   "source": [
    "sns.displot(df,x='monto',hue='ciudad',multiple='stack')"
   ]
  },
  {
   "cell_type": "code",
   "execution_count": 72,
   "metadata": {},
   "outputs": [
    {
     "data": {
      "text/plain": [
       "<seaborn.axisgrid.FacetGrid at 0x1235bced0>"
      ]
     },
     "execution_count": 72,
     "metadata": {},
     "output_type": "execute_result"
    },
    {
     "data": {
      "image/png": "[encoded data removed]",
      "text/plain": [
       "<Figure size 649.375x360 with 1 Axes>"
      ]
     },
     "metadata": {
      "needs_background": "light"
     },
     "output_type": "display_data"
    }
   ],
   "source": [
    "sns.displot(df,x='monto',hue='dispositivo',multiple='stack')"
   ]
  },
  {
   "cell_type": "code",
   "execution_count": 71,
   "metadata": {},
   "outputs": [
    {
     "data": {
      "text/plain": [
       "<seaborn.axisgrid.FacetGrid at 0x123671d10>"
      ]
     },
     "execution_count": 71,
     "metadata": {},
     "output_type": "execute_result"
    },
    {
     "data": {
      "image/png": "[encoded data removed]",
      "text/plain": [
       "<Figure size 456.75x360 with 1 Axes>"
      ]
     },
     "metadata": {
      "needs_background": "light"
     },
     "output_type": "display_data"
    }
   ],
   "source": [
    "sns.displot(df,x='monto',hue='establecimiento',multiple='stack')"
   ]
  },
  {
   "cell_type": "code",
   "execution_count": 70,
   "metadata": {},
   "outputs": [
    {
     "data": {
      "text/plain": [
       "<seaborn.axisgrid.FacetGrid at 0x12341bf90>"
      ]
     },
     "execution_count": 70,
     "metadata": {},
     "output_type": "execute_result"
    },
    {
     "data": {
      "image/png": "[encoded data removed]",
      "text/plain": [
       "<Figure size 428.875x360 with 1 Axes>"
      ]
     },
     "metadata": {
      "needs_background": "light"
     },
     "output_type": "display_data"
    }
   ],
   "source": [
    "sns.displot(df,x='monto',hue='tipo_tc',multiple='stack')"
   ]
  },
  {
   "cell_type": "code",
   "execution_count": 69,
   "metadata": {},
   "outputs": [
    {
     "data": {
      "text/plain": [
       "<seaborn.axisgrid.FacetGrid at 0x12324fed0>"
      ]
     },
     "execution_count": 69,
     "metadata": {},
     "output_type": "execute_result"
    },
    {
     "data": {
      "image/png": "[encoded data removed]",
      "text/plain": [
       "<Figure size 421.25x360 with 1 Axes>"
      ]
     },
     "metadata": {
      "needs_background": "light"
     },
     "output_type": "display_data"
    }
   ],
   "source": [
    "sns.displot(df,x='monto',hue='is_prime',multiple='stack')"
   ]
  },
  {
   "cell_type": "code",
   "execution_count": 68,
   "metadata": {},
   "outputs": [
    {
     "data": {
      "text/plain": [
       "<seaborn.axisgrid.FacetGrid at 0x11ed87990>"
      ]
     },
     "execution_count": 68,
     "metadata": {},
     "output_type": "execute_result"
    },
    {
     "data": {
      "image/png": "[encoded data removed]",
      "text/plain": [
       "<Figure size 421.25x360 with 1 Axes>"
      ]
     },
     "metadata": {
      "needs_background": "light"
     },
     "output_type": "display_data"
    }
   ],
   "source": [
    "sns.displot(df,x='monto',hue='fraude',multiple='stack')"
   ]
  },
  {
   "cell_type": "code",
   "execution_count": 67,
   "metadata": {},
   "outputs": [
    {
     "data": {
      "text/plain": [
       "<seaborn.axisgrid.FacetGrid at 0x1230f0890>"
      ]
     },
     "execution_count": 67,
     "metadata": {},
     "output_type": "execute_result"
    },
    {
     "data": {
      "image/png": "[encoded data removed]",
      "text/plain": [
       "<Figure size 360x360 with 1 Axes>"
      ]
     },
     "metadata": {
      "needs_background": "light"
     },
     "output_type": "display_data"
    }
   ],
   "source": [
    "sns.displot(df,x='monto')"
   ]
  },
  {
   "cell_type": "code",
   "execution_count": 75,
   "metadata": {},
   "outputs": [
    {
     "data": {
      "text/plain": [
       "<seaborn.axisgrid.FacetGrid at 0x12413c690>"
      ]
     },
     "execution_count": 75,
     "metadata": {},
     "output_type": "execute_result"
    },
    {
     "data": {
      "image/png": "[encoded data removed]",
      "text/plain": [
       "<Figure size 421.25x360 with 1 Axes>"
      ]
     },
     "metadata": {
      "needs_background": "light"
     },
     "output_type": "display_data"
    }
   ],
   "source": [
    "sns.displot(df,x='cashback',hue='fraude',multiple='stack')"
   ]
  },
  {
   "cell_type": "code",
   "execution_count": 76,
   "metadata": {},
   "outputs": [
    {
     "data": {
      "text/plain": [
       "<seaborn.axisgrid.FacetGrid at 0x124379210>"
      ]
     },
     "execution_count": 76,
     "metadata": {},
     "output_type": "execute_result"
    },
    {
     "data": {
      "image/png": "[encoded data removed]",
      "text/plain": [
       "<Figure size 456.75x360 with 1 Axes>"
      ]
     },
     "metadata": {
      "needs_background": "light"
     },
     "output_type": "display_data"
    }
   ],
   "source": [
    "sns.displot(df,x='cashback',hue='establecimiento',multiple='stack')"
   ]
  },
  {
   "cell_type": "code",
   "execution_count": 78,
   "metadata": {},
   "outputs": [
    {
     "data": {
      "text/plain": [
       "<seaborn.axisgrid.FacetGrid at 0x123e17890>"
      ]
     },
     "execution_count": 78,
     "metadata": {},
     "output_type": "execute_result"
    },
    {
     "data": {
      "image/png": "[encoded data removed]",
      "text/plain": [
       "<Figure size 428.875x360 with 1 Axes>"
      ]
     },
     "metadata": {
      "needs_background": "light"
     },
     "output_type": "display_data"
    }
   ],
   "source": [
    "sns.displot(df,x='cashback',hue='tipo_tc')"
   ]
  },
  {
   "cell_type": "code",
   "execution_count": 91,
   "metadata": {},
   "outputs": [
    {
     "data": {
      "text/plain": [
       "<AxesSubplot:xlabel='fraude', ylabel='count'>"
      ]
     },
     "execution_count": 91,
     "metadata": {},
     "output_type": "execute_result"
    },
    {
     "data": {
      "image/png": "[encoded data removed]",
      "text/plain": [
       "<Figure size 432x288 with 1 Axes>"
      ]
     },
     "metadata": {
      "needs_background": "light"
     },
     "output_type": "display_data"
    }
   ],
   "source": [
    "sns.countplot(data=df,x='fraude')"
   ]
  },
  {
   "cell_type": "code",
   "execution_count": 138,
   "metadata": {},
   "outputs": [],
   "source": [
    "hola=df['id_user'].value_counts()"
   ]
  },
  {
   "cell_type": "code",
   "execution_count": 141,
   "metadata": {},
   "outputs": [],
   "source": [
    "hola=pd.DataFrame(hola)"
   ]
  },
  {
   "cell_type": "code",
   "execution_count": 143,
   "metadata": {},
   "outputs": [
    {
     "data": {
      "text/plain": [
       "<seaborn.axisgrid.FacetGrid at 0x11c7a7f50>"
      ]
     },
     "execution_count": 143,
     "metadata": {},
     "output_type": "execute_result"
    },
    {
     "data": {
      "image/png": "[encoded data removed]",
      "text/plain": [
       "<Figure size 432.125x360 with 1 Axes>"
      ]
     },
     "metadata": {
      "needs_background": "light"
     },
     "output_type": "display_data"
    }
   ],
   "source": [
    "sns.displot(hola)"
   ]
  },
  {
   "cell_type": "code",
   "execution_count": 147,
   "metadata": {},
   "outputs": [
    {
     "data": {
      "text/html": [
       "<div>\n",
       "<style scoped>\n",
       "    .dataframe tbody tr th:only-of-type {\n",
       "        vertical-align: middle;\n",
       "    }\n",
       "\n",
       "    .dataframe tbody tr th {\n",
       "        vertical-align: top;\n",
       "    }\n",
       "\n",
       "    .dataframe thead th {\n",
       "        text-align: right;\n",
       "    }\n",
       "</style>\n",
       "<table border=\"1\" class=\"dataframe\">\n",
       "  <thead>\n",
       "    <tr style=\"text-align: right;\">\n",
       "      <th></th>\n",
       "      <th>id_user</th>\n",
       "      <th>genero</th>\n",
       "      <th>monto</th>\n",
       "      <th>fecha</th>\n",
       "      <th>hora</th>\n",
       "      <th>dispositivo</th>\n",
       "      <th>establecimiento</th>\n",
       "      <th>ciudad</th>\n",
       "      <th>tipo_tc</th>\n",
       "      <th>linea_tc</th>\n",
       "      <th>interes_tc</th>\n",
       "      <th>status_txn</th>\n",
       "      <th>is_prime</th>\n",
       "      <th>dcto</th>\n",
       "      <th>cashback</th>\n",
       "      <th>fraude</th>\n",
       "    </tr>\n",
       "  </thead>\n",
       "  <tbody>\n",
       "    <tr>\n",
       "      <th>13141</th>\n",
       "      <td>1958</td>\n",
       "      <td>M</td>\n",
       "      <td>379.756046</td>\n",
       "      <td>2020-01-02</td>\n",
       "      <td>11</td>\n",
       "      <td>{'model': 2020, 'device_score': 4, 'os': 'ANDR...</td>\n",
       "      <td>Abarrotes</td>\n",
       "      <td>NaN</td>\n",
       "      <td>Física</td>\n",
       "      <td>33000</td>\n",
       "      <td>63</td>\n",
       "      <td>Aceptada</td>\n",
       "      <td>False</td>\n",
       "      <td>37.975605</td>\n",
       "      <td>3.417804</td>\n",
       "      <td>False</td>\n",
       "    </tr>\n",
       "    <tr>\n",
       "      <th>13142</th>\n",
       "      <td>1958</td>\n",
       "      <td>M</td>\n",
       "      <td>808.420377</td>\n",
       "      <td>2020-01-21</td>\n",
       "      <td>20</td>\n",
       "      <td>{'model': 2020, 'device_score': 2, 'os': '.'}</td>\n",
       "      <td>Restaurante</td>\n",
       "      <td>NaN</td>\n",
       "      <td>Virtual</td>\n",
       "      <td>33000</td>\n",
       "      <td>63</td>\n",
       "      <td>Aceptada</td>\n",
       "      <td>False</td>\n",
       "      <td>80.842038</td>\n",
       "      <td>14.551567</td>\n",
       "      <td>False</td>\n",
       "    </tr>\n",
       "    <tr>\n",
       "      <th>13143</th>\n",
       "      <td>1958</td>\n",
       "      <td>M</td>\n",
       "      <td>902.042267</td>\n",
       "      <td>2020-01-08</td>\n",
       "      <td>21</td>\n",
       "      <td>{'model': 2020, 'device_score': 3, 'os': '%%'}</td>\n",
       "      <td>NaN</td>\n",
       "      <td>NaN</td>\n",
       "      <td>Física</td>\n",
       "      <td>33000</td>\n",
       "      <td>63</td>\n",
       "      <td>Aceptada</td>\n",
       "      <td>False</td>\n",
       "      <td>0.000000</td>\n",
       "      <td>9.020423</td>\n",
       "      <td>False</td>\n",
       "    </tr>\n",
       "    <tr>\n",
       "      <th>13144</th>\n",
       "      <td>1958</td>\n",
       "      <td>M</td>\n",
       "      <td>43.546293</td>\n",
       "      <td>2020-01-05</td>\n",
       "      <td>1</td>\n",
       "      <td>{'model': 2020, 'device_score': 4, 'os': 'WEB'}</td>\n",
       "      <td>Super</td>\n",
       "      <td>NaN</td>\n",
       "      <td>Física</td>\n",
       "      <td>33000</td>\n",
       "      <td>63</td>\n",
       "      <td>En proceso</td>\n",
       "      <td>False</td>\n",
       "      <td>0.000000</td>\n",
       "      <td>0.435463</td>\n",
       "      <td>False</td>\n",
       "    </tr>\n",
       "    <tr>\n",
       "      <th>13145</th>\n",
       "      <td>1958</td>\n",
       "      <td>M</td>\n",
       "      <td>66.095718</td>\n",
       "      <td>2020-01-05</td>\n",
       "      <td>4</td>\n",
       "      <td>{'model': 2020, 'device_score': 5, 'os': 'WEB'}</td>\n",
       "      <td>MPago</td>\n",
       "      <td>NaN</td>\n",
       "      <td>Física</td>\n",
       "      <td>33000</td>\n",
       "      <td>63</td>\n",
       "      <td>Rechazada</td>\n",
       "      <td>False</td>\n",
       "      <td>0.000000</td>\n",
       "      <td>0.660957</td>\n",
       "      <td>False</td>\n",
       "    </tr>\n",
       "    <tr>\n",
       "      <th>13146</th>\n",
       "      <td>1958</td>\n",
       "      <td>M</td>\n",
       "      <td>419.469445</td>\n",
       "      <td>2020-01-10</td>\n",
       "      <td>20</td>\n",
       "      <td>{'model': 2020, 'device_score': 2, 'os': '.'}</td>\n",
       "      <td>Abarrotes</td>\n",
       "      <td>NaN</td>\n",
       "      <td>Física</td>\n",
       "      <td>33000</td>\n",
       "      <td>63</td>\n",
       "      <td>Aceptada</td>\n",
       "      <td>False</td>\n",
       "      <td>83.893889</td>\n",
       "      <td>3.355756</td>\n",
       "      <td>False</td>\n",
       "    </tr>\n",
       "    <tr>\n",
       "      <th>13147</th>\n",
       "      <td>1958</td>\n",
       "      <td>M</td>\n",
       "      <td>509.847800</td>\n",
       "      <td>2020-01-09</td>\n",
       "      <td>13</td>\n",
       "      <td>{'model': 2020, 'device_score': 2, 'os': 'WEB'}</td>\n",
       "      <td>NaN</td>\n",
       "      <td>NaN</td>\n",
       "      <td>Física</td>\n",
       "      <td>33000</td>\n",
       "      <td>63</td>\n",
       "      <td>Aceptada</td>\n",
       "      <td>False</td>\n",
       "      <td>50.984780</td>\n",
       "      <td>4.588630</td>\n",
       "      <td>False</td>\n",
       "    </tr>\n",
       "    <tr>\n",
       "      <th>13148</th>\n",
       "      <td>1958</td>\n",
       "      <td>M</td>\n",
       "      <td>895.286932</td>\n",
       "      <td>2020-01-12</td>\n",
       "      <td>14</td>\n",
       "      <td>{'model': 2020, 'device_score': 3, 'os': '.'}</td>\n",
       "      <td>Super</td>\n",
       "      <td>NaN</td>\n",
       "      <td>Virtual</td>\n",
       "      <td>33000</td>\n",
       "      <td>63</td>\n",
       "      <td>Aceptada</td>\n",
       "      <td>False</td>\n",
       "      <td>0.000000</td>\n",
       "      <td>17.905739</td>\n",
       "      <td>False</td>\n",
       "    </tr>\n",
       "    <tr>\n",
       "      <th>13149</th>\n",
       "      <td>1958</td>\n",
       "      <td>M</td>\n",
       "      <td>300.480050</td>\n",
       "      <td>2020-01-06</td>\n",
       "      <td>3</td>\n",
       "      <td>{'model': 2020, 'device_score': 1, 'os': 'WEB'}</td>\n",
       "      <td>MPago</td>\n",
       "      <td>NaN</td>\n",
       "      <td>Virtual</td>\n",
       "      <td>33000</td>\n",
       "      <td>63</td>\n",
       "      <td>Aceptada</td>\n",
       "      <td>False</td>\n",
       "      <td>30.048005</td>\n",
       "      <td>5.408641</td>\n",
       "      <td>False</td>\n",
       "    </tr>\n",
       "    <tr>\n",
       "      <th>13150</th>\n",
       "      <td>1958</td>\n",
       "      <td>M</td>\n",
       "      <td>518.351848</td>\n",
       "      <td>2020-01-24</td>\n",
       "      <td>20</td>\n",
       "      <td>{'model': 2020, 'device_score': 2, 'os': '%%'}</td>\n",
       "      <td>Restaurante</td>\n",
       "      <td>NaN</td>\n",
       "      <td>Virtual</td>\n",
       "      <td>33000</td>\n",
       "      <td>63</td>\n",
       "      <td>Rechazada</td>\n",
       "      <td>False</td>\n",
       "      <td>51.835185</td>\n",
       "      <td>9.330333</td>\n",
       "      <td>False</td>\n",
       "    </tr>\n",
       "    <tr>\n",
       "      <th>13151</th>\n",
       "      <td>1958</td>\n",
       "      <td>M</td>\n",
       "      <td>980.802252</td>\n",
       "      <td>2020-01-07</td>\n",
       "      <td>3</td>\n",
       "      <td>{'model': 2020, 'device_score': 1, 'os': 'WEB'}</td>\n",
       "      <td>Abarrotes</td>\n",
       "      <td>NaN</td>\n",
       "      <td>Física</td>\n",
       "      <td>33000</td>\n",
       "      <td>63</td>\n",
       "      <td>Rechazada</td>\n",
       "      <td>False</td>\n",
       "      <td>0.000000</td>\n",
       "      <td>9.808023</td>\n",
       "      <td>False</td>\n",
       "    </tr>\n",
       "    <tr>\n",
       "      <th>13152</th>\n",
       "      <td>1958</td>\n",
       "      <td>M</td>\n",
       "      <td>316.797368</td>\n",
       "      <td>2020-01-19</td>\n",
       "      <td>14</td>\n",
       "      <td>{'model': 2020, 'device_score': 4, 'os': '%%'}</td>\n",
       "      <td>Abarrotes</td>\n",
       "      <td>NaN</td>\n",
       "      <td>Física</td>\n",
       "      <td>33000</td>\n",
       "      <td>63</td>\n",
       "      <td>En proceso</td>\n",
       "      <td>False</td>\n",
       "      <td>0.000000</td>\n",
       "      <td>3.167974</td>\n",
       "      <td>False</td>\n",
       "    </tr>\n",
       "    <tr>\n",
       "      <th>13153</th>\n",
       "      <td>1958</td>\n",
       "      <td>M</td>\n",
       "      <td>535.642203</td>\n",
       "      <td>2020-01-30</td>\n",
       "      <td>5</td>\n",
       "      <td>{'model': 2020, 'device_score': 3, 'os': '.'}</td>\n",
       "      <td>Farmacia</td>\n",
       "      <td>NaN</td>\n",
       "      <td>Física</td>\n",
       "      <td>33000</td>\n",
       "      <td>63</td>\n",
       "      <td>En proceso</td>\n",
       "      <td>False</td>\n",
       "      <td>0.000000</td>\n",
       "      <td>5.356422</td>\n",
       "      <td>False</td>\n",
       "    </tr>\n",
       "    <tr>\n",
       "      <th>13154</th>\n",
       "      <td>1958</td>\n",
       "      <td>M</td>\n",
       "      <td>785.928010</td>\n",
       "      <td>2020-01-27</td>\n",
       "      <td>12</td>\n",
       "      <td>{'model': 2020, 'device_score': 1, 'os': 'WEB'}</td>\n",
       "      <td>NaN</td>\n",
       "      <td>NaN</td>\n",
       "      <td>Física</td>\n",
       "      <td>33000</td>\n",
       "      <td>63</td>\n",
       "      <td>Aceptada</td>\n",
       "      <td>False</td>\n",
       "      <td>0.000000</td>\n",
       "      <td>7.859280</td>\n",
       "      <td>False</td>\n",
       "    </tr>\n",
       "    <tr>\n",
       "      <th>13155</th>\n",
       "      <td>1958</td>\n",
       "      <td>M</td>\n",
       "      <td>659.665589</td>\n",
       "      <td>2020-01-09</td>\n",
       "      <td>20</td>\n",
       "      <td>{'model': 2020, 'device_score': 1, 'os': 'WEB'}</td>\n",
       "      <td>Super</td>\n",
       "      <td>NaN</td>\n",
       "      <td>Física</td>\n",
       "      <td>33000</td>\n",
       "      <td>63</td>\n",
       "      <td>Aceptada</td>\n",
       "      <td>False</td>\n",
       "      <td>0.000000</td>\n",
       "      <td>6.596656</td>\n",
       "      <td>False</td>\n",
       "    </tr>\n",
       "    <tr>\n",
       "      <th>13156</th>\n",
       "      <td>1958</td>\n",
       "      <td>M</td>\n",
       "      <td>189.416008</td>\n",
       "      <td>2020-01-27</td>\n",
       "      <td>20</td>\n",
       "      <td>{'model': 2020, 'device_score': 4, 'os': 'ANDR...</td>\n",
       "      <td>NaN</td>\n",
       "      <td>NaN</td>\n",
       "      <td>Física</td>\n",
       "      <td>33000</td>\n",
       "      <td>63</td>\n",
       "      <td>Aceptada</td>\n",
       "      <td>False</td>\n",
       "      <td>0.000000</td>\n",
       "      <td>1.894160</td>\n",
       "      <td>False</td>\n",
       "    </tr>\n",
       "    <tr>\n",
       "      <th>13157</th>\n",
       "      <td>1958</td>\n",
       "      <td>M</td>\n",
       "      <td>656.081094</td>\n",
       "      <td>2020-01-09</td>\n",
       "      <td>19</td>\n",
       "      <td>{'model': 2020, 'device_score': 1, 'os': '.'}</td>\n",
       "      <td>Abarrotes</td>\n",
       "      <td>NaN</td>\n",
       "      <td>Virtual</td>\n",
       "      <td>33000</td>\n",
       "      <td>63</td>\n",
       "      <td>Aceptada</td>\n",
       "      <td>False</td>\n",
       "      <td>0.000000</td>\n",
       "      <td>13.121622</td>\n",
       "      <td>False</td>\n",
       "    </tr>\n",
       "    <tr>\n",
       "      <th>13158</th>\n",
       "      <td>1958</td>\n",
       "      <td>M</td>\n",
       "      <td>983.695838</td>\n",
       "      <td>2020-01-23</td>\n",
       "      <td>5</td>\n",
       "      <td>{'model': 2020, 'device_score': 4, 'os': '.'}</td>\n",
       "      <td>Restaurante</td>\n",
       "      <td>NaN</td>\n",
       "      <td>Física</td>\n",
       "      <td>33000</td>\n",
       "      <td>63</td>\n",
       "      <td>Aceptada</td>\n",
       "      <td>False</td>\n",
       "      <td>0.000000</td>\n",
       "      <td>9.836958</td>\n",
       "      <td>False</td>\n",
       "    </tr>\n",
       "    <tr>\n",
       "      <th>13159</th>\n",
       "      <td>1958</td>\n",
       "      <td>M</td>\n",
       "      <td>321.201243</td>\n",
       "      <td>2020-01-22</td>\n",
       "      <td>1</td>\n",
       "      <td>{'model': 2020, 'device_score': 3, 'os': 'ANDR...</td>\n",
       "      <td>NaN</td>\n",
       "      <td>NaN</td>\n",
       "      <td>Física</td>\n",
       "      <td>33000</td>\n",
       "      <td>63</td>\n",
       "      <td>Aceptada</td>\n",
       "      <td>False</td>\n",
       "      <td>0.000000</td>\n",
       "      <td>3.212012</td>\n",
       "      <td>False</td>\n",
       "    </tr>\n",
       "    <tr>\n",
       "      <th>13160</th>\n",
       "      <td>1958</td>\n",
       "      <td>M</td>\n",
       "      <td>76.962091</td>\n",
       "      <td>2020-01-05</td>\n",
       "      <td>8</td>\n",
       "      <td>{'model': 2020, 'device_score': 5, 'os': '.'}</td>\n",
       "      <td>NaN</td>\n",
       "      <td>NaN</td>\n",
       "      <td>Física</td>\n",
       "      <td>33000</td>\n",
       "      <td>63</td>\n",
       "      <td>Aceptada</td>\n",
       "      <td>False</td>\n",
       "      <td>0.000000</td>\n",
       "      <td>0.769621</td>\n",
       "      <td>False</td>\n",
       "    </tr>\n",
       "    <tr>\n",
       "      <th>13161</th>\n",
       "      <td>1958</td>\n",
       "      <td>M</td>\n",
       "      <td>59.472985</td>\n",
       "      <td>2020-01-04</td>\n",
       "      <td>7</td>\n",
       "      <td>{'model': 2020, 'device_score': 5, 'os': '%%'}</td>\n",
       "      <td>Abarrotes</td>\n",
       "      <td>NaN</td>\n",
       "      <td>Física</td>\n",
       "      <td>33000</td>\n",
       "      <td>63</td>\n",
       "      <td>Aceptada</td>\n",
       "      <td>False</td>\n",
       "      <td>0.000000</td>\n",
       "      <td>0.594730</td>\n",
       "      <td>False</td>\n",
       "    </tr>\n",
       "    <tr>\n",
       "      <th>13162</th>\n",
       "      <td>1958</td>\n",
       "      <td>M</td>\n",
       "      <td>219.854496</td>\n",
       "      <td>2020-01-13</td>\n",
       "      <td>6</td>\n",
       "      <td>{'model': 2020, 'device_score': 2, 'os': '%%'}</td>\n",
       "      <td>Restaurante</td>\n",
       "      <td>NaN</td>\n",
       "      <td>Virtual</td>\n",
       "      <td>33000</td>\n",
       "      <td>63</td>\n",
       "      <td>Aceptada</td>\n",
       "      <td>False</td>\n",
       "      <td>0.000000</td>\n",
       "      <td>4.397090</td>\n",
       "      <td>False</td>\n",
       "    </tr>\n",
       "    <tr>\n",
       "      <th>13163</th>\n",
       "      <td>1958</td>\n",
       "      <td>M</td>\n",
       "      <td>152.880390</td>\n",
       "      <td>2020-01-27</td>\n",
       "      <td>10</td>\n",
       "      <td>{'model': 2020, 'device_score': 5, 'os': 'ANDR...</td>\n",
       "      <td>MPago</td>\n",
       "      <td>NaN</td>\n",
       "      <td>Física</td>\n",
       "      <td>33000</td>\n",
       "      <td>63</td>\n",
       "      <td>En proceso</td>\n",
       "      <td>False</td>\n",
       "      <td>0.000000</td>\n",
       "      <td>1.528804</td>\n",
       "      <td>False</td>\n",
       "    </tr>\n",
       "    <tr>\n",
       "      <th>13164</th>\n",
       "      <td>1958</td>\n",
       "      <td>M</td>\n",
       "      <td>866.753861</td>\n",
       "      <td>2020-01-16</td>\n",
       "      <td>22</td>\n",
       "      <td>{'model': 2020, 'device_score': 2, 'os': 'ANDR...</td>\n",
       "      <td>NaN</td>\n",
       "      <td>NaN</td>\n",
       "      <td>Virtual</td>\n",
       "      <td>33000</td>\n",
       "      <td>63</td>\n",
       "      <td>Aceptada</td>\n",
       "      <td>False</td>\n",
       "      <td>0.000000</td>\n",
       "      <td>17.335077</td>\n",
       "      <td>False</td>\n",
       "    </tr>\n",
       "    <tr>\n",
       "      <th>13165</th>\n",
       "      <td>1958</td>\n",
       "      <td>M</td>\n",
       "      <td>224.325051</td>\n",
       "      <td>2020-01-17</td>\n",
       "      <td>18</td>\n",
       "      <td>{'model': 2020, 'device_score': 3, 'os': 'ANDR...</td>\n",
       "      <td>MPago</td>\n",
       "      <td>NaN</td>\n",
       "      <td>Física</td>\n",
       "      <td>33000</td>\n",
       "      <td>63</td>\n",
       "      <td>Aceptada</td>\n",
       "      <td>False</td>\n",
       "      <td>0.000000</td>\n",
       "      <td>2.243251</td>\n",
       "      <td>False</td>\n",
       "    </tr>\n",
       "    <tr>\n",
       "      <th>13166</th>\n",
       "      <td>1958</td>\n",
       "      <td>M</td>\n",
       "      <td>274.840907</td>\n",
       "      <td>2020-01-25</td>\n",
       "      <td>8</td>\n",
       "      <td>{'model': 2020, 'device_score': 3, 'os': 'WEB'}</td>\n",
       "      <td>Restaurante</td>\n",
       "      <td>NaN</td>\n",
       "      <td>Física</td>\n",
       "      <td>33000</td>\n",
       "      <td>63</td>\n",
       "      <td>Aceptada</td>\n",
       "      <td>False</td>\n",
       "      <td>0.000000</td>\n",
       "      <td>2.748409</td>\n",
       "      <td>False</td>\n",
       "    </tr>\n",
       "    <tr>\n",
       "      <th>13167</th>\n",
       "      <td>1958</td>\n",
       "      <td>M</td>\n",
       "      <td>238.767786</td>\n",
       "      <td>2020-01-03</td>\n",
       "      <td>13</td>\n",
       "      <td>{'model': 2020, 'device_score': 1, 'os': 'ANDR...</td>\n",
       "      <td>Super</td>\n",
       "      <td>NaN</td>\n",
       "      <td>Virtual</td>\n",
       "      <td>33000</td>\n",
       "      <td>63</td>\n",
       "      <td>En proceso</td>\n",
       "      <td>False</td>\n",
       "      <td>0.000000</td>\n",
       "      <td>4.775356</td>\n",
       "      <td>False</td>\n",
       "    </tr>\n",
       "    <tr>\n",
       "      <th>13168</th>\n",
       "      <td>1958</td>\n",
       "      <td>M</td>\n",
       "      <td>289.672246</td>\n",
       "      <td>2020-01-23</td>\n",
       "      <td>4</td>\n",
       "      <td>{'model': 2020, 'device_score': 3, 'os': '%%'}</td>\n",
       "      <td>Abarrotes</td>\n",
       "      <td>NaN</td>\n",
       "      <td>Física</td>\n",
       "      <td>33000</td>\n",
       "      <td>63</td>\n",
       "      <td>Aceptada</td>\n",
       "      <td>False</td>\n",
       "      <td>28.967225</td>\n",
       "      <td>2.607050</td>\n",
       "      <td>False</td>\n",
       "    </tr>\n",
       "    <tr>\n",
       "      <th>13169</th>\n",
       "      <td>1958</td>\n",
       "      <td>M</td>\n",
       "      <td>939.780427</td>\n",
       "      <td>2020-01-30</td>\n",
       "      <td>5</td>\n",
       "      <td>{'model': 2020, 'device_score': 4, 'os': '.'}</td>\n",
       "      <td>Farmacia</td>\n",
       "      <td>NaN</td>\n",
       "      <td>Física</td>\n",
       "      <td>33000</td>\n",
       "      <td>63</td>\n",
       "      <td>Aceptada</td>\n",
       "      <td>False</td>\n",
       "      <td>93.978043</td>\n",
       "      <td>8.458024</td>\n",
       "      <td>False</td>\n",
       "    </tr>\n",
       "    <tr>\n",
       "      <th>13170</th>\n",
       "      <td>1958</td>\n",
       "      <td>M</td>\n",
       "      <td>69.582910</td>\n",
       "      <td>2020-01-05</td>\n",
       "      <td>8</td>\n",
       "      <td>{'model': 2020, 'device_score': 3, 'os': 'WEB'}</td>\n",
       "      <td>NaN</td>\n",
       "      <td>NaN</td>\n",
       "      <td>Física</td>\n",
       "      <td>33000</td>\n",
       "      <td>63</td>\n",
       "      <td>En proceso</td>\n",
       "      <td>False</td>\n",
       "      <td>6.958291</td>\n",
       "      <td>0.626246</td>\n",
       "      <td>False</td>\n",
       "    </tr>\n",
       "    <tr>\n",
       "      <th>13171</th>\n",
       "      <td>1958</td>\n",
       "      <td>M</td>\n",
       "      <td>638.563752</td>\n",
       "      <td>2020-01-06</td>\n",
       "      <td>12</td>\n",
       "      <td>{'model': 2020, 'device_score': 5, 'os': 'ANDR...</td>\n",
       "      <td>Restaurante</td>\n",
       "      <td>NaN</td>\n",
       "      <td>Física</td>\n",
       "      <td>33000</td>\n",
       "      <td>63</td>\n",
       "      <td>Rechazada</td>\n",
       "      <td>False</td>\n",
       "      <td>0.000000</td>\n",
       "      <td>6.385638</td>\n",
       "      <td>False</td>\n",
       "    </tr>\n",
       "    <tr>\n",
       "      <th>13172</th>\n",
       "      <td>1958</td>\n",
       "      <td>M</td>\n",
       "      <td>437.890707</td>\n",
       "      <td>2020-01-03</td>\n",
       "      <td>1</td>\n",
       "      <td>{'model': 2020, 'device_score': 3, 'os': '.'}</td>\n",
       "      <td>NaN</td>\n",
       "      <td>NaN</td>\n",
       "      <td>Virtual</td>\n",
       "      <td>33000</td>\n",
       "      <td>63</td>\n",
       "      <td>Aceptada</td>\n",
       "      <td>False</td>\n",
       "      <td>0.000000</td>\n",
       "      <td>8.757814</td>\n",
       "      <td>False</td>\n",
       "    </tr>\n",
       "    <tr>\n",
       "      <th>13173</th>\n",
       "      <td>1958</td>\n",
       "      <td>M</td>\n",
       "      <td>466.919838</td>\n",
       "      <td>2020-01-23</td>\n",
       "      <td>2</td>\n",
       "      <td>{'model': 2020, 'device_score': 4, 'os': '%%'}</td>\n",
       "      <td>Abarrotes</td>\n",
       "      <td>NaN</td>\n",
       "      <td>Física</td>\n",
       "      <td>33000</td>\n",
       "      <td>63</td>\n",
       "      <td>En proceso</td>\n",
       "      <td>False</td>\n",
       "      <td>0.000000</td>\n",
       "      <td>4.669198</td>\n",
       "      <td>False</td>\n",
       "    </tr>\n",
       "    <tr>\n",
       "      <th>13174</th>\n",
       "      <td>1958</td>\n",
       "      <td>M</td>\n",
       "      <td>159.014773</td>\n",
       "      <td>2020-01-19</td>\n",
       "      <td>10</td>\n",
       "      <td>{'model': 2020, 'device_score': 5, 'os': 'WEB'}</td>\n",
       "      <td>Restaurante</td>\n",
       "      <td>NaN</td>\n",
       "      <td>Física</td>\n",
       "      <td>33000</td>\n",
       "      <td>63</td>\n",
       "      <td>Aceptada</td>\n",
       "      <td>False</td>\n",
       "      <td>15.901477</td>\n",
       "      <td>1.431133</td>\n",
       "      <td>False</td>\n",
       "    </tr>\n",
       "    <tr>\n",
       "      <th>13175</th>\n",
       "      <td>1958</td>\n",
       "      <td>M</td>\n",
       "      <td>397.063347</td>\n",
       "      <td>2020-01-19</td>\n",
       "      <td>13</td>\n",
       "      <td>{'model': 2020, 'device_score': 1, 'os': '%%'}</td>\n",
       "      <td>Super</td>\n",
       "      <td>NaN</td>\n",
       "      <td>Física</td>\n",
       "      <td>33000</td>\n",
       "      <td>63</td>\n",
       "      <td>Aceptada</td>\n",
       "      <td>False</td>\n",
       "      <td>0.000000</td>\n",
       "      <td>3.970633</td>\n",
       "      <td>False</td>\n",
       "    </tr>\n",
       "    <tr>\n",
       "      <th>13176</th>\n",
       "      <td>1958</td>\n",
       "      <td>M</td>\n",
       "      <td>223.566473</td>\n",
       "      <td>2020-01-13</td>\n",
       "      <td>18</td>\n",
       "      <td>{'model': 2020, 'device_score': 4, 'os': '.'}</td>\n",
       "      <td>NaN</td>\n",
       "      <td>NaN</td>\n",
       "      <td>Física</td>\n",
       "      <td>33000</td>\n",
       "      <td>63</td>\n",
       "      <td>En proceso</td>\n",
       "      <td>False</td>\n",
       "      <td>0.000000</td>\n",
       "      <td>2.235665</td>\n",
       "      <td>False</td>\n",
       "    </tr>\n",
       "    <tr>\n",
       "      <th>13177</th>\n",
       "      <td>1958</td>\n",
       "      <td>M</td>\n",
       "      <td>832.803639</td>\n",
       "      <td>2020-01-11</td>\n",
       "      <td>4</td>\n",
       "      <td>{'model': 2020, 'device_score': 3, 'os': '.'}</td>\n",
       "      <td>Super</td>\n",
       "      <td>NaN</td>\n",
       "      <td>Virtual</td>\n",
       "      <td>33000</td>\n",
       "      <td>63</td>\n",
       "      <td>Aceptada</td>\n",
       "      <td>False</td>\n",
       "      <td>83.280364</td>\n",
       "      <td>14.990465</td>\n",
       "      <td>False</td>\n",
       "    </tr>\n",
       "    <tr>\n",
       "      <th>13178</th>\n",
       "      <td>1958</td>\n",
       "      <td>M</td>\n",
       "      <td>228.633007</td>\n",
       "      <td>2020-01-16</td>\n",
       "      <td>11</td>\n",
       "      <td>{'model': 2020, 'device_score': 2, 'os': '%%'}</td>\n",
       "      <td>NaN</td>\n",
       "      <td>NaN</td>\n",
       "      <td>Virtual</td>\n",
       "      <td>33000</td>\n",
       "      <td>63</td>\n",
       "      <td>Rechazada</td>\n",
       "      <td>False</td>\n",
       "      <td>0.000000</td>\n",
       "      <td>4.572660</td>\n",
       "      <td>True</td>\n",
       "    </tr>\n",
       "    <tr>\n",
       "      <th>13179</th>\n",
       "      <td>1958</td>\n",
       "      <td>M</td>\n",
       "      <td>131.953216</td>\n",
       "      <td>2020-01-05</td>\n",
       "      <td>6</td>\n",
       "      <td>{'model': 2020, 'device_score': 4, 'os': '.'}</td>\n",
       "      <td>NaN</td>\n",
       "      <td>NaN</td>\n",
       "      <td>Física</td>\n",
       "      <td>33000</td>\n",
       "      <td>63</td>\n",
       "      <td>Aceptada</td>\n",
       "      <td>False</td>\n",
       "      <td>13.195322</td>\n",
       "      <td>1.187579</td>\n",
       "      <td>False</td>\n",
       "    </tr>\n",
       "    <tr>\n",
       "      <th>13180</th>\n",
       "      <td>1958</td>\n",
       "      <td>M</td>\n",
       "      <td>988.032654</td>\n",
       "      <td>2020-01-11</td>\n",
       "      <td>14</td>\n",
       "      <td>{'model': 2020, 'device_score': 2, 'os': '.'}</td>\n",
       "      <td>NaN</td>\n",
       "      <td>NaN</td>\n",
       "      <td>Física</td>\n",
       "      <td>33000</td>\n",
       "      <td>63</td>\n",
       "      <td>Rechazada</td>\n",
       "      <td>False</td>\n",
       "      <td>0.000000</td>\n",
       "      <td>9.880327</td>\n",
       "      <td>False</td>\n",
       "    </tr>\n",
       "    <tr>\n",
       "      <th>13181</th>\n",
       "      <td>1958</td>\n",
       "      <td>M</td>\n",
       "      <td>690.368797</td>\n",
       "      <td>2020-01-29</td>\n",
       "      <td>22</td>\n",
       "      <td>{'model': 2020, 'device_score': 2, 'os': 'WEB'}</td>\n",
       "      <td>NaN</td>\n",
       "      <td>NaN</td>\n",
       "      <td>Física</td>\n",
       "      <td>33000</td>\n",
       "      <td>63</td>\n",
       "      <td>Aceptada</td>\n",
       "      <td>False</td>\n",
       "      <td>0.000000</td>\n",
       "      <td>6.903688</td>\n",
       "      <td>False</td>\n",
       "    </tr>\n",
       "    <tr>\n",
       "      <th>13182</th>\n",
       "      <td>1958</td>\n",
       "      <td>M</td>\n",
       "      <td>347.505401</td>\n",
       "      <td>2020-01-14</td>\n",
       "      <td>8</td>\n",
       "      <td>{'model': 2020, 'device_score': 1, 'os': '%%'}</td>\n",
       "      <td>NaN</td>\n",
       "      <td>NaN</td>\n",
       "      <td>Física</td>\n",
       "      <td>33000</td>\n",
       "      <td>63</td>\n",
       "      <td>En proceso</td>\n",
       "      <td>False</td>\n",
       "      <td>0.000000</td>\n",
       "      <td>3.475054</td>\n",
       "      <td>False</td>\n",
       "    </tr>\n",
       "    <tr>\n",
       "      <th>13183</th>\n",
       "      <td>1958</td>\n",
       "      <td>M</td>\n",
       "      <td>696.789963</td>\n",
       "      <td>2020-01-10</td>\n",
       "      <td>12</td>\n",
       "      <td>{'model': 2020, 'device_score': 4, 'os': '%%'}</td>\n",
       "      <td>Farmacia</td>\n",
       "      <td>NaN</td>\n",
       "      <td>Física</td>\n",
       "      <td>33000</td>\n",
       "      <td>63</td>\n",
       "      <td>En proceso</td>\n",
       "      <td>False</td>\n",
       "      <td>0.000000</td>\n",
       "      <td>6.967900</td>\n",
       "      <td>False</td>\n",
       "    </tr>\n",
       "    <tr>\n",
       "      <th>13184</th>\n",
       "      <td>1958</td>\n",
       "      <td>M</td>\n",
       "      <td>860.824591</td>\n",
       "      <td>2020-01-04</td>\n",
       "      <td>6</td>\n",
       "      <td>{'model': 2020, 'device_score': 4, 'os': 'WEB'}</td>\n",
       "      <td>Farmacia</td>\n",
       "      <td>NaN</td>\n",
       "      <td>Física</td>\n",
       "      <td>33000</td>\n",
       "      <td>63</td>\n",
       "      <td>Aceptada</td>\n",
       "      <td>False</td>\n",
       "      <td>0.000000</td>\n",
       "      <td>8.608246</td>\n",
       "      <td>False</td>\n",
       "    </tr>\n",
       "    <tr>\n",
       "      <th>13185</th>\n",
       "      <td>1958</td>\n",
       "      <td>M</td>\n",
       "      <td>612.436256</td>\n",
       "      <td>2020-01-08</td>\n",
       "      <td>15</td>\n",
       "      <td>{'model': 2020, 'device_score': 2, 'os': '%%'}</td>\n",
       "      <td>Farmacia</td>\n",
       "      <td>NaN</td>\n",
       "      <td>Física</td>\n",
       "      <td>33000</td>\n",
       "      <td>63</td>\n",
       "      <td>En proceso</td>\n",
       "      <td>False</td>\n",
       "      <td>61.243626</td>\n",
       "      <td>5.511926</td>\n",
       "      <td>False</td>\n",
       "    </tr>\n",
       "    <tr>\n",
       "      <th>13186</th>\n",
       "      <td>1958</td>\n",
       "      <td>M</td>\n",
       "      <td>586.245648</td>\n",
       "      <td>2020-01-09</td>\n",
       "      <td>11</td>\n",
       "      <td>{'model': 2020, 'device_score': 5, 'os': 'WEB'}</td>\n",
       "      <td>MPago</td>\n",
       "      <td>NaN</td>\n",
       "      <td>Física</td>\n",
       "      <td>33000</td>\n",
       "      <td>63</td>\n",
       "      <td>Aceptada</td>\n",
       "      <td>False</td>\n",
       "      <td>0.000000</td>\n",
       "      <td>5.862456</td>\n",
       "      <td>False</td>\n",
       "    </tr>\n",
       "    <tr>\n",
       "      <th>13187</th>\n",
       "      <td>1958</td>\n",
       "      <td>M</td>\n",
       "      <td>798.014672</td>\n",
       "      <td>2020-01-30</td>\n",
       "      <td>18</td>\n",
       "      <td>{'model': 2020, 'device_score': 5, 'os': '.'}</td>\n",
       "      <td>NaN</td>\n",
       "      <td>NaN</td>\n",
       "      <td>Virtual</td>\n",
       "      <td>33000</td>\n",
       "      <td>63</td>\n",
       "      <td>Aceptada</td>\n",
       "      <td>False</td>\n",
       "      <td>0.000000</td>\n",
       "      <td>15.960293</td>\n",
       "      <td>False</td>\n",
       "    </tr>\n",
       "    <tr>\n",
       "      <th>13188</th>\n",
       "      <td>1958</td>\n",
       "      <td>M</td>\n",
       "      <td>200.404904</td>\n",
       "      <td>2020-01-21</td>\n",
       "      <td>6</td>\n",
       "      <td>{'model': 2020, 'device_score': 1, 'os': '.'}</td>\n",
       "      <td>Super</td>\n",
       "      <td>NaN</td>\n",
       "      <td>Física</td>\n",
       "      <td>33000</td>\n",
       "      <td>63</td>\n",
       "      <td>Aceptada</td>\n",
       "      <td>False</td>\n",
       "      <td>0.000000</td>\n",
       "      <td>2.004049</td>\n",
       "      <td>False</td>\n",
       "    </tr>\n",
       "    <tr>\n",
       "      <th>13189</th>\n",
       "      <td>1958</td>\n",
       "      <td>M</td>\n",
       "      <td>892.300986</td>\n",
       "      <td>2020-01-21</td>\n",
       "      <td>7</td>\n",
       "      <td>{'model': 2020, 'device_score': 1, 'os': '%%'}</td>\n",
       "      <td>Farmacia</td>\n",
       "      <td>NaN</td>\n",
       "      <td>Virtual</td>\n",
       "      <td>33000</td>\n",
       "      <td>63</td>\n",
       "      <td>Rechazada</td>\n",
       "      <td>False</td>\n",
       "      <td>89.230099</td>\n",
       "      <td>16.061418</td>\n",
       "      <td>False</td>\n",
       "    </tr>\n",
       "    <tr>\n",
       "      <th>13190</th>\n",
       "      <td>1958</td>\n",
       "      <td>M</td>\n",
       "      <td>700.987783</td>\n",
       "      <td>2020-01-28</td>\n",
       "      <td>1</td>\n",
       "      <td>{'model': 2020, 'device_score': 5, 'os': 'ANDR...</td>\n",
       "      <td>NaN</td>\n",
       "      <td>NaN</td>\n",
       "      <td>Virtual</td>\n",
       "      <td>33000</td>\n",
       "      <td>63</td>\n",
       "      <td>En proceso</td>\n",
       "      <td>False</td>\n",
       "      <td>70.098778</td>\n",
       "      <td>12.617780</td>\n",
       "      <td>False</td>\n",
       "    </tr>\n",
       "    <tr>\n",
       "      <th>13191</th>\n",
       "      <td>1958</td>\n",
       "      <td>M</td>\n",
       "      <td>874.650787</td>\n",
       "      <td>2020-01-04</td>\n",
       "      <td>2</td>\n",
       "      <td>{'model': 2020, 'device_score': 5, 'os': 'WEB'}</td>\n",
       "      <td>NaN</td>\n",
       "      <td>NaN</td>\n",
       "      <td>Virtual</td>\n",
       "      <td>33000</td>\n",
       "      <td>63</td>\n",
       "      <td>Aceptada</td>\n",
       "      <td>False</td>\n",
       "      <td>0.000000</td>\n",
       "      <td>17.493016</td>\n",
       "      <td>False</td>\n",
       "    </tr>\n",
       "    <tr>\n",
       "      <th>13192</th>\n",
       "      <td>1958</td>\n",
       "      <td>M</td>\n",
       "      <td>211.326269</td>\n",
       "      <td>2020-01-24</td>\n",
       "      <td>22</td>\n",
       "      <td>{'model': 2020, 'device_score': 1, 'os': 'WEB'}</td>\n",
       "      <td>Farmacia</td>\n",
       "      <td>NaN</td>\n",
       "      <td>Física</td>\n",
       "      <td>33000</td>\n",
       "      <td>63</td>\n",
       "      <td>Rechazada</td>\n",
       "      <td>False</td>\n",
       "      <td>21.132627</td>\n",
       "      <td>1.901936</td>\n",
       "      <td>False</td>\n",
       "    </tr>\n",
       "    <tr>\n",
       "      <th>13193</th>\n",
       "      <td>1958</td>\n",
       "      <td>M</td>\n",
       "      <td>722.262407</td>\n",
       "      <td>2020-01-21</td>\n",
       "      <td>5</td>\n",
       "      <td>{'model': 2020, 'device_score': 5, 'os': 'WEB'}</td>\n",
       "      <td>NaN</td>\n",
       "      <td>NaN</td>\n",
       "      <td>Virtual</td>\n",
       "      <td>33000</td>\n",
       "      <td>63</td>\n",
       "      <td>En proceso</td>\n",
       "      <td>False</td>\n",
       "      <td>0.000000</td>\n",
       "      <td>14.445248</td>\n",
       "      <td>False</td>\n",
       "    </tr>\n",
       "    <tr>\n",
       "      <th>13194</th>\n",
       "      <td>1958</td>\n",
       "      <td>M</td>\n",
       "      <td>617.911704</td>\n",
       "      <td>2020-01-06</td>\n",
       "      <td>13</td>\n",
       "      <td>{'model': 2020, 'device_score': 4, 'os': 'ANDR...</td>\n",
       "      <td>Restaurante</td>\n",
       "      <td>NaN</td>\n",
       "      <td>Virtual</td>\n",
       "      <td>33000</td>\n",
       "      <td>63</td>\n",
       "      <td>Aceptada</td>\n",
       "      <td>False</td>\n",
       "      <td>61.791170</td>\n",
       "      <td>11.122411</td>\n",
       "      <td>False</td>\n",
       "    </tr>\n",
       "    <tr>\n",
       "      <th>13195</th>\n",
       "      <td>1958</td>\n",
       "      <td>M</td>\n",
       "      <td>944.953446</td>\n",
       "      <td>2020-01-30</td>\n",
       "      <td>18</td>\n",
       "      <td>{'model': 2020, 'device_score': 4, 'os': 'WEB'}</td>\n",
       "      <td>NaN</td>\n",
       "      <td>NaN</td>\n",
       "      <td>Física</td>\n",
       "      <td>33000</td>\n",
       "      <td>63</td>\n",
       "      <td>Aceptada</td>\n",
       "      <td>False</td>\n",
       "      <td>0.000000</td>\n",
       "      <td>9.449534</td>\n",
       "      <td>False</td>\n",
       "    </tr>\n",
       "    <tr>\n",
       "      <th>13196</th>\n",
       "      <td>1958</td>\n",
       "      <td>M</td>\n",
       "      <td>803.969420</td>\n",
       "      <td>2020-01-04</td>\n",
       "      <td>12</td>\n",
       "      <td>{'model': 2020, 'device_score': 2, 'os': '.'}</td>\n",
       "      <td>Farmacia</td>\n",
       "      <td>NaN</td>\n",
       "      <td>Física</td>\n",
       "      <td>33000</td>\n",
       "      <td>63</td>\n",
       "      <td>En proceso</td>\n",
       "      <td>False</td>\n",
       "      <td>0.000000</td>\n",
       "      <td>8.039694</td>\n",
       "      <td>False</td>\n",
       "    </tr>\n",
       "    <tr>\n",
       "      <th>13197</th>\n",
       "      <td>1958</td>\n",
       "      <td>M</td>\n",
       "      <td>667.790178</td>\n",
       "      <td>2020-01-30</td>\n",
       "      <td>8</td>\n",
       "      <td>{'model': 2020, 'device_score': 1, 'os': 'ANDR...</td>\n",
       "      <td>Restaurante</td>\n",
       "      <td>NaN</td>\n",
       "      <td>Virtual</td>\n",
       "      <td>33000</td>\n",
       "      <td>63</td>\n",
       "      <td>Aceptada</td>\n",
       "      <td>False</td>\n",
       "      <td>0.000000</td>\n",
       "      <td>13.355804</td>\n",
       "      <td>False</td>\n",
       "    </tr>\n",
       "    <tr>\n",
       "      <th>13198</th>\n",
       "      <td>1958</td>\n",
       "      <td>M</td>\n",
       "      <td>927.625762</td>\n",
       "      <td>2020-01-18</td>\n",
       "      <td>21</td>\n",
       "      <td>{'model': 2020, 'device_score': 2, 'os': '.'}</td>\n",
       "      <td>Abarrotes</td>\n",
       "      <td>NaN</td>\n",
       "      <td>Física</td>\n",
       "      <td>33000</td>\n",
       "      <td>63</td>\n",
       "      <td>En proceso</td>\n",
       "      <td>False</td>\n",
       "      <td>0.000000</td>\n",
       "      <td>9.276258</td>\n",
       "      <td>False</td>\n",
       "    </tr>\n",
       "    <tr>\n",
       "      <th>13199</th>\n",
       "      <td>1958</td>\n",
       "      <td>M</td>\n",
       "      <td>560.585746</td>\n",
       "      <td>2020-01-27</td>\n",
       "      <td>11</td>\n",
       "      <td>{'model': 2020, 'device_score': 1, 'os': '.'}</td>\n",
       "      <td>Abarrotes</td>\n",
       "      <td>NaN</td>\n",
       "      <td>Física</td>\n",
       "      <td>33000</td>\n",
       "      <td>63</td>\n",
       "      <td>En proceso</td>\n",
       "      <td>False</td>\n",
       "      <td>0.000000</td>\n",
       "      <td>5.605857</td>\n",
       "      <td>False</td>\n",
       "    </tr>\n",
       "    <tr>\n",
       "      <th>13200</th>\n",
       "      <td>1958</td>\n",
       "      <td>M</td>\n",
       "      <td>806.325071</td>\n",
       "      <td>2020-01-06</td>\n",
       "      <td>14</td>\n",
       "      <td>{'model': 2020, 'device_score': 2, 'os': '%%'}</td>\n",
       "      <td>NaN</td>\n",
       "      <td>NaN</td>\n",
       "      <td>Física</td>\n",
       "      <td>33000</td>\n",
       "      <td>63</td>\n",
       "      <td>Aceptada</td>\n",
       "      <td>False</td>\n",
       "      <td>0.000000</td>\n",
       "      <td>8.063251</td>\n",
       "      <td>False</td>\n",
       "    </tr>\n",
       "    <tr>\n",
       "      <th>13201</th>\n",
       "      <td>1958</td>\n",
       "      <td>M</td>\n",
       "      <td>985.223569</td>\n",
       "      <td>2020-01-12</td>\n",
       "      <td>8</td>\n",
       "      <td>{'model': 2020, 'device_score': 1, 'os': '.'}</td>\n",
       "      <td>NaN</td>\n",
       "      <td>NaN</td>\n",
       "      <td>Virtual</td>\n",
       "      <td>33000</td>\n",
       "      <td>63</td>\n",
       "      <td>Aceptada</td>\n",
       "      <td>False</td>\n",
       "      <td>0.000000</td>\n",
       "      <td>19.704471</td>\n",
       "      <td>False</td>\n",
       "    </tr>\n",
       "    <tr>\n",
       "      <th>13202</th>\n",
       "      <td>1958</td>\n",
       "      <td>M</td>\n",
       "      <td>58.421447</td>\n",
       "      <td>2020-01-16</td>\n",
       "      <td>12</td>\n",
       "      <td>{'model': 2020, 'device_score': 1, 'os': '.'}</td>\n",
       "      <td>Farmacia</td>\n",
       "      <td>NaN</td>\n",
       "      <td>Virtual</td>\n",
       "      <td>33000</td>\n",
       "      <td>63</td>\n",
       "      <td>En proceso</td>\n",
       "      <td>False</td>\n",
       "      <td>0.000000</td>\n",
       "      <td>1.168429</td>\n",
       "      <td>False</td>\n",
       "    </tr>\n",
       "  </tbody>\n",
       "</table>\n",
       "</div>"
      ],
      "text/plain": [
       "       id_user genero       monto      fecha  hora  \\\n",
       "13141     1958      M  379.756046 2020-01-02    11   \n",
       "13142     1958      M  808.420377 2020-01-21    20   \n",
       "13143     1958      M  902.042267 2020-01-08    21   \n",
       "13144     1958      M   43.546293 2020-01-05     1   \n",
       "13145     1958      M   66.095718 2020-01-05     4   \n",
       "13146     1958      M  419.469445 2020-01-10    20   \n",
       "13147     1958      M  509.847800 2020-01-09    13   \n",
       "13148     1958      M  895.286932 2020-01-12    14   \n",
       "13149     1958      M  300.480050 2020-01-06     3   \n",
       "13150     1958      M  518.351848 2020-01-24    20   \n",
       "13151     1958      M  980.802252 2020-01-07     3   \n",
       "13152     1958      M  316.797368 2020-01-19    14   \n",
       "13153     1958      M  535.642203 2020-01-30     5   \n",
       "13154     1958      M  785.928010 2020-01-27    12   \n",
       "13155     1958      M  659.665589 2020-01-09    20   \n",
       "13156     1958      M  189.416008 2020-01-27    20   \n",
       "13157     1958      M  656.081094 2020-01-09    19   \n",
       "13158     1958      M  983.695838 2020-01-23     5   \n",
       "13159     1958      M  321.201243 2020-01-22     1   \n",
       "13160     1958      M   76.962091 2020-01-05     8   \n",
       "13161     1958      M   59.472985 2020-01-04     7   \n",
       "13162     1958      M  219.854496 2020-01-13     6   \n",
       "13163     1958      M  152.880390 2020-01-27    10   \n",
       "13164     1958      M  866.753861 2020-01-16    22   \n",
       "13165     1958      M  224.325051 2020-01-17    18   \n",
       "13166     1958      M  274.840907 2020-01-25     8   \n",
       "13167     1958      M  238.767786 2020-01-03    13   \n",
       "13168     1958      M  289.672246 2020-01-23     4   \n",
       "13169     1958      M  939.780427 2020-01-30     5   \n",
       "13170     1958      M   69.582910 2020-01-05     8   \n",
       "13171     1958      M  638.563752 2020-01-06    12   \n",
       "13172     1958      M  437.890707 2020-01-03     1   \n",
       "13173     1958      M  466.919838 2020-01-23     2   \n",
       "13174     1958      M  159.014773 2020-01-19    10   \n",
       "13175     1958      M  397.063347 2020-01-19    13   \n",
       "13176     1958      M  223.566473 2020-01-13    18   \n",
       "13177     1958      M  832.803639 2020-01-11     4   \n",
       "13178     1958      M  228.633007 2020-01-16    11   \n",
       "13179     1958      M  131.953216 2020-01-05     6   \n",
       "13180     1958      M  988.032654 2020-01-11    14   \n",
       "13181     1958      M  690.368797 2020-01-29    22   \n",
       "13182     1958      M  347.505401 2020-01-14     8   \n",
       "13183     1958      M  696.789963 2020-01-10    12   \n",
       "13184     1958      M  860.824591 2020-01-04     6   \n",
       "13185     1958      M  612.436256 2020-01-08    15   \n",
       "13186     1958      M  586.245648 2020-01-09    11   \n",
       "13187     1958      M  798.014672 2020-01-30    18   \n",
       "13188     1958      M  200.404904 2020-01-21     6   \n",
       "13189     1958      M  892.300986 2020-01-21     7   \n",
       "13190     1958      M  700.987783 2020-01-28     1   \n",
       "13191     1958      M  874.650787 2020-01-04     2   \n",
       "13192     1958      M  211.326269 2020-01-24    22   \n",
       "13193     1958      M  722.262407 2020-01-21     5   \n",
       "13194     1958      M  617.911704 2020-01-06    13   \n",
       "13195     1958      M  944.953446 2020-01-30    18   \n",
       "13196     1958      M  803.969420 2020-01-04    12   \n",
       "13197     1958      M  667.790178 2020-01-30     8   \n",
       "13198     1958      M  927.625762 2020-01-18    21   \n",
       "13199     1958      M  560.585746 2020-01-27    11   \n",
       "13200     1958      M  806.325071 2020-01-06    14   \n",
       "13201     1958      M  985.223569 2020-01-12     8   \n",
       "13202     1958      M   58.421447 2020-01-16    12   \n",
       "\n",
       "                                             dispositivo establecimiento  \\\n",
       "13141  {'model': 2020, 'device_score': 4, 'os': 'ANDR...       Abarrotes   \n",
       "13142      {'model': 2020, 'device_score': 2, 'os': '.'}     Restaurante   \n",
       "13143     {'model': 2020, 'device_score': 3, 'os': '%%'}             NaN   \n",
       "13144    {'model': 2020, 'device_score': 4, 'os': 'WEB'}           Super   \n",
       "13145    {'model': 2020, 'device_score': 5, 'os': 'WEB'}           MPago   \n",
       "13146      {'model': 2020, 'device_score': 2, 'os': '.'}       Abarrotes   \n",
       "13147    {'model': 2020, 'device_score': 2, 'os': 'WEB'}             NaN   \n",
       "13148      {'model': 2020, 'device_score': 3, 'os': '.'}           Super   \n",
       "13149    {'model': 2020, 'device_score': 1, 'os': 'WEB'}           MPago   \n",
       "13150     {'model': 2020, 'device_score': 2, 'os': '%%'}     Restaurante   \n",
       "13151    {'model': 2020, 'device_score': 1, 'os': 'WEB'}       Abarrotes   \n",
       "13152     {'model': 2020, 'device_score': 4, 'os': '%%'}       Abarrotes   \n",
       "13153      {'model': 2020, 'device_score': 3, 'os': '.'}        Farmacia   \n",
       "13154    {'model': 2020, 'device_score': 1, 'os': 'WEB'}             NaN   \n",
       "13155    {'model': 2020, 'device_score': 1, 'os': 'WEB'}           Super   \n",
       "13156  {'model': 2020, 'device_score': 4, 'os': 'ANDR...             NaN   \n",
       "13157      {'model': 2020, 'device_score': 1, 'os': '.'}       Abarrotes   \n",
       "13158      {'model': 2020, 'device_score': 4, 'os': '.'}     Restaurante   \n",
       "13159  {'model': 2020, 'device_score': 3, 'os': 'ANDR...             NaN   \n",
       "13160      {'model': 2020, 'device_score': 5, 'os': '.'}             NaN   \n",
       "13161     {'model': 2020, 'device_score': 5, 'os': '%%'}       Abarrotes   \n",
       "13162     {'model': 2020, 'device_score': 2, 'os': '%%'}     Restaurante   \n",
       "13163  {'model': 2020, 'device_score': 5, 'os': 'ANDR...           MPago   \n",
       "13164  {'model': 2020, 'device_score': 2, 'os': 'ANDR...             NaN   \n",
       "13165  {'model': 2020, 'device_score': 3, 'os': 'ANDR...           MPago   \n",
       "13166    {'model': 2020, 'device_score': 3, 'os': 'WEB'}     Restaurante   \n",
       "13167  {'model': 2020, 'device_score': 1, 'os': 'ANDR...           Super   \n",
       "13168     {'model': 2020, 'device_score': 3, 'os': '%%'}       Abarrotes   \n",
       "13169      {'model': 2020, 'device_score': 4, 'os': '.'}        Farmacia   \n",
       "13170    {'model': 2020, 'device_score': 3, 'os': 'WEB'}             NaN   \n",
       "13171  {'model': 2020, 'device_score': 5, 'os': 'ANDR...     Restaurante   \n",
       "13172      {'model': 2020, 'device_score': 3, 'os': '.'}             NaN   \n",
       "13173     {'model': 2020, 'device_score': 4, 'os': '%%'}       Abarrotes   \n",
       "13174    {'model': 2020, 'device_score': 5, 'os': 'WEB'}     Restaurante   \n",
       "13175     {'model': 2020, 'device_score': 1, 'os': '%%'}           Super   \n",
       "13176      {'model': 2020, 'device_score': 4, 'os': '.'}             NaN   \n",
       "13177      {'model': 2020, 'device_score': 3, 'os': '.'}           Super   \n",
       "13178     {'model': 2020, 'device_score': 2, 'os': '%%'}             NaN   \n",
       "13179      {'model': 2020, 'device_score': 4, 'os': '.'}             NaN   \n",
       "13180      {'model': 2020, 'device_score': 2, 'os': '.'}             NaN   \n",
       "13181    {'model': 2020, 'device_score': 2, 'os': 'WEB'}             NaN   \n",
       "13182     {'model': 2020, 'device_score': 1, 'os': '%%'}             NaN   \n",
       "13183     {'model': 2020, 'device_score': 4, 'os': '%%'}        Farmacia   \n",
       "13184    {'model': 2020, 'device_score': 4, 'os': 'WEB'}        Farmacia   \n",
       "13185     {'model': 2020, 'device_score': 2, 'os': '%%'}        Farmacia   \n",
       "13186    {'model': 2020, 'device_score': 5, 'os': 'WEB'}           MPago   \n",
       "13187      {'model': 2020, 'device_score': 5, 'os': '.'}             NaN   \n",
       "13188      {'model': 2020, 'device_score': 1, 'os': '.'}           Super   \n",
       "13189     {'model': 2020, 'device_score': 1, 'os': '%%'}        Farmacia   \n",
       "13190  {'model': 2020, 'device_score': 5, 'os': 'ANDR...             NaN   \n",
       "13191    {'model': 2020, 'device_score': 5, 'os': 'WEB'}             NaN   \n",
       "13192    {'model': 2020, 'device_score': 1, 'os': 'WEB'}        Farmacia   \n",
       "13193    {'model': 2020, 'device_score': 5, 'os': 'WEB'}             NaN   \n",
       "13194  {'model': 2020, 'device_score': 4, 'os': 'ANDR...     Restaurante   \n",
       "13195    {'model': 2020, 'device_score': 4, 'os': 'WEB'}             NaN   \n",
       "13196      {'model': 2020, 'device_score': 2, 'os': '.'}        Farmacia   \n",
       "13197  {'model': 2020, 'device_score': 1, 'os': 'ANDR...     Restaurante   \n",
       "13198      {'model': 2020, 'device_score': 2, 'os': '.'}       Abarrotes   \n",
       "13199      {'model': 2020, 'device_score': 1, 'os': '.'}       Abarrotes   \n",
       "13200     {'model': 2020, 'device_score': 2, 'os': '%%'}             NaN   \n",
       "13201      {'model': 2020, 'device_score': 1, 'os': '.'}             NaN   \n",
       "13202      {'model': 2020, 'device_score': 1, 'os': '.'}        Farmacia   \n",
       "\n",
       "      ciudad  tipo_tc  linea_tc  interes_tc  status_txn  is_prime       dcto  \\\n",
       "13141    NaN   Física     33000          63    Aceptada     False  37.975605   \n",
       "13142    NaN  Virtual     33000          63    Aceptada     False  80.842038   \n",
       "13143    NaN   Física     33000          63    Aceptada     False   0.000000   \n",
       "13144    NaN   Física     33000          63  En proceso     False   0.000000   \n",
       "13145    NaN   Física     33000          63   Rechazada     False   0.000000   \n",
       "13146    NaN   Física     33000          63    Aceptada     False  83.893889   \n",
       "13147    NaN   Física     33000          63    Aceptada     False  50.984780   \n",
       "13148    NaN  Virtual     33000          63    Aceptada     False   0.000000   \n",
       "13149    NaN  Virtual     33000          63    Aceptada     False  30.048005   \n",
       "13150    NaN  Virtual     33000          63   Rechazada     False  51.835185   \n",
       "13151    NaN   Física     33000          63   Rechazada     False   0.000000   \n",
       "13152    NaN   Física     33000          63  En proceso     False   0.000000   \n",
       "13153    NaN   Física     33000          63  En proceso     False   0.000000   \n",
       "13154    NaN   Física     33000          63    Aceptada     False   0.000000   \n",
       "13155    NaN   Física     33000          63    Aceptada     False   0.000000   \n",
       "13156    NaN   Física     33000          63    Aceptada     False   0.000000   \n",
       "13157    NaN  Virtual     33000          63    Aceptada     False   0.000000   \n",
       "13158    NaN   Física     33000          63    Aceptada     False   0.000000   \n",
       "13159    NaN   Física     33000          63    Aceptada     False   0.000000   \n",
       "13160    NaN   Física     33000          63    Aceptada     False   0.000000   \n",
       "13161    NaN   Física     33000          63    Aceptada     False   0.000000   \n",
       "13162    NaN  Virtual     33000          63    Aceptada     False   0.000000   \n",
       "13163    NaN   Física     33000          63  En proceso     False   0.000000   \n",
       "13164    NaN  Virtual     33000          63    Aceptada     False   0.000000   \n",
       "13165    NaN   Física     33000          63    Aceptada     False   0.000000   \n",
       "13166    NaN   Física     33000          63    Aceptada     False   0.000000   \n",
       "13167    NaN  Virtual     33000          63  En proceso     False   0.000000   \n",
       "13168    NaN   Física     33000          63    Aceptada     False  28.967225   \n",
       "13169    NaN   Física     33000          63    Aceptada     False  93.978043   \n",
       "13170    NaN   Física     33000          63  En proceso     False   6.958291   \n",
       "13171    NaN   Física     33000          63   Rechazada     False   0.000000   \n",
       "13172    NaN  Virtual     33000          63    Aceptada     False   0.000000   \n",
       "13173    NaN   Física     33000          63  En proceso     False   0.000000   \n",
       "13174    NaN   Física     33000          63    Aceptada     False  15.901477   \n",
       "13175    NaN   Física     33000          63    Aceptada     False   0.000000   \n",
       "13176    NaN   Física     33000          63  En proceso     False   0.000000   \n",
       "13177    NaN  Virtual     33000          63    Aceptada     False  83.280364   \n",
       "13178    NaN  Virtual     33000          63   Rechazada     False   0.000000   \n",
       "13179    NaN   Física     33000          63    Aceptada     False  13.195322   \n",
       "13180    NaN   Física     33000          63   Rechazada     False   0.000000   \n",
       "13181    NaN   Física     33000          63    Aceptada     False   0.000000   \n",
       "13182    NaN   Física     33000          63  En proceso     False   0.000000   \n",
       "13183    NaN   Física     33000          63  En proceso     False   0.000000   \n",
       "13184    NaN   Física     33000          63    Aceptada     False   0.000000   \n",
       "13185    NaN   Física     33000          63  En proceso     False  61.243626   \n",
       "13186    NaN   Física     33000          63    Aceptada     False   0.000000   \n",
       "13187    NaN  Virtual     33000          63    Aceptada     False   0.000000   \n",
       "13188    NaN   Física     33000          63    Aceptada     False   0.000000   \n",
       "13189    NaN  Virtual     33000          63   Rechazada     False  89.230099   \n",
       "13190    NaN  Virtual     33000          63  En proceso     False  70.098778   \n",
       "13191    NaN  Virtual     33000          63    Aceptada     False   0.000000   \n",
       "13192    NaN   Física     33000          63   Rechazada     False  21.132627   \n",
       "13193    NaN  Virtual     33000          63  En proceso     False   0.000000   \n",
       "13194    NaN  Virtual     33000          63    Aceptada     False  61.791170   \n",
       "13195    NaN   Física     33000          63    Aceptada     False   0.000000   \n",
       "13196    NaN   Física     33000          63  En proceso     False   0.000000   \n",
       "13197    NaN  Virtual     33000          63    Aceptada     False   0.000000   \n",
       "13198    NaN   Física     33000          63  En proceso     False   0.000000   \n",
       "13199    NaN   Física     33000          63  En proceso     False   0.000000   \n",
       "13200    NaN   Física     33000          63    Aceptada     False   0.000000   \n",
       "13201    NaN  Virtual     33000          63    Aceptada     False   0.000000   \n",
       "13202    NaN  Virtual     33000          63  En proceso     False   0.000000   \n",
       "\n",
       "        cashback  fraude  \n",
       "13141   3.417804   False  \n",
       "13142  14.551567   False  \n",
       "13143   9.020423   False  \n",
       "13144   0.435463   False  \n",
       "13145   0.660957   False  \n",
       "13146   3.355756   False  \n",
       "13147   4.588630   False  \n",
       "13148  17.905739   False  \n",
       "13149   5.408641   False  \n",
       "13150   9.330333   False  \n",
       "13151   9.808023   False  \n",
       "13152   3.167974   False  \n",
       "13153   5.356422   False  \n",
       "13154   7.859280   False  \n",
       "13155   6.596656   False  \n",
       "13156   1.894160   False  \n",
       "13157  13.121622   False  \n",
       "13158   9.836958   False  \n",
       "13159   3.212012   False  \n",
       "13160   0.769621   False  \n",
       "13161   0.594730   False  \n",
       "13162   4.397090   False  \n",
       "13163   1.528804   False  \n",
       "13164  17.335077   False  \n",
       "13165   2.243251   False  \n",
       "13166   2.748409   False  \n",
       "13167   4.775356   False  \n",
       "13168   2.607050   False  \n",
       "13169   8.458024   False  \n",
       "13170   0.626246   False  \n",
       "13171   6.385638   False  \n",
       "13172   8.757814   False  \n",
       "13173   4.669198   False  \n",
       "13174   1.431133   False  \n",
       "13175   3.970633   False  \n",
       "13176   2.235665   False  \n",
       "13177  14.990465   False  \n",
       "13178   4.572660    True  \n",
       "13179   1.187579   False  \n",
       "13180   9.880327   False  \n",
       "13181   6.903688   False  \n",
       "13182   3.475054   False  \n",
       "13183   6.967900   False  \n",
       "13184   8.608246   False  \n",
       "13185   5.511926   False  \n",
       "13186   5.862456   False  \n",
       "13187  15.960293   False  \n",
       "13188   2.004049   False  \n",
       "13189  16.061418   False  \n",
       "13190  12.617780   False  \n",
       "13191  17.493016   False  \n",
       "13192   1.901936   False  \n",
       "13193  14.445248   False  \n",
       "13194  11.122411   False  \n",
       "13195   9.449534   False  \n",
       "13196   8.039694   False  \n",
       "13197  13.355804   False  \n",
       "13198   9.276258   False  \n",
       "13199   5.605857   False  \n",
       "13200   8.063251   False  \n",
       "13201  19.704471   False  \n",
       "13202   1.168429   False  "
      ]
     },
     "execution_count": 147,
     "metadata": {},
     "output_type": "execute_result"
    }
   ],
   "source": [
    "df[df['id_user']==1958]"
   ]
  },
  {
   "cell_type": "code",
   "execution_count": 145,
   "metadata": {},
   "outputs": [],
   "source": [
    "#df['id_user'].value_counts().plot(kind='bar')"
   ]
  },
  {
   "cell_type": "code",
   "execution_count": 146,
   "metadata": {},
   "outputs": [],
   "source": [
    "#sns.countplot(x='id_user',data=df)"
   ]
  },
  {
   "cell_type": "code",
   "execution_count": 106,
   "metadata": {},
   "outputs": [
    {
     "data": {
      "text/plain": [
       "<AxesSubplot:xlabel='ciudad', ylabel='count'>"
      ]
     },
     "execution_count": 106,
     "metadata": {},
     "output_type": "execute_result"
    },
    {
     "data": {
      "image/png": "[encoded data removed]",
      "text/plain": [
       "<Figure size 432x288 with 1 Axes>"
      ]
     },
     "metadata": {
      "needs_background": "light"
     },
     "output_type": "display_data"
    }
   ],
   "source": [
    "sns.countplot(x='ciudad',hue='fraude',data=df)"
   ]
  },
  {
   "cell_type": "code",
   "execution_count": 107,
   "metadata": {},
   "outputs": [
    {
     "data": {
      "text/plain": [
       "<AxesSubplot:xlabel='ciudad', ylabel='count'>"
      ]
     },
     "execution_count": 107,
     "metadata": {},
     "output_type": "execute_result"
    },
    {
     "data": {
      "image/png": "[encoded data removed]",
      "text/plain": [
       "<Figure size 432x288 with 1 Axes>"
      ]
     },
     "metadata": {
      "needs_background": "light"
     },
     "output_type": "display_data"
    }
   ],
   "source": [
    "sns.countplot(x='ciudad',hue='tipo_tc',data=df)"
   ]
  },
  {
   "cell_type": "code",
   "execution_count": 111,
   "metadata": {},
   "outputs": [
    {
     "data": {
      "text/plain": [
       "<AxesSubplot:xlabel='tipo_tc', ylabel='count'>"
      ]
     },
     "execution_count": 111,
     "metadata": {},
     "output_type": "execute_result"
    },
    {
     "data": {
      "image/png": "[encoded data removed]",
      "text/plain": [
       "<Figure size 432x288 with 1 Axes>"
      ]
     },
     "metadata": {
      "needs_background": "light"
     },
     "output_type": "display_data"
    }
   ],
   "source": [
    "sns.countplot(x='tipo_tc',hue='fraude',data=df) ###########################"
   ]
  },
  {
   "cell_type": "code",
   "execution_count": 110,
   "metadata": {},
   "outputs": [
    {
     "data": {
      "text/plain": [
       "<AxesSubplot:xlabel='establecimiento', ylabel='count'>"
      ]
     },
     "execution_count": 110,
     "metadata": {},
     "output_type": "execute_result"
    },
    {
     "data": {
      "image/png": "[encoded data removed]",
      "text/plain": [
       "<Figure size 432x288 with 1 Axes>"
      ]
     },
     "metadata": {
      "needs_background": "light"
     },
     "output_type": "display_data"
    }
   ],
   "source": [
    "sns.countplot(x='establecimiento',hue='fraude',data=df)"
   ]
  },
  {
   "cell_type": "code",
   "execution_count": 121,
   "metadata": {},
   "outputs": [
    {
     "data": {
      "text/plain": [
       "<AxesSubplot:xlabel='fraude', ylabel='count'>"
      ]
     },
     "execution_count": 121,
     "metadata": {},
     "output_type": "execute_result"
    },
    {
     "data": {
      "image/png": "[encoded data removed]",
      "text/plain": [
       "<Figure size 432x288 with 1 Axes>"
      ]
     },
     "metadata": {
      "needs_background": "light"
     },
     "output_type": "display_data"
    }
   ],
   "source": [
    "sns.countplot(x='fraude',hue='is_prime',data=df,dodge=False)"
   ]
  },
  {
   "cell_type": "code",
   "execution_count": 123,
   "metadata": {},
   "outputs": [
    {
     "data": {
      "text/plain": [
       "<AxesSubplot:xlabel='fraude', ylabel='count'>"
      ]
     },
     "execution_count": 123,
     "metadata": {},
     "output_type": "execute_result"
    },
    {
     "data": {
      "image/png": "[encoded data removed]",
      "text/plain": [
       "<Figure size 432x288 with 1 Axes>"
      ]
     },
     "metadata": {
      "needs_background": "light"
     },
     "output_type": "display_data"
    }
   ],
   "source": [
    "sns.countplot(x='fraude',hue='genero',data=df)"
   ]
  },
  {
   "cell_type": "code",
   "execution_count": null,
   "metadata": {},
   "outputs": [],
   "source": []
  }
 ],
 "metadata": {
  "kernelspec": {
   "display_name": "dpa_env",
   "language": "python",
   "name": "dpa_env"
  },
  "language_info": {
   "codemirror_mode": {
    "name": "ipython",
    "version": 3
   },
   "file_extension": ".py",
   "mimetype": "text/x-python",
   "name": "python",
   "nbconvert_exporter": "python",
   "pygments_lexer": "ipython3",
   "version": "3.7.4"
  }
 },
 "nbformat": 4,
 "nbformat_minor": 4
}
