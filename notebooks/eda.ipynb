{
 "cells": [
  {
   "cell_type": "code",
   "execution_count": 2,
   "metadata": {},
   "outputs": [],
   "source": [
    "import sys\n",
    "import pandas as pd\n",
    "import numpy as np\n",
    "import seaborn as sns\n",
    "from datetime import datetime\n",
    "import matplotlib.pyplot as plt\n",
    "import matplotlib.ticker as mtick"
   ]
  },
  {
   "cell_type": "code",
   "execution_count": 3,
   "metadata": {},
   "outputs": [],
   "source": [
    "#### Asisting configuration\n",
    "sys.path.append(\"..\")"
   ]
  },
  {
   "cell_type": "code",
   "execution_count": 4,
   "metadata": {},
   "outputs": [
    {
     "data": {
      "text/plain": [
       "'3.7.4 (default, Sep 22 2020, 11:44:10) \\n[Clang 11.0.3 (clang-1103.0.32.62)]'"
      ]
     },
     "execution_count": 4,
     "metadata": {},
     "output_type": "execute_result"
    }
   ],
   "source": [
    "sys.version"
   ]
  },
  {
   "cell_type": "code",
   "execution_count": 5,
   "metadata": {},
   "outputs": [],
   "source": [
    "pd.set_option('display.max_rows', 200)"
   ]
  },
  {
   "cell_type": "code",
   "execution_count": 8,
   "metadata": {},
   "outputs": [],
   "source": [
    "df = pd.read_csv(\"../data/ds_challenge_apr2021.csv\")"
   ]
  },
  {
   "cell_type": "code",
   "execution_count": 9,
   "metadata": {},
   "outputs": [],
   "source": [
    "colores = ['#38A6A5','#99C935','#EDAD08','#ee4d5b', '#4169e1', '#00FFBF','#1C77A3FF']"
   ]
  },
  {
   "cell_type": "code",
   "execution_count": 10,
   "metadata": {},
   "outputs": [],
   "source": [
    "df = df.rename(columns={'ID_USER':'id_user'})\n",
    "df['fecha'] = pd.to_datetime(df['fecha'])"
   ]
  },
  {
   "cell_type": "code",
   "execution_count": 11,
   "metadata": {},
   "outputs": [
    {
     "data": {
      "text/html": [
       "<div>\n",
       "<style scoped>\n",
       "    .dataframe tbody tr th:only-of-type {\n",
       "        vertical-align: middle;\n",
       "    }\n",
       "\n",
       "    .dataframe tbody tr th {\n",
       "        vertical-align: top;\n",
       "    }\n",
       "\n",
       "    .dataframe thead th {\n",
       "        text-align: right;\n",
       "    }\n",
       "</style>\n",
       "<table border=\"1\" class=\"dataframe\">\n",
       "  <thead>\n",
       "    <tr style=\"text-align: right;\">\n",
       "      <th></th>\n",
       "      <th>id_user</th>\n",
       "      <th>genero</th>\n",
       "      <th>monto</th>\n",
       "      <th>fecha</th>\n",
       "      <th>hora</th>\n",
       "      <th>dispositivo</th>\n",
       "      <th>establecimiento</th>\n",
       "      <th>ciudad</th>\n",
       "      <th>tipo_tc</th>\n",
       "      <th>linea_tc</th>\n",
       "      <th>interes_tc</th>\n",
       "      <th>status_txn</th>\n",
       "      <th>is_prime</th>\n",
       "      <th>dcto</th>\n",
       "      <th>cashback</th>\n",
       "      <th>fraude</th>\n",
       "    </tr>\n",
       "  </thead>\n",
       "  <tbody>\n",
       "    <tr>\n",
       "      <th>0</th>\n",
       "      <td>0</td>\n",
       "      <td>F</td>\n",
       "      <td>608.345634</td>\n",
       "      <td>2020-01-21</td>\n",
       "      <td>20</td>\n",
       "      <td>{'model': 2020, 'device_score': 3, 'os': 'ANDR...</td>\n",
       "      <td>Super</td>\n",
       "      <td>Merida</td>\n",
       "      <td>Física</td>\n",
       "      <td>71000</td>\n",
       "      <td>51</td>\n",
       "      <td>Aceptada</td>\n",
       "      <td>False</td>\n",
       "      <td>60.834563</td>\n",
       "      <td>5.475111</td>\n",
       "      <td>False</td>\n",
       "    </tr>\n",
       "    <tr>\n",
       "      <th>1</th>\n",
       "      <td>0</td>\n",
       "      <td>F</td>\n",
       "      <td>88.719243</td>\n",
       "      <td>2020-01-15</td>\n",
       "      <td>7</td>\n",
       "      <td>{'model': 2020, 'device_score': 1, 'os': 'ANDR...</td>\n",
       "      <td>NaN</td>\n",
       "      <td>Merida</td>\n",
       "      <td>Virtual</td>\n",
       "      <td>71000</td>\n",
       "      <td>51</td>\n",
       "      <td>Aceptada</td>\n",
       "      <td>False</td>\n",
       "      <td>0.000000</td>\n",
       "      <td>1.774385</td>\n",
       "      <td>False</td>\n",
       "    </tr>\n",
       "    <tr>\n",
       "      <th>2</th>\n",
       "      <td>1</td>\n",
       "      <td>F</td>\n",
       "      <td>790.037653</td>\n",
       "      <td>2020-01-17</td>\n",
       "      <td>11</td>\n",
       "      <td>{'model': 2020, 'device_score': 1, 'os': '.'}</td>\n",
       "      <td>NaN</td>\n",
       "      <td>Guadalajara</td>\n",
       "      <td>Virtual</td>\n",
       "      <td>94000</td>\n",
       "      <td>56</td>\n",
       "      <td>En proceso</td>\n",
       "      <td>False</td>\n",
       "      <td>0.000000</td>\n",
       "      <td>15.800753</td>\n",
       "      <td>False</td>\n",
       "    </tr>\n",
       "    <tr>\n",
       "      <th>3</th>\n",
       "      <td>1</td>\n",
       "      <td>F</td>\n",
       "      <td>767.005387</td>\n",
       "      <td>2020-01-05</td>\n",
       "      <td>11</td>\n",
       "      <td>{'model': 2020, 'device_score': 3, 'os': 'WEB'}</td>\n",
       "      <td>MPago</td>\n",
       "      <td>Guadalajara</td>\n",
       "      <td>Física</td>\n",
       "      <td>94000</td>\n",
       "      <td>56</td>\n",
       "      <td>Aceptada</td>\n",
       "      <td>False</td>\n",
       "      <td>0.000000</td>\n",
       "      <td>7.670054</td>\n",
       "      <td>False</td>\n",
       "    </tr>\n",
       "    <tr>\n",
       "      <th>4</th>\n",
       "      <td>1</td>\n",
       "      <td>F</td>\n",
       "      <td>254.171053</td>\n",
       "      <td>2020-01-30</td>\n",
       "      <td>10</td>\n",
       "      <td>{'model': 2020, 'device_score': 3, 'os': '%%'}</td>\n",
       "      <td>NaN</td>\n",
       "      <td>Guadalajara</td>\n",
       "      <td>Física</td>\n",
       "      <td>94000</td>\n",
       "      <td>56</td>\n",
       "      <td>Aceptada</td>\n",
       "      <td>False</td>\n",
       "      <td>0.000000</td>\n",
       "      <td>2.541711</td>\n",
       "      <td>False</td>\n",
       "    </tr>\n",
       "    <tr>\n",
       "      <th>...</th>\n",
       "      <td>...</td>\n",
       "      <td>...</td>\n",
       "      <td>...</td>\n",
       "      <td>...</td>\n",
       "      <td>...</td>\n",
       "      <td>...</td>\n",
       "      <td>...</td>\n",
       "      <td>...</td>\n",
       "      <td>...</td>\n",
       "      <td>...</td>\n",
       "      <td>...</td>\n",
       "      <td>...</td>\n",
       "      <td>...</td>\n",
       "      <td>...</td>\n",
       "      <td>...</td>\n",
       "      <td>...</td>\n",
       "    </tr>\n",
       "    <tr>\n",
       "      <th>26970</th>\n",
       "      <td>3999</td>\n",
       "      <td>M</td>\n",
       "      <td>746.192089</td>\n",
       "      <td>2020-01-08</td>\n",
       "      <td>13</td>\n",
       "      <td>{'model': 2020, 'device_score': 2, 'os': 'ANDR...</td>\n",
       "      <td>NaN</td>\n",
       "      <td>Toluca</td>\n",
       "      <td>Física</td>\n",
       "      <td>40000</td>\n",
       "      <td>56</td>\n",
       "      <td>Aceptada</td>\n",
       "      <td>False</td>\n",
       "      <td>0.000000</td>\n",
       "      <td>7.461921</td>\n",
       "      <td>False</td>\n",
       "    </tr>\n",
       "    <tr>\n",
       "      <th>26971</th>\n",
       "      <td>3999</td>\n",
       "      <td>M</td>\n",
       "      <td>941.804966</td>\n",
       "      <td>2020-01-14</td>\n",
       "      <td>15</td>\n",
       "      <td>{'model': 2020, 'device_score': 2, 'os': 'WEB'}</td>\n",
       "      <td>NaN</td>\n",
       "      <td>Toluca</td>\n",
       "      <td>Física</td>\n",
       "      <td>40000</td>\n",
       "      <td>56</td>\n",
       "      <td>Aceptada</td>\n",
       "      <td>False</td>\n",
       "      <td>0.000000</td>\n",
       "      <td>9.418050</td>\n",
       "      <td>False</td>\n",
       "    </tr>\n",
       "    <tr>\n",
       "      <th>26972</th>\n",
       "      <td>3999</td>\n",
       "      <td>M</td>\n",
       "      <td>251.189885</td>\n",
       "      <td>2020-01-16</td>\n",
       "      <td>11</td>\n",
       "      <td>{'model': 2020, 'device_score': 2, 'os': 'WEB'}</td>\n",
       "      <td>NaN</td>\n",
       "      <td>Toluca</td>\n",
       "      <td>Virtual</td>\n",
       "      <td>40000</td>\n",
       "      <td>56</td>\n",
       "      <td>Aceptada</td>\n",
       "      <td>False</td>\n",
       "      <td>0.000000</td>\n",
       "      <td>5.023798</td>\n",
       "      <td>False</td>\n",
       "    </tr>\n",
       "    <tr>\n",
       "      <th>26973</th>\n",
       "      <td>3999</td>\n",
       "      <td>M</td>\n",
       "      <td>24.182665</td>\n",
       "      <td>2020-01-13</td>\n",
       "      <td>17</td>\n",
       "      <td>{'model': 2020, 'device_score': 5, 'os': '.'}</td>\n",
       "      <td>NaN</td>\n",
       "      <td>Toluca</td>\n",
       "      <td>Física</td>\n",
       "      <td>40000</td>\n",
       "      <td>56</td>\n",
       "      <td>Aceptada</td>\n",
       "      <td>False</td>\n",
       "      <td>2.418266</td>\n",
       "      <td>0.217644</td>\n",
       "      <td>False</td>\n",
       "    </tr>\n",
       "    <tr>\n",
       "      <th>26974</th>\n",
       "      <td>3999</td>\n",
       "      <td>M</td>\n",
       "      <td>517.209272</td>\n",
       "      <td>2020-01-03</td>\n",
       "      <td>20</td>\n",
       "      <td>{'model': 2020, 'device_score': 5, 'os': 'ANDR...</td>\n",
       "      <td>MPago</td>\n",
       "      <td>Toluca</td>\n",
       "      <td>Física</td>\n",
       "      <td>40000</td>\n",
       "      <td>56</td>\n",
       "      <td>En proceso</td>\n",
       "      <td>False</td>\n",
       "      <td>0.000000</td>\n",
       "      <td>5.172093</td>\n",
       "      <td>False</td>\n",
       "    </tr>\n",
       "  </tbody>\n",
       "</table>\n",
       "<p>26975 rows × 16 columns</p>\n",
       "</div>"
      ],
      "text/plain": [
       "       id_user genero       monto      fecha  hora  \\\n",
       "0            0      F  608.345634 2020-01-21    20   \n",
       "1            0      F   88.719243 2020-01-15     7   \n",
       "2            1      F  790.037653 2020-01-17    11   \n",
       "3            1      F  767.005387 2020-01-05    11   \n",
       "4            1      F  254.171053 2020-01-30    10   \n",
       "...        ...    ...         ...        ...   ...   \n",
       "26970     3999      M  746.192089 2020-01-08    13   \n",
       "26971     3999      M  941.804966 2020-01-14    15   \n",
       "26972     3999      M  251.189885 2020-01-16    11   \n",
       "26973     3999      M   24.182665 2020-01-13    17   \n",
       "26974     3999      M  517.209272 2020-01-03    20   \n",
       "\n",
       "                                             dispositivo establecimiento  \\\n",
       "0      {'model': 2020, 'device_score': 3, 'os': 'ANDR...           Super   \n",
       "1      {'model': 2020, 'device_score': 1, 'os': 'ANDR...             NaN   \n",
       "2          {'model': 2020, 'device_score': 1, 'os': '.'}             NaN   \n",
       "3        {'model': 2020, 'device_score': 3, 'os': 'WEB'}           MPago   \n",
       "4         {'model': 2020, 'device_score': 3, 'os': '%%'}             NaN   \n",
       "...                                                  ...             ...   \n",
       "26970  {'model': 2020, 'device_score': 2, 'os': 'ANDR...             NaN   \n",
       "26971    {'model': 2020, 'device_score': 2, 'os': 'WEB'}             NaN   \n",
       "26972    {'model': 2020, 'device_score': 2, 'os': 'WEB'}             NaN   \n",
       "26973      {'model': 2020, 'device_score': 5, 'os': '.'}             NaN   \n",
       "26974  {'model': 2020, 'device_score': 5, 'os': 'ANDR...           MPago   \n",
       "\n",
       "            ciudad  tipo_tc  linea_tc  interes_tc  status_txn  is_prime  \\\n",
       "0           Merida   Física     71000          51    Aceptada     False   \n",
       "1           Merida  Virtual     71000          51    Aceptada     False   \n",
       "2      Guadalajara  Virtual     94000          56  En proceso     False   \n",
       "3      Guadalajara   Física     94000          56    Aceptada     False   \n",
       "4      Guadalajara   Física     94000          56    Aceptada     False   \n",
       "...            ...      ...       ...         ...         ...       ...   \n",
       "26970       Toluca   Física     40000          56    Aceptada     False   \n",
       "26971       Toluca   Física     40000          56    Aceptada     False   \n",
       "26972       Toluca  Virtual     40000          56    Aceptada     False   \n",
       "26973       Toluca   Física     40000          56    Aceptada     False   \n",
       "26974       Toluca   Física     40000          56  En proceso     False   \n",
       "\n",
       "            dcto   cashback  fraude  \n",
       "0      60.834563   5.475111   False  \n",
       "1       0.000000   1.774385   False  \n",
       "2       0.000000  15.800753   False  \n",
       "3       0.000000   7.670054   False  \n",
       "4       0.000000   2.541711   False  \n",
       "...          ...        ...     ...  \n",
       "26970   0.000000   7.461921   False  \n",
       "26971   0.000000   9.418050   False  \n",
       "26972   0.000000   5.023798   False  \n",
       "26973   2.418266   0.217644   False  \n",
       "26974   0.000000   5.172093   False  \n",
       "\n",
       "[26975 rows x 16 columns]"
      ]
     },
     "execution_count": 11,
     "metadata": {},
     "output_type": "execute_result"
    }
   ],
   "source": [
    "df"
   ]
  },
  {
   "cell_type": "code",
   "execution_count": 12,
   "metadata": {},
   "outputs": [
    {
     "data": {
      "text/plain": [
       "id_user                0\n",
       "genero                 0\n",
       "monto                  0\n",
       "fecha                  0\n",
       "hora                   0\n",
       "dispositivo            0\n",
       "establecimiento    10119\n",
       "ciudad             11678\n",
       "tipo_tc                0\n",
       "linea_tc               0\n",
       "interes_tc             0\n",
       "status_txn             0\n",
       "is_prime               0\n",
       "dcto                   0\n",
       "cashback               0\n",
       "fraude                 0\n",
       "dtype: int64"
      ]
     },
     "execution_count": 12,
     "metadata": {},
     "output_type": "execute_result"
    }
   ],
   "source": [
    "df.isna().sum()"
   ]
  },
  {
   "cell_type": "code",
   "execution_count": 13,
   "metadata": {},
   "outputs": [
    {
     "data": {
      "text/plain": [
       "<AxesSubplot:xlabel='hora', ylabel='Count'>"
      ]
     },
     "execution_count": 13,
     "metadata": {},
     "output_type": "execute_result"
    },
    {
     "data": {
      "image/png": "[encoded data removed]",
      "text/plain": [
       "<Figure size 432x288 with 1 Axes>"
      ]
     },
     "metadata": {
      "needs_background": "light"
     },
     "output_type": "display_data"
    }
   ],
   "source": [
    "sns.histplot(df['hora'])"
   ]
  },
  {
   "cell_type": "code",
   "execution_count": 10,
   "metadata": {},
   "outputs": [
    {
     "data": {
      "text/plain": [
       "<AxesSubplot:ylabel='Count'>"
      ]
     },
     "execution_count": 10,
     "metadata": {},
     "output_type": "execute_result"
    },
    {
     "data": {
      "image/png": "[encoded data removed]",
      "text/plain": [
       "<Figure size 432x288 with 1 Axes>"
      ]
     },
     "metadata": {
      "needs_background": "light"
     },
     "output_type": "display_data"
    }
   ],
   "source": [
    "sns.histplot(df[(['monto','interes_tc'])])"
   ]
  },
  {
   "cell_type": "code",
   "execution_count": 14,
   "metadata": {},
   "outputs": [
    {
     "data": {
      "text/plain": [
       "<AxesSubplot:xlabel='dcto', ylabel='Count'>"
      ]
     },
     "execution_count": 14,
     "metadata": {},
     "output_type": "execute_result"
    },
    {
     "data": {
      "image/png": "[encoded data removed]",
      "text/plain": [
       "<Figure size 432x288 with 1 Axes>"
      ]
     },
     "metadata": {
      "needs_background": "light"
     },
     "output_type": "display_data"
    }
   ],
   "source": [
    "sns.histplot(df['dcto'])"
   ]
  },
  {
   "cell_type": "code",
   "execution_count": 15,
   "metadata": {},
   "outputs": [
    {
     "data": {
      "text/plain": [
       "<AxesSubplot:xlabel='cashback', ylabel='Count'>"
      ]
     },
     "execution_count": 15,
     "metadata": {},
     "output_type": "execute_result"
    },
    {
     "data": {
      "image/png": "[encoded data removed]",
      "text/plain": [
       "<Figure size 432x288 with 1 Axes>"
      ]
     },
     "metadata": {
      "needs_background": "light"
     },
     "output_type": "display_data"
    }
   ],
   "source": [
    "sns.histplot(df['cashback'])"
   ]
  },
  {
   "cell_type": "code",
   "execution_count": 16,
   "metadata": {},
   "outputs": [
    {
     "data": {
      "text/plain": [
       "<seaborn.axisgrid.FacetGrid at 0x11bcd87d0>"
      ]
     },
     "execution_count": 16,
     "metadata": {},
     "output_type": "execute_result"
    },
    {
     "data": {
      "image/png": "[encoded data removed]",
      "text/plain": [
       "<Figure size 649.375x360 with 1 Axes>"
      ]
     },
     "metadata": {
      "needs_background": "light"
     },
     "output_type": "display_data"
    }
   ],
   "source": [
    "sns.displot(df,x='monto',hue='dispositivo',multiple='stack')"
   ]
  },
  {
   "cell_type": "code",
   "execution_count": 17,
   "metadata": {},
   "outputs": [
    {
     "data": {
      "text/plain": [
       "<seaborn.axisgrid.FacetGrid at 0x11bc8ae10>"
      ]
     },
     "execution_count": 17,
     "metadata": {},
     "output_type": "execute_result"
    },
    {
     "data": {
      "image/png": "[encoded data removed]",
      "text/plain": [
       "<Figure size 421.25x360 with 1 Axes>"
      ]
     },
     "metadata": {
      "needs_background": "light"
     },
     "output_type": "display_data"
    }
   ],
   "source": [
    "sns.displot(df,x='cashback',hue='fraude',multiple='stack')"
   ]
  },
  {
   "cell_type": "code",
   "execution_count": 18,
   "metadata": {},
   "outputs": [
    {
     "data": {
      "text/plain": [
       "<seaborn.axisgrid.FacetGrid at 0x11ca25690>"
      ]
     },
     "execution_count": 18,
     "metadata": {},
     "output_type": "execute_result"
    },
    {
     "data": {
      "image/png": "[encoded data removed]",
      "text/plain": [
       "<Figure size 456.75x360 with 1 Axes>"
      ]
     },
     "metadata": {
      "needs_background": "light"
     },
     "output_type": "display_data"
    }
   ],
   "source": [
    "sns.displot(df,x='cashback',hue='establecimiento',multiple='stack')"
   ]
  },
  {
   "cell_type": "code",
   "execution_count": 20,
   "metadata": {},
   "outputs": [
    {
     "data": {
      "text/plain": [
       "<seaborn.axisgrid.FacetGrid at 0x11cf0cc10>"
      ]
     },
     "execution_count": 20,
     "metadata": {},
     "output_type": "execute_result"
    },
    {
     "data": {
      "image/png": "[encoded data removed]",
      "text/plain": [
       "<Figure size 428.875x360 with 1 Axes>"
      ]
     },
     "metadata": {
      "needs_background": "light"
     },
     "output_type": "display_data"
    }
   ],
   "source": [
    "sns.displot(df,x='cashback',hue='tipo_tc')"
   ]
  },
  {
   "cell_type": "code",
   "execution_count": 21,
   "metadata": {},
   "outputs": [
    {
     "data": {
      "text/plain": [
       "<AxesSubplot:xlabel='fraude', ylabel='count'>"
      ]
     },
     "execution_count": 21,
     "metadata": {},
     "output_type": "execute_result"
    },
    {
     "data": {
      "image/png": "[encoded data removed]",
      "text/plain": [
       "<Figure size 432x288 with 1 Axes>"
      ]
     },
     "metadata": {
      "needs_background": "light"
     },
     "output_type": "display_data"
    }
   ],
   "source": [
    "sns.countplot(data=df,x='fraude')"
   ]
  },
  {
   "cell_type": "code",
   "execution_count": 22,
   "metadata": {},
   "outputs": [
    {
     "data": {
      "text/plain": [
       "<AxesSubplot:xlabel='tipo_tc', ylabel='count'>"
      ]
     },
     "execution_count": 22,
     "metadata": {},
     "output_type": "execute_result"
    },
    {
     "data": {
      "image/png": "[encoded data removed]",
      "text/plain": [
       "<Figure size 432x288 with 1 Axes>"
      ]
     },
     "metadata": {
      "needs_background": "light"
     },
     "output_type": "display_data"
    }
   ],
   "source": [
    "sns.countplot(data=df,x='tipo_tc')"
   ]
  },
  {
   "cell_type": "code",
   "execution_count": 23,
   "metadata": {},
   "outputs": [
    {
     "data": {
      "text/plain": [
       "<AxesSubplot:xlabel='establecimiento', ylabel='count'>"
      ]
     },
     "execution_count": 23,
     "metadata": {},
     "output_type": "execute_result"
    },
    {
     "data": {
      "image/png": "[encoded data removed]",
      "text/plain": [
       "<Figure size 432x288 with 1 Axes>"
      ]
     },
     "metadata": {
      "needs_background": "light"
     },
     "output_type": "display_data"
    }
   ],
   "source": [
    "sns.countplot(data=df,x='establecimiento',hue='tipo_tc')"
   ]
  },
  {
   "cell_type": "code",
   "execution_count": 24,
   "metadata": {},
   "outputs": [
    {
     "data": {
      "text/plain": [
       "<AxesSubplot:xlabel='establecimiento', ylabel='count'>"
      ]
     },
     "execution_count": 24,
     "metadata": {},
     "output_type": "execute_result"
    },
    {
     "data": {
      "image/png": "[encoded data removed]",
      "text/plain": [
       "<Figure size 432x288 with 1 Axes>"
      ]
     },
     "metadata": {
      "needs_background": "light"
     },
     "output_type": "display_data"
    }
   ],
   "source": [
    "sns.countplot(data=df,x='establecimiento',hue='fraude')"
   ]
  },
  {
   "cell_type": "code",
   "execution_count": 25,
   "metadata": {},
   "outputs": [
    {
     "data": {
      "text/plain": [
       "<AxesSubplot:xlabel='ciudad', ylabel='count'>"
      ]
     },
     "execution_count": 25,
     "metadata": {},
     "output_type": "execute_result"
    },
    {
     "data": {
      "image/png": "[encoded data removed]",
      "text/plain": [
       "<Figure size 432x288 with 1 Axes>"
      ]
     },
     "metadata": {
      "needs_background": "light"
     },
     "output_type": "display_data"
    }
   ],
   "source": [
    "sns.countplot(data=df,x='ciudad',hue='tipo_tc')"
   ]
  },
  {
   "cell_type": "code",
   "execution_count": 28,
   "metadata": {},
   "outputs": [
    {
     "data": {
      "text/plain": [
       "fraude\n",
       "False    26165\n",
       "True       810\n",
       "dtype: int64"
      ]
     },
     "execution_count": 28,
     "metadata": {},
     "output_type": "execute_result"
    }
   ],
   "source": [
    "df[(['id_user','fraude'])].groupby('fraude').size()"
   ]
  },
  {
   "cell_type": "code",
   "execution_count": 29,
   "metadata": {},
   "outputs": [],
   "source": [
    "hola=df['id_user'].value_counts()"
   ]
  },
  {
   "cell_type": "code",
   "execution_count": 30,
   "metadata": {},
   "outputs": [],
   "source": [
    "hola=pd.DataFrame(hola)"
   ]
  },
  {
   "cell_type": "code",
   "execution_count": 48,
   "metadata": {},
   "outputs": [
    {
     "data": {
      "text/html": [
       "<div>\n",
       "<style scoped>\n",
       "    .dataframe tbody tr th:only-of-type {\n",
       "        vertical-align: middle;\n",
       "    }\n",
       "\n",
       "    .dataframe tbody tr th {\n",
       "        vertical-align: top;\n",
       "    }\n",
       "\n",
       "    .dataframe thead th {\n",
       "        text-align: right;\n",
       "    }\n",
       "</style>\n",
       "<table border=\"1\" class=\"dataframe\">\n",
       "  <thead>\n",
       "    <tr style=\"text-align: right;\">\n",
       "      <th></th>\n",
       "      <th>id_user</th>\n",
       "    </tr>\n",
       "  </thead>\n",
       "  <tbody>\n",
       "    <tr>\n",
       "      <th>1958</th>\n",
       "      <td>62</td>\n",
       "    </tr>\n",
       "    <tr>\n",
       "      <th>320</th>\n",
       "      <td>46</td>\n",
       "    </tr>\n",
       "    <tr>\n",
       "      <th>2845</th>\n",
       "      <td>42</td>\n",
       "    </tr>\n",
       "    <tr>\n",
       "      <th>1361</th>\n",
       "      <td>42</td>\n",
       "    </tr>\n",
       "    <tr>\n",
       "      <th>3678</th>\n",
       "      <td>40</td>\n",
       "    </tr>\n",
       "    <tr>\n",
       "      <th>2414</th>\n",
       "      <td>40</td>\n",
       "    </tr>\n",
       "    <tr>\n",
       "      <th>3662</th>\n",
       "      <td>38</td>\n",
       "    </tr>\n",
       "    <tr>\n",
       "      <th>3685</th>\n",
       "      <td>38</td>\n",
       "    </tr>\n",
       "    <tr>\n",
       "      <th>1872</th>\n",
       "      <td>38</td>\n",
       "    </tr>\n",
       "    <tr>\n",
       "      <th>1096</th>\n",
       "      <td>37</td>\n",
       "    </tr>\n",
       "    <tr>\n",
       "      <th>1542</th>\n",
       "      <td>37</td>\n",
       "    </tr>\n",
       "    <tr>\n",
       "      <th>3255</th>\n",
       "      <td>36</td>\n",
       "    </tr>\n",
       "    <tr>\n",
       "      <th>1192</th>\n",
       "      <td>36</td>\n",
       "    </tr>\n",
       "    <tr>\n",
       "      <th>821</th>\n",
       "      <td>35</td>\n",
       "    </tr>\n",
       "    <tr>\n",
       "      <th>1086</th>\n",
       "      <td>35</td>\n",
       "    </tr>\n",
       "    <tr>\n",
       "      <th>1865</th>\n",
       "      <td>35</td>\n",
       "    </tr>\n",
       "    <tr>\n",
       "      <th>316</th>\n",
       "      <td>34</td>\n",
       "    </tr>\n",
       "    <tr>\n",
       "      <th>1362</th>\n",
       "      <td>34</td>\n",
       "    </tr>\n",
       "    <tr>\n",
       "      <th>2647</th>\n",
       "      <td>33</td>\n",
       "    </tr>\n",
       "    <tr>\n",
       "      <th>3993</th>\n",
       "      <td>33</td>\n",
       "    </tr>\n",
       "    <tr>\n",
       "      <th>2330</th>\n",
       "      <td>33</td>\n",
       "    </tr>\n",
       "    <tr>\n",
       "      <th>3913</th>\n",
       "      <td>32</td>\n",
       "    </tr>\n",
       "    <tr>\n",
       "      <th>3179</th>\n",
       "      <td>32</td>\n",
       "    </tr>\n",
       "    <tr>\n",
       "      <th>1700</th>\n",
       "      <td>31</td>\n",
       "    </tr>\n",
       "    <tr>\n",
       "      <th>3253</th>\n",
       "      <td>31</td>\n",
       "    </tr>\n",
       "    <tr>\n",
       "      <th>3576</th>\n",
       "      <td>31</td>\n",
       "    </tr>\n",
       "    <tr>\n",
       "      <th>3807</th>\n",
       "      <td>31</td>\n",
       "    </tr>\n",
       "    <tr>\n",
       "      <th>1603</th>\n",
       "      <td>31</td>\n",
       "    </tr>\n",
       "    <tr>\n",
       "      <th>997</th>\n",
       "      <td>31</td>\n",
       "    </tr>\n",
       "    <tr>\n",
       "      <th>2402</th>\n",
       "      <td>30</td>\n",
       "    </tr>\n",
       "    <tr>\n",
       "      <th>2307</th>\n",
       "      <td>30</td>\n",
       "    </tr>\n",
       "    <tr>\n",
       "      <th>712</th>\n",
       "      <td>30</td>\n",
       "    </tr>\n",
       "    <tr>\n",
       "      <th>1554</th>\n",
       "      <td>30</td>\n",
       "    </tr>\n",
       "    <tr>\n",
       "      <th>3425</th>\n",
       "      <td>30</td>\n",
       "    </tr>\n",
       "    <tr>\n",
       "      <th>3276</th>\n",
       "      <td>30</td>\n",
       "    </tr>\n",
       "    <tr>\n",
       "      <th>691</th>\n",
       "      <td>29</td>\n",
       "    </tr>\n",
       "    <tr>\n",
       "      <th>3916</th>\n",
       "      <td>29</td>\n",
       "    </tr>\n",
       "    <tr>\n",
       "      <th>3927</th>\n",
       "      <td>29</td>\n",
       "    </tr>\n",
       "    <tr>\n",
       "      <th>279</th>\n",
       "      <td>29</td>\n",
       "    </tr>\n",
       "    <tr>\n",
       "      <th>2634</th>\n",
       "      <td>29</td>\n",
       "    </tr>\n",
       "    <tr>\n",
       "      <th>2019</th>\n",
       "      <td>29</td>\n",
       "    </tr>\n",
       "    <tr>\n",
       "      <th>3740</th>\n",
       "      <td>28</td>\n",
       "    </tr>\n",
       "    <tr>\n",
       "      <th>2150</th>\n",
       "      <td>28</td>\n",
       "    </tr>\n",
       "    <tr>\n",
       "      <th>184</th>\n",
       "      <td>28</td>\n",
       "    </tr>\n",
       "    <tr>\n",
       "      <th>2701</th>\n",
       "      <td>28</td>\n",
       "    </tr>\n",
       "    <tr>\n",
       "      <th>539</th>\n",
       "      <td>28</td>\n",
       "    </tr>\n",
       "    <tr>\n",
       "      <th>1490</th>\n",
       "      <td>28</td>\n",
       "    </tr>\n",
       "    <tr>\n",
       "      <th>1862</th>\n",
       "      <td>28</td>\n",
       "    </tr>\n",
       "    <tr>\n",
       "      <th>3431</th>\n",
       "      <td>27</td>\n",
       "    </tr>\n",
       "    <tr>\n",
       "      <th>2872</th>\n",
       "      <td>27</td>\n",
       "    </tr>\n",
       "    <tr>\n",
       "      <th>289</th>\n",
       "      <td>27</td>\n",
       "    </tr>\n",
       "    <tr>\n",
       "      <th>818</th>\n",
       "      <td>27</td>\n",
       "    </tr>\n",
       "    <tr>\n",
       "      <th>652</th>\n",
       "      <td>27</td>\n",
       "    </tr>\n",
       "    <tr>\n",
       "      <th>732</th>\n",
       "      <td>27</td>\n",
       "    </tr>\n",
       "    <tr>\n",
       "      <th>1531</th>\n",
       "      <td>27</td>\n",
       "    </tr>\n",
       "    <tr>\n",
       "      <th>3636</th>\n",
       "      <td>26</td>\n",
       "    </tr>\n",
       "    <tr>\n",
       "      <th>1549</th>\n",
       "      <td>26</td>\n",
       "    </tr>\n",
       "    <tr>\n",
       "      <th>1041</th>\n",
       "      <td>26</td>\n",
       "    </tr>\n",
       "    <tr>\n",
       "      <th>3100</th>\n",
       "      <td>26</td>\n",
       "    </tr>\n",
       "    <tr>\n",
       "      <th>1395</th>\n",
       "      <td>26</td>\n",
       "    </tr>\n",
       "    <tr>\n",
       "      <th>3571</th>\n",
       "      <td>26</td>\n",
       "    </tr>\n",
       "    <tr>\n",
       "      <th>2160</th>\n",
       "      <td>26</td>\n",
       "    </tr>\n",
       "    <tr>\n",
       "      <th>2339</th>\n",
       "      <td>26</td>\n",
       "    </tr>\n",
       "    <tr>\n",
       "      <th>3359</th>\n",
       "      <td>26</td>\n",
       "    </tr>\n",
       "    <tr>\n",
       "      <th>1191</th>\n",
       "      <td>26</td>\n",
       "    </tr>\n",
       "    <tr>\n",
       "      <th>2286</th>\n",
       "      <td>26</td>\n",
       "    </tr>\n",
       "    <tr>\n",
       "      <th>1462</th>\n",
       "      <td>26</td>\n",
       "    </tr>\n",
       "    <tr>\n",
       "      <th>1941</th>\n",
       "      <td>26</td>\n",
       "    </tr>\n",
       "    <tr>\n",
       "      <th>3994</th>\n",
       "      <td>26</td>\n",
       "    </tr>\n",
       "    <tr>\n",
       "      <th>3260</th>\n",
       "      <td>25</td>\n",
       "    </tr>\n",
       "    <tr>\n",
       "      <th>3127</th>\n",
       "      <td>25</td>\n",
       "    </tr>\n",
       "    <tr>\n",
       "      <th>3826</th>\n",
       "      <td>25</td>\n",
       "    </tr>\n",
       "    <tr>\n",
       "      <th>1389</th>\n",
       "      <td>25</td>\n",
       "    </tr>\n",
       "    <tr>\n",
       "      <th>3626</th>\n",
       "      <td>25</td>\n",
       "    </tr>\n",
       "    <tr>\n",
       "      <th>321</th>\n",
       "      <td>25</td>\n",
       "    </tr>\n",
       "    <tr>\n",
       "      <th>1058</th>\n",
       "      <td>25</td>\n",
       "    </tr>\n",
       "    <tr>\n",
       "      <th>2974</th>\n",
       "      <td>25</td>\n",
       "    </tr>\n",
       "    <tr>\n",
       "      <th>2177</th>\n",
       "      <td>25</td>\n",
       "    </tr>\n",
       "    <tr>\n",
       "      <th>2535</th>\n",
       "      <td>25</td>\n",
       "    </tr>\n",
       "    <tr>\n",
       "      <th>213</th>\n",
       "      <td>25</td>\n",
       "    </tr>\n",
       "    <tr>\n",
       "      <th>2423</th>\n",
       "      <td>25</td>\n",
       "    </tr>\n",
       "    <tr>\n",
       "      <th>2397</th>\n",
       "      <td>25</td>\n",
       "    </tr>\n",
       "    <tr>\n",
       "      <th>3939</th>\n",
       "      <td>25</td>\n",
       "    </tr>\n",
       "    <tr>\n",
       "      <th>2762</th>\n",
       "      <td>25</td>\n",
       "    </tr>\n",
       "    <tr>\n",
       "      <th>250</th>\n",
       "      <td>25</td>\n",
       "    </tr>\n",
       "    <tr>\n",
       "      <th>2151</th>\n",
       "      <td>25</td>\n",
       "    </tr>\n",
       "    <tr>\n",
       "      <th>1208</th>\n",
       "      <td>25</td>\n",
       "    </tr>\n",
       "    <tr>\n",
       "      <th>740</th>\n",
       "      <td>24</td>\n",
       "    </tr>\n",
       "    <tr>\n",
       "      <th>3274</th>\n",
       "      <td>24</td>\n",
       "    </tr>\n",
       "    <tr>\n",
       "      <th>1460</th>\n",
       "      <td>24</td>\n",
       "    </tr>\n",
       "    <tr>\n",
       "      <th>1074</th>\n",
       "      <td>24</td>\n",
       "    </tr>\n",
       "    <tr>\n",
       "      <th>1492</th>\n",
       "      <td>24</td>\n",
       "    </tr>\n",
       "    <tr>\n",
       "      <th>2969</th>\n",
       "      <td>24</td>\n",
       "    </tr>\n",
       "    <tr>\n",
       "      <th>2348</th>\n",
       "      <td>24</td>\n",
       "    </tr>\n",
       "    <tr>\n",
       "      <th>3823</th>\n",
       "      <td>24</td>\n",
       "    </tr>\n",
       "    <tr>\n",
       "      <th>3266</th>\n",
       "      <td>24</td>\n",
       "    </tr>\n",
       "    <tr>\n",
       "      <th>494</th>\n",
       "      <td>24</td>\n",
       "    </tr>\n",
       "    <tr>\n",
       "      <th>168</th>\n",
       "      <td>24</td>\n",
       "    </tr>\n",
       "    <tr>\n",
       "      <th>3315</th>\n",
       "      <td>24</td>\n",
       "    </tr>\n",
       "    <tr>\n",
       "      <th>2631</th>\n",
       "      <td>24</td>\n",
       "    </tr>\n",
       "  </tbody>\n",
       "</table>\n",
       "</div>"
      ],
      "text/plain": [
       "      id_user\n",
       "1958       62\n",
       "320        46\n",
       "2845       42\n",
       "1361       42\n",
       "3678       40\n",
       "2414       40\n",
       "3662       38\n",
       "3685       38\n",
       "1872       38\n",
       "1096       37\n",
       "1542       37\n",
       "3255       36\n",
       "1192       36\n",
       "821        35\n",
       "1086       35\n",
       "1865       35\n",
       "316        34\n",
       "1362       34\n",
       "2647       33\n",
       "3993       33\n",
       "2330       33\n",
       "3913       32\n",
       "3179       32\n",
       "1700       31\n",
       "3253       31\n",
       "3576       31\n",
       "3807       31\n",
       "1603       31\n",
       "997        31\n",
       "2402       30\n",
       "2307       30\n",
       "712        30\n",
       "1554       30\n",
       "3425       30\n",
       "3276       30\n",
       "691        29\n",
       "3916       29\n",
       "3927       29\n",
       "279        29\n",
       "2634       29\n",
       "2019       29\n",
       "3740       28\n",
       "2150       28\n",
       "184        28\n",
       "2701       28\n",
       "539        28\n",
       "1490       28\n",
       "1862       28\n",
       "3431       27\n",
       "2872       27\n",
       "289        27\n",
       "818        27\n",
       "652        27\n",
       "732        27\n",
       "1531       27\n",
       "3636       26\n",
       "1549       26\n",
       "1041       26\n",
       "3100       26\n",
       "1395       26\n",
       "3571       26\n",
       "2160       26\n",
       "2339       26\n",
       "3359       26\n",
       "1191       26\n",
       "2286       26\n",
       "1462       26\n",
       "1941       26\n",
       "3994       26\n",
       "3260       25\n",
       "3127       25\n",
       "3826       25\n",
       "1389       25\n",
       "3626       25\n",
       "321        25\n",
       "1058       25\n",
       "2974       25\n",
       "2177       25\n",
       "2535       25\n",
       "213        25\n",
       "2423       25\n",
       "2397       25\n",
       "3939       25\n",
       "2762       25\n",
       "250        25\n",
       "2151       25\n",
       "1208       25\n",
       "740        24\n",
       "3274       24\n",
       "1460       24\n",
       "1074       24\n",
       "1492       24\n",
       "2969       24\n",
       "2348       24\n",
       "3823       24\n",
       "3266       24\n",
       "494        24\n",
       "168        24\n",
       "3315       24\n",
       "2631       24"
      ]
     },
     "execution_count": 48,
     "metadata": {},
     "output_type": "execute_result"
    }
   ],
   "source": [
    "hola.head(100)"
   ]
  },
  {
   "cell_type": "code",
   "execution_count": 47,
   "metadata": {},
   "outputs": [
    {
     "data": {
      "text/html": [
       "<div>\n",
       "<style scoped>\n",
       "    .dataframe tbody tr th:only-of-type {\n",
       "        vertical-align: middle;\n",
       "    }\n",
       "\n",
       "    .dataframe tbody tr th {\n",
       "        vertical-align: top;\n",
       "    }\n",
       "\n",
       "    .dataframe thead th {\n",
       "        text-align: right;\n",
       "    }\n",
       "</style>\n",
       "<table border=\"1\" class=\"dataframe\">\n",
       "  <thead>\n",
       "    <tr style=\"text-align: right;\">\n",
       "      <th></th>\n",
       "      <th>id_user</th>\n",
       "    </tr>\n",
       "  </thead>\n",
       "  <tbody>\n",
       "  </tbody>\n",
       "</table>\n",
       "</div>"
      ],
      "text/plain": [
       "Empty DataFrame\n",
       "Columns: [id_user]\n",
       "Index: []"
      ]
     },
     "execution_count": 47,
     "metadata": {},
     "output_type": "execute_result"
    }
   ],
   "source": [
    "hola[hola['id_user']==50].tail(100)"
   ]
  },
  {
   "cell_type": "code",
   "execution_count": 51,
   "metadata": {},
   "outputs": [
    {
     "data": {
      "text/plain": [
       "<AxesSubplot:ylabel='Count'>"
      ]
     },
     "execution_count": 51,
     "metadata": {},
     "output_type": "execute_result"
    },
    {
     "data": {
      "image/png": "[encoded data removed]",
      "text/plain": [
       "<Figure size 720x360 with 1 Axes>"
      ]
     },
     "metadata": {},
     "output_type": "display_data"
    }
   ],
   "source": [
    "sns.set(style='whitegrid',rc={'figure.figsize':(10,5)})\n",
    "sns.histplot(hola,bins=150)"
   ]
  },
  {
   "cell_type": "code",
   "execution_count": 52,
   "metadata": {},
   "outputs": [
    {
     "data": {
      "text/html": [
       "<div>\n",
       "<style scoped>\n",
       "    .dataframe tbody tr th:only-of-type {\n",
       "        vertical-align: middle;\n",
       "    }\n",
       "\n",
       "    .dataframe tbody tr th {\n",
       "        vertical-align: top;\n",
       "    }\n",
       "\n",
       "    .dataframe thead th {\n",
       "        text-align: right;\n",
       "    }\n",
       "</style>\n",
       "<table border=\"1\" class=\"dataframe\">\n",
       "  <thead>\n",
       "    <tr style=\"text-align: right;\">\n",
       "      <th></th>\n",
       "      <th>id_user</th>\n",
       "      <th>genero</th>\n",
       "      <th>monto</th>\n",
       "      <th>fecha</th>\n",
       "      <th>hora</th>\n",
       "      <th>dispositivo</th>\n",
       "      <th>establecimiento</th>\n",
       "      <th>ciudad</th>\n",
       "      <th>tipo_tc</th>\n",
       "      <th>linea_tc</th>\n",
       "      <th>interes_tc</th>\n",
       "      <th>status_txn</th>\n",
       "      <th>is_prime</th>\n",
       "      <th>dcto</th>\n",
       "      <th>cashback</th>\n",
       "      <th>fraude</th>\n",
       "    </tr>\n",
       "  </thead>\n",
       "  <tbody>\n",
       "    <tr>\n",
       "      <th>13141</th>\n",
       "      <td>1958</td>\n",
       "      <td>M</td>\n",
       "      <td>379.756046</td>\n",
       "      <td>2020-01-02</td>\n",
       "      <td>11</td>\n",
       "      <td>{'model': 2020, 'device_score': 4, 'os': 'ANDR...</td>\n",
       "      <td>Abarrotes</td>\n",
       "      <td>NaN</td>\n",
       "      <td>Física</td>\n",
       "      <td>33000</td>\n",
       "      <td>63</td>\n",
       "      <td>Aceptada</td>\n",
       "      <td>False</td>\n",
       "      <td>37.975605</td>\n",
       "      <td>3.417804</td>\n",
       "      <td>False</td>\n",
       "    </tr>\n",
       "    <tr>\n",
       "      <th>13142</th>\n",
       "      <td>1958</td>\n",
       "      <td>M</td>\n",
       "      <td>808.420377</td>\n",
       "      <td>2020-01-21</td>\n",
       "      <td>20</td>\n",
       "      <td>{'model': 2020, 'device_score': 2, 'os': '.'}</td>\n",
       "      <td>Restaurante</td>\n",
       "      <td>NaN</td>\n",
       "      <td>Virtual</td>\n",
       "      <td>33000</td>\n",
       "      <td>63</td>\n",
       "      <td>Aceptada</td>\n",
       "      <td>False</td>\n",
       "      <td>80.842038</td>\n",
       "      <td>14.551567</td>\n",
       "      <td>False</td>\n",
       "    </tr>\n",
       "    <tr>\n",
       "      <th>13143</th>\n",
       "      <td>1958</td>\n",
       "      <td>M</td>\n",
       "      <td>902.042267</td>\n",
       "      <td>2020-01-08</td>\n",
       "      <td>21</td>\n",
       "      <td>{'model': 2020, 'device_score': 3, 'os': '%%'}</td>\n",
       "      <td>NaN</td>\n",
       "      <td>NaN</td>\n",
       "      <td>Física</td>\n",
       "      <td>33000</td>\n",
       "      <td>63</td>\n",
       "      <td>Aceptada</td>\n",
       "      <td>False</td>\n",
       "      <td>0.000000</td>\n",
       "      <td>9.020423</td>\n",
       "      <td>False</td>\n",
       "    </tr>\n",
       "    <tr>\n",
       "      <th>13144</th>\n",
       "      <td>1958</td>\n",
       "      <td>M</td>\n",
       "      <td>43.546293</td>\n",
       "      <td>2020-01-05</td>\n",
       "      <td>1</td>\n",
       "      <td>{'model': 2020, 'device_score': 4, 'os': 'WEB'}</td>\n",
       "      <td>Super</td>\n",
       "      <td>NaN</td>\n",
       "      <td>Física</td>\n",
       "      <td>33000</td>\n",
       "      <td>63</td>\n",
       "      <td>En proceso</td>\n",
       "      <td>False</td>\n",
       "      <td>0.000000</td>\n",
       "      <td>0.435463</td>\n",
       "      <td>False</td>\n",
       "    </tr>\n",
       "    <tr>\n",
       "      <th>13145</th>\n",
       "      <td>1958</td>\n",
       "      <td>M</td>\n",
       "      <td>66.095718</td>\n",
       "      <td>2020-01-05</td>\n",
       "      <td>4</td>\n",
       "      <td>{'model': 2020, 'device_score': 5, 'os': 'WEB'}</td>\n",
       "      <td>MPago</td>\n",
       "      <td>NaN</td>\n",
       "      <td>Física</td>\n",
       "      <td>33000</td>\n",
       "      <td>63</td>\n",
       "      <td>Rechazada</td>\n",
       "      <td>False</td>\n",
       "      <td>0.000000</td>\n",
       "      <td>0.660957</td>\n",
       "      <td>False</td>\n",
       "    </tr>\n",
       "    <tr>\n",
       "      <th>13146</th>\n",
       "      <td>1958</td>\n",
       "      <td>M</td>\n",
       "      <td>419.469445</td>\n",
       "      <td>2020-01-10</td>\n",
       "      <td>20</td>\n",
       "      <td>{'model': 2020, 'device_score': 2, 'os': '.'}</td>\n",
       "      <td>Abarrotes</td>\n",
       "      <td>NaN</td>\n",
       "      <td>Física</td>\n",
       "      <td>33000</td>\n",
       "      <td>63</td>\n",
       "      <td>Aceptada</td>\n",
       "      <td>False</td>\n",
       "      <td>83.893889</td>\n",
       "      <td>3.355756</td>\n",
       "      <td>False</td>\n",
       "    </tr>\n",
       "    <tr>\n",
       "      <th>13147</th>\n",
       "      <td>1958</td>\n",
       "      <td>M</td>\n",
       "      <td>509.847800</td>\n",
       "      <td>2020-01-09</td>\n",
       "      <td>13</td>\n",
       "      <td>{'model': 2020, 'device_score': 2, 'os': 'WEB'}</td>\n",
       "      <td>NaN</td>\n",
       "      <td>NaN</td>\n",
       "      <td>Física</td>\n",
       "      <td>33000</td>\n",
       "      <td>63</td>\n",
       "      <td>Aceptada</td>\n",
       "      <td>False</td>\n",
       "      <td>50.984780</td>\n",
       "      <td>4.588630</td>\n",
       "      <td>False</td>\n",
       "    </tr>\n",
       "    <tr>\n",
       "      <th>13148</th>\n",
       "      <td>1958</td>\n",
       "      <td>M</td>\n",
       "      <td>895.286932</td>\n",
       "      <td>2020-01-12</td>\n",
       "      <td>14</td>\n",
       "      <td>{'model': 2020, 'device_score': 3, 'os': '.'}</td>\n",
       "      <td>Super</td>\n",
       "      <td>NaN</td>\n",
       "      <td>Virtual</td>\n",
       "      <td>33000</td>\n",
       "      <td>63</td>\n",
       "      <td>Aceptada</td>\n",
       "      <td>False</td>\n",
       "      <td>0.000000</td>\n",
       "      <td>17.905739</td>\n",
       "      <td>False</td>\n",
       "    </tr>\n",
       "    <tr>\n",
       "      <th>13149</th>\n",
       "      <td>1958</td>\n",
       "      <td>M</td>\n",
       "      <td>300.480050</td>\n",
       "      <td>2020-01-06</td>\n",
       "      <td>3</td>\n",
       "      <td>{'model': 2020, 'device_score': 1, 'os': 'WEB'}</td>\n",
       "      <td>MPago</td>\n",
       "      <td>NaN</td>\n",
       "      <td>Virtual</td>\n",
       "      <td>33000</td>\n",
       "      <td>63</td>\n",
       "      <td>Aceptada</td>\n",
       "      <td>False</td>\n",
       "      <td>30.048005</td>\n",
       "      <td>5.408641</td>\n",
       "      <td>False</td>\n",
       "    </tr>\n",
       "    <tr>\n",
       "      <th>13150</th>\n",
       "      <td>1958</td>\n",
       "      <td>M</td>\n",
       "      <td>518.351848</td>\n",
       "      <td>2020-01-24</td>\n",
       "      <td>20</td>\n",
       "      <td>{'model': 2020, 'device_score': 2, 'os': '%%'}</td>\n",
       "      <td>Restaurante</td>\n",
       "      <td>NaN</td>\n",
       "      <td>Virtual</td>\n",
       "      <td>33000</td>\n",
       "      <td>63</td>\n",
       "      <td>Rechazada</td>\n",
       "      <td>False</td>\n",
       "      <td>51.835185</td>\n",
       "      <td>9.330333</td>\n",
       "      <td>False</td>\n",
       "    </tr>\n",
       "    <tr>\n",
       "      <th>13151</th>\n",
       "      <td>1958</td>\n",
       "      <td>M</td>\n",
       "      <td>980.802252</td>\n",
       "      <td>2020-01-07</td>\n",
       "      <td>3</td>\n",
       "      <td>{'model': 2020, 'device_score': 1, 'os': 'WEB'}</td>\n",
       "      <td>Abarrotes</td>\n",
       "      <td>NaN</td>\n",
       "      <td>Física</td>\n",
       "      <td>33000</td>\n",
       "      <td>63</td>\n",
       "      <td>Rechazada</td>\n",
       "      <td>False</td>\n",
       "      <td>0.000000</td>\n",
       "      <td>9.808023</td>\n",
       "      <td>False</td>\n",
       "    </tr>\n",
       "    <tr>\n",
       "      <th>13152</th>\n",
       "      <td>1958</td>\n",
       "      <td>M</td>\n",
       "      <td>316.797368</td>\n",
       "      <td>2020-01-19</td>\n",
       "      <td>14</td>\n",
       "      <td>{'model': 2020, 'device_score': 4, 'os': '%%'}</td>\n",
       "      <td>Abarrotes</td>\n",
       "      <td>NaN</td>\n",
       "      <td>Física</td>\n",
       "      <td>33000</td>\n",
       "      <td>63</td>\n",
       "      <td>En proceso</td>\n",
       "      <td>False</td>\n",
       "      <td>0.000000</td>\n",
       "      <td>3.167974</td>\n",
       "      <td>False</td>\n",
       "    </tr>\n",
       "    <tr>\n",
       "      <th>13153</th>\n",
       "      <td>1958</td>\n",
       "      <td>M</td>\n",
       "      <td>535.642203</td>\n",
       "      <td>2020-01-30</td>\n",
       "      <td>5</td>\n",
       "      <td>{'model': 2020, 'device_score': 3, 'os': '.'}</td>\n",
       "      <td>Farmacia</td>\n",
       "      <td>NaN</td>\n",
       "      <td>Física</td>\n",
       "      <td>33000</td>\n",
       "      <td>63</td>\n",
       "      <td>En proceso</td>\n",
       "      <td>False</td>\n",
       "      <td>0.000000</td>\n",
       "      <td>5.356422</td>\n",
       "      <td>False</td>\n",
       "    </tr>\n",
       "    <tr>\n",
       "      <th>13154</th>\n",
       "      <td>1958</td>\n",
       "      <td>M</td>\n",
       "      <td>785.928010</td>\n",
       "      <td>2020-01-27</td>\n",
       "      <td>12</td>\n",
       "      <td>{'model': 2020, 'device_score': 1, 'os': 'WEB'}</td>\n",
       "      <td>NaN</td>\n",
       "      <td>NaN</td>\n",
       "      <td>Física</td>\n",
       "      <td>33000</td>\n",
       "      <td>63</td>\n",
       "      <td>Aceptada</td>\n",
       "      <td>False</td>\n",
       "      <td>0.000000</td>\n",
       "      <td>7.859280</td>\n",
       "      <td>False</td>\n",
       "    </tr>\n",
       "    <tr>\n",
       "      <th>13155</th>\n",
       "      <td>1958</td>\n",
       "      <td>M</td>\n",
       "      <td>659.665589</td>\n",
       "      <td>2020-01-09</td>\n",
       "      <td>20</td>\n",
       "      <td>{'model': 2020, 'device_score': 1, 'os': 'WEB'}</td>\n",
       "      <td>Super</td>\n",
       "      <td>NaN</td>\n",
       "      <td>Física</td>\n",
       "      <td>33000</td>\n",
       "      <td>63</td>\n",
       "      <td>Aceptada</td>\n",
       "      <td>False</td>\n",
       "      <td>0.000000</td>\n",
       "      <td>6.596656</td>\n",
       "      <td>False</td>\n",
       "    </tr>\n",
       "    <tr>\n",
       "      <th>13156</th>\n",
       "      <td>1958</td>\n",
       "      <td>M</td>\n",
       "      <td>189.416008</td>\n",
       "      <td>2020-01-27</td>\n",
       "      <td>20</td>\n",
       "      <td>{'model': 2020, 'device_score': 4, 'os': 'ANDR...</td>\n",
       "      <td>NaN</td>\n",
       "      <td>NaN</td>\n",
       "      <td>Física</td>\n",
       "      <td>33000</td>\n",
       "      <td>63</td>\n",
       "      <td>Aceptada</td>\n",
       "      <td>False</td>\n",
       "      <td>0.000000</td>\n",
       "      <td>1.894160</td>\n",
       "      <td>False</td>\n",
       "    </tr>\n",
       "    <tr>\n",
       "      <th>13157</th>\n",
       "      <td>1958</td>\n",
       "      <td>M</td>\n",
       "      <td>656.081094</td>\n",
       "      <td>2020-01-09</td>\n",
       "      <td>19</td>\n",
       "      <td>{'model': 2020, 'device_score': 1, 'os': '.'}</td>\n",
       "      <td>Abarrotes</td>\n",
       "      <td>NaN</td>\n",
       "      <td>Virtual</td>\n",
       "      <td>33000</td>\n",
       "      <td>63</td>\n",
       "      <td>Aceptada</td>\n",
       "      <td>False</td>\n",
       "      <td>0.000000</td>\n",
       "      <td>13.121622</td>\n",
       "      <td>False</td>\n",
       "    </tr>\n",
       "    <tr>\n",
       "      <th>13158</th>\n",
       "      <td>1958</td>\n",
       "      <td>M</td>\n",
       "      <td>983.695838</td>\n",
       "      <td>2020-01-23</td>\n",
       "      <td>5</td>\n",
       "      <td>{'model': 2020, 'device_score': 4, 'os': '.'}</td>\n",
       "      <td>Restaurante</td>\n",
       "      <td>NaN</td>\n",
       "      <td>Física</td>\n",
       "      <td>33000</td>\n",
       "      <td>63</td>\n",
       "      <td>Aceptada</td>\n",
       "      <td>False</td>\n",
       "      <td>0.000000</td>\n",
       "      <td>9.836958</td>\n",
       "      <td>False</td>\n",
       "    </tr>\n",
       "    <tr>\n",
       "      <th>13159</th>\n",
       "      <td>1958</td>\n",
       "      <td>M</td>\n",
       "      <td>321.201243</td>\n",
       "      <td>2020-01-22</td>\n",
       "      <td>1</td>\n",
       "      <td>{'model': 2020, 'device_score': 3, 'os': 'ANDR...</td>\n",
       "      <td>NaN</td>\n",
       "      <td>NaN</td>\n",
       "      <td>Física</td>\n",
       "      <td>33000</td>\n",
       "      <td>63</td>\n",
       "      <td>Aceptada</td>\n",
       "      <td>False</td>\n",
       "      <td>0.000000</td>\n",
       "      <td>3.212012</td>\n",
       "      <td>False</td>\n",
       "    </tr>\n",
       "    <tr>\n",
       "      <th>13160</th>\n",
       "      <td>1958</td>\n",
       "      <td>M</td>\n",
       "      <td>76.962091</td>\n",
       "      <td>2020-01-05</td>\n",
       "      <td>8</td>\n",
       "      <td>{'model': 2020, 'device_score': 5, 'os': '.'}</td>\n",
       "      <td>NaN</td>\n",
       "      <td>NaN</td>\n",
       "      <td>Física</td>\n",
       "      <td>33000</td>\n",
       "      <td>63</td>\n",
       "      <td>Aceptada</td>\n",
       "      <td>False</td>\n",
       "      <td>0.000000</td>\n",
       "      <td>0.769621</td>\n",
       "      <td>False</td>\n",
       "    </tr>\n",
       "  </tbody>\n",
       "</table>\n",
       "</div>"
      ],
      "text/plain": [
       "       id_user genero       monto      fecha  hora  \\\n",
       "13141     1958      M  379.756046 2020-01-02    11   \n",
       "13142     1958      M  808.420377 2020-01-21    20   \n",
       "13143     1958      M  902.042267 2020-01-08    21   \n",
       "13144     1958      M   43.546293 2020-01-05     1   \n",
       "13145     1958      M   66.095718 2020-01-05     4   \n",
       "13146     1958      M  419.469445 2020-01-10    20   \n",
       "13147     1958      M  509.847800 2020-01-09    13   \n",
       "13148     1958      M  895.286932 2020-01-12    14   \n",
       "13149     1958      M  300.480050 2020-01-06     3   \n",
       "13150     1958      M  518.351848 2020-01-24    20   \n",
       "13151     1958      M  980.802252 2020-01-07     3   \n",
       "13152     1958      M  316.797368 2020-01-19    14   \n",
       "13153     1958      M  535.642203 2020-01-30     5   \n",
       "13154     1958      M  785.928010 2020-01-27    12   \n",
       "13155     1958      M  659.665589 2020-01-09    20   \n",
       "13156     1958      M  189.416008 2020-01-27    20   \n",
       "13157     1958      M  656.081094 2020-01-09    19   \n",
       "13158     1958      M  983.695838 2020-01-23     5   \n",
       "13159     1958      M  321.201243 2020-01-22     1   \n",
       "13160     1958      M   76.962091 2020-01-05     8   \n",
       "\n",
       "                                             dispositivo establecimiento  \\\n",
       "13141  {'model': 2020, 'device_score': 4, 'os': 'ANDR...       Abarrotes   \n",
       "13142      {'model': 2020, 'device_score': 2, 'os': '.'}     Restaurante   \n",
       "13143     {'model': 2020, 'device_score': 3, 'os': '%%'}             NaN   \n",
       "13144    {'model': 2020, 'device_score': 4, 'os': 'WEB'}           Super   \n",
       "13145    {'model': 2020, 'device_score': 5, 'os': 'WEB'}           MPago   \n",
       "13146      {'model': 2020, 'device_score': 2, 'os': '.'}       Abarrotes   \n",
       "13147    {'model': 2020, 'device_score': 2, 'os': 'WEB'}             NaN   \n",
       "13148      {'model': 2020, 'device_score': 3, 'os': '.'}           Super   \n",
       "13149    {'model': 2020, 'device_score': 1, 'os': 'WEB'}           MPago   \n",
       "13150     {'model': 2020, 'device_score': 2, 'os': '%%'}     Restaurante   \n",
       "13151    {'model': 2020, 'device_score': 1, 'os': 'WEB'}       Abarrotes   \n",
       "13152     {'model': 2020, 'device_score': 4, 'os': '%%'}       Abarrotes   \n",
       "13153      {'model': 2020, 'device_score': 3, 'os': '.'}        Farmacia   \n",
       "13154    {'model': 2020, 'device_score': 1, 'os': 'WEB'}             NaN   \n",
       "13155    {'model': 2020, 'device_score': 1, 'os': 'WEB'}           Super   \n",
       "13156  {'model': 2020, 'device_score': 4, 'os': 'ANDR...             NaN   \n",
       "13157      {'model': 2020, 'device_score': 1, 'os': '.'}       Abarrotes   \n",
       "13158      {'model': 2020, 'device_score': 4, 'os': '.'}     Restaurante   \n",
       "13159  {'model': 2020, 'device_score': 3, 'os': 'ANDR...             NaN   \n",
       "13160      {'model': 2020, 'device_score': 5, 'os': '.'}             NaN   \n",
       "\n",
       "      ciudad  tipo_tc  linea_tc  interes_tc  status_txn  is_prime       dcto  \\\n",
       "13141    NaN   Física     33000          63    Aceptada     False  37.975605   \n",
       "13142    NaN  Virtual     33000          63    Aceptada     False  80.842038   \n",
       "13143    NaN   Física     33000          63    Aceptada     False   0.000000   \n",
       "13144    NaN   Física     33000          63  En proceso     False   0.000000   \n",
       "13145    NaN   Física     33000          63   Rechazada     False   0.000000   \n",
       "13146    NaN   Física     33000          63    Aceptada     False  83.893889   \n",
       "13147    NaN   Física     33000          63    Aceptada     False  50.984780   \n",
       "13148    NaN  Virtual     33000          63    Aceptada     False   0.000000   \n",
       "13149    NaN  Virtual     33000          63    Aceptada     False  30.048005   \n",
       "13150    NaN  Virtual     33000          63   Rechazada     False  51.835185   \n",
       "13151    NaN   Física     33000          63   Rechazada     False   0.000000   \n",
       "13152    NaN   Física     33000          63  En proceso     False   0.000000   \n",
       "13153    NaN   Física     33000          63  En proceso     False   0.000000   \n",
       "13154    NaN   Física     33000          63    Aceptada     False   0.000000   \n",
       "13155    NaN   Física     33000          63    Aceptada     False   0.000000   \n",
       "13156    NaN   Física     33000          63    Aceptada     False   0.000000   \n",
       "13157    NaN  Virtual     33000          63    Aceptada     False   0.000000   \n",
       "13158    NaN   Física     33000          63    Aceptada     False   0.000000   \n",
       "13159    NaN   Física     33000          63    Aceptada     False   0.000000   \n",
       "13160    NaN   Física     33000          63    Aceptada     False   0.000000   \n",
       "\n",
       "        cashback  fraude  \n",
       "13141   3.417804   False  \n",
       "13142  14.551567   False  \n",
       "13143   9.020423   False  \n",
       "13144   0.435463   False  \n",
       "13145   0.660957   False  \n",
       "13146   3.355756   False  \n",
       "13147   4.588630   False  \n",
       "13148  17.905739   False  \n",
       "13149   5.408641   False  \n",
       "13150   9.330333   False  \n",
       "13151   9.808023   False  \n",
       "13152   3.167974   False  \n",
       "13153   5.356422   False  \n",
       "13154   7.859280   False  \n",
       "13155   6.596656   False  \n",
       "13156   1.894160   False  \n",
       "13157  13.121622   False  \n",
       "13158   9.836958   False  \n",
       "13159   3.212012   False  \n",
       "13160   0.769621   False  "
      ]
     },
     "execution_count": 52,
     "metadata": {},
     "output_type": "execute_result"
    }
   ],
   "source": [
    "df[df['id_user']==1958].head(20)"
   ]
  },
  {
   "cell_type": "code",
   "execution_count": 28,
   "metadata": {},
   "outputs": [],
   "source": [
    "#df['id_user'].value_counts().plot(kind='bar')"
   ]
  },
  {
   "cell_type": "code",
   "execution_count": 29,
   "metadata": {},
   "outputs": [],
   "source": [
    "#sns.countplot(x='id_user',data=df)"
   ]
  },
  {
   "cell_type": "code",
   "execution_count": 30,
   "metadata": {},
   "outputs": [
    {
     "data": {
      "text/plain": [
       "<AxesSubplot:xlabel='ciudad', ylabel='count'>"
      ]
     },
     "execution_count": 30,
     "metadata": {},
     "output_type": "execute_result"
    },
    {
     "data": {
      "image/png": "[encoded data removed]",
      "text/plain": [
       "<Figure size 432x288 with 1 Axes>"
      ]
     },
     "metadata": {
      "needs_background": "light"
     },
     "output_type": "display_data"
    }
   ],
   "source": [
    "sns.countplot(x='ciudad',hue='fraude',data=df)"
   ]
  },
  {
   "cell_type": "code",
   "execution_count": 31,
   "metadata": {},
   "outputs": [
    {
     "data": {
      "text/plain": [
       "<AxesSubplot:xlabel='ciudad', ylabel='count'>"
      ]
     },
     "execution_count": 31,
     "metadata": {},
     "output_type": "execute_result"
    },
    {
     "data": {
      "image/png": "[encoded data removed]",
      "text/plain": [
       "<Figure size 432x288 with 1 Axes>"
      ]
     },
     "metadata": {
      "needs_background": "light"
     },
     "output_type": "display_data"
    }
   ],
   "source": [
    "sns.countplot(x='ciudad',hue='tipo_tc',data=df)"
   ]
  },
  {
   "cell_type": "code",
   "execution_count": 32,
   "metadata": {},
   "outputs": [
    {
     "data": {
      "text/plain": [
       "<AxesSubplot:xlabel='tipo_tc', ylabel='count'>"
      ]
     },
     "execution_count": 32,
     "metadata": {},
     "output_type": "execute_result"
    },
    {
     "data": {
      "image/png": "[encoded data removed]",
      "text/plain": [
       "<Figure size 432x288 with 1 Axes>"
      ]
     },
     "metadata": {
      "needs_background": "light"
     },
     "output_type": "display_data"
    }
   ],
   "source": [
    "sns.countplot(x='tipo_tc',hue='fraude',data=df) ###########################"
   ]
  },
  {
   "cell_type": "code",
   "execution_count": 33,
   "metadata": {},
   "outputs": [
    {
     "data": {
      "text/plain": [
       "<AxesSubplot:xlabel='establecimiento', ylabel='count'>"
      ]
     },
     "execution_count": 33,
     "metadata": {},
     "output_type": "execute_result"
    },
    {
     "data": {
      "image/png": "[encoded data removed]",
      "text/plain": [
       "<Figure size 432x288 with 1 Axes>"
      ]
     },
     "metadata": {
      "needs_background": "light"
     },
     "output_type": "display_data"
    }
   ],
   "source": [
    "sns.countplot(x='establecimiento',hue='fraude',data=df)"
   ]
  },
  {
   "cell_type": "code",
   "execution_count": 34,
   "metadata": {},
   "outputs": [
    {
     "data": {
      "text/plain": [
       "<AxesSubplot:xlabel='fraude', ylabel='count'>"
      ]
     },
     "execution_count": 34,
     "metadata": {},
     "output_type": "execute_result"
    },
    {
     "data": {
      "image/png": "[encoded data removed]",
      "text/plain": [
       "<Figure size 432x288 with 1 Axes>"
      ]
     },
     "metadata": {
      "needs_background": "light"
     },
     "output_type": "display_data"
    }
   ],
   "source": [
    "sns.countplot(x='fraude',hue='is_prime',data=df,dodge=False)"
   ]
  },
  {
   "cell_type": "code",
   "execution_count": 35,
   "metadata": {},
   "outputs": [
    {
     "data": {
      "text/plain": [
       "<AxesSubplot:xlabel='fraude', ylabel='count'>"
      ]
     },
     "execution_count": 35,
     "metadata": {},
     "output_type": "execute_result"
    },
    {
     "data": {
      "image/png": "[encoded data removed]",
      "text/plain": [
       "<Figure size 432x288 with 1 Axes>"
      ]
     },
     "metadata": {
      "needs_background": "light"
     },
     "output_type": "display_data"
    }
   ],
   "source": [
    "sns.countplot(x='fraude',hue='genero',data=df)"
   ]
  },
  {
   "cell_type": "code",
   "execution_count": 46,
   "metadata": {},
   "outputs": [],
   "source": [
    "df_fraude=df[df['fraude']==True]"
   ]
  },
  {
   "cell_type": "code",
   "execution_count": 47,
   "metadata": {},
   "outputs": [
    {
     "data": {
      "text/html": [
       "<div>\n",
       "<style scoped>\n",
       "    .dataframe tbody tr th:only-of-type {\n",
       "        vertical-align: middle;\n",
       "    }\n",
       "\n",
       "    .dataframe tbody tr th {\n",
       "        vertical-align: top;\n",
       "    }\n",
       "\n",
       "    .dataframe thead th {\n",
       "        text-align: right;\n",
       "    }\n",
       "</style>\n",
       "<table border=\"1\" class=\"dataframe\">\n",
       "  <thead>\n",
       "    <tr style=\"text-align: right;\">\n",
       "      <th></th>\n",
       "      <th>id_user</th>\n",
       "      <th>genero</th>\n",
       "      <th>monto</th>\n",
       "      <th>fecha</th>\n",
       "      <th>hora</th>\n",
       "      <th>dispositivo</th>\n",
       "      <th>establecimiento</th>\n",
       "      <th>ciudad</th>\n",
       "      <th>tipo_tc</th>\n",
       "      <th>linea_tc</th>\n",
       "      <th>interes_tc</th>\n",
       "      <th>status_txn</th>\n",
       "      <th>is_prime</th>\n",
       "      <th>dcto</th>\n",
       "      <th>cashback</th>\n",
       "      <th>fraude</th>\n",
       "    </tr>\n",
       "  </thead>\n",
       "  <tbody>\n",
       "    <tr>\n",
       "      <th>21</th>\n",
       "      <td>5</td>\n",
       "      <td>M</td>\n",
       "      <td>243.020675</td>\n",
       "      <td>2020-01-11</td>\n",
       "      <td>3</td>\n",
       "      <td>{'model': 2020, 'device_score': 1, 'os': '.'}</td>\n",
       "      <td>NaN</td>\n",
       "      <td>Monterrey</td>\n",
       "      <td>Física</td>\n",
       "      <td>33000</td>\n",
       "      <td>54</td>\n",
       "      <td>Aceptada</td>\n",
       "      <td>False</td>\n",
       "      <td>0.000000</td>\n",
       "      <td>2.430207</td>\n",
       "      <td>True</td>\n",
       "    </tr>\n",
       "    <tr>\n",
       "      <th>26</th>\n",
       "      <td>7</td>\n",
       "      <td>--</td>\n",
       "      <td>43.721670</td>\n",
       "      <td>2020-01-04</td>\n",
       "      <td>17</td>\n",
       "      <td>{'model': 2020, 'device_score': 1, 'os': 'WEB'}</td>\n",
       "      <td>Abarrotes</td>\n",
       "      <td>Guadalajara</td>\n",
       "      <td>Física</td>\n",
       "      <td>72000</td>\n",
       "      <td>57</td>\n",
       "      <td>Aceptada</td>\n",
       "      <td>False</td>\n",
       "      <td>0.000000</td>\n",
       "      <td>0.437217</td>\n",
       "      <td>True</td>\n",
       "    </tr>\n",
       "    <tr>\n",
       "      <th>37</th>\n",
       "      <td>9</td>\n",
       "      <td>F</td>\n",
       "      <td>253.327147</td>\n",
       "      <td>2020-01-14</td>\n",
       "      <td>8</td>\n",
       "      <td>{'model': 2020, 'device_score': 1, 'os': 'WEB'}</td>\n",
       "      <td>MPago</td>\n",
       "      <td>NaN</td>\n",
       "      <td>Física</td>\n",
       "      <td>62000</td>\n",
       "      <td>45</td>\n",
       "      <td>Aceptada</td>\n",
       "      <td>False</td>\n",
       "      <td>0.000000</td>\n",
       "      <td>2.533271</td>\n",
       "      <td>True</td>\n",
       "    </tr>\n",
       "    <tr>\n",
       "      <th>59</th>\n",
       "      <td>14</td>\n",
       "      <td>M</td>\n",
       "      <td>19.789476</td>\n",
       "      <td>2020-01-04</td>\n",
       "      <td>16</td>\n",
       "      <td>{'model': 2020, 'device_score': 5, 'os': 'ANDR...</td>\n",
       "      <td>NaN</td>\n",
       "      <td>Toluca</td>\n",
       "      <td>Física</td>\n",
       "      <td>67000</td>\n",
       "      <td>35</td>\n",
       "      <td>Aceptada</td>\n",
       "      <td>False</td>\n",
       "      <td>0.000000</td>\n",
       "      <td>0.197895</td>\n",
       "      <td>True</td>\n",
       "    </tr>\n",
       "    <tr>\n",
       "      <th>100</th>\n",
       "      <td>19</td>\n",
       "      <td>F</td>\n",
       "      <td>705.462887</td>\n",
       "      <td>2020-01-22</td>\n",
       "      <td>9</td>\n",
       "      <td>{'model': 2020, 'device_score': 4, 'os': '.'}</td>\n",
       "      <td>NaN</td>\n",
       "      <td>NaN</td>\n",
       "      <td>Física</td>\n",
       "      <td>28000</td>\n",
       "      <td>42</td>\n",
       "      <td>Aceptada</td>\n",
       "      <td>False</td>\n",
       "      <td>70.546289</td>\n",
       "      <td>6.349166</td>\n",
       "      <td>True</td>\n",
       "    </tr>\n",
       "    <tr>\n",
       "      <th>...</th>\n",
       "      <td>...</td>\n",
       "      <td>...</td>\n",
       "      <td>...</td>\n",
       "      <td>...</td>\n",
       "      <td>...</td>\n",
       "      <td>...</td>\n",
       "      <td>...</td>\n",
       "      <td>...</td>\n",
       "      <td>...</td>\n",
       "      <td>...</td>\n",
       "      <td>...</td>\n",
       "      <td>...</td>\n",
       "      <td>...</td>\n",
       "      <td>...</td>\n",
       "      <td>...</td>\n",
       "      <td>...</td>\n",
       "    </tr>\n",
       "    <tr>\n",
       "      <th>26854</th>\n",
       "      <td>3986</td>\n",
       "      <td>M</td>\n",
       "      <td>755.130672</td>\n",
       "      <td>2020-01-26</td>\n",
       "      <td>19</td>\n",
       "      <td>{'model': 2020, 'device_score': 5, 'os': '.'}</td>\n",
       "      <td>NaN</td>\n",
       "      <td>Toluca</td>\n",
       "      <td>Virtual</td>\n",
       "      <td>96000</td>\n",
       "      <td>44</td>\n",
       "      <td>Aceptada</td>\n",
       "      <td>False</td>\n",
       "      <td>0.000000</td>\n",
       "      <td>15.102613</td>\n",
       "      <td>True</td>\n",
       "    </tr>\n",
       "    <tr>\n",
       "      <th>26884</th>\n",
       "      <td>3991</td>\n",
       "      <td>F</td>\n",
       "      <td>272.046103</td>\n",
       "      <td>2020-01-09</td>\n",
       "      <td>11</td>\n",
       "      <td>{'model': 2020, 'device_score': 4, 'os': '%%'}</td>\n",
       "      <td>Farmacia</td>\n",
       "      <td>Toluca</td>\n",
       "      <td>Física</td>\n",
       "      <td>75000</td>\n",
       "      <td>36</td>\n",
       "      <td>En proceso</td>\n",
       "      <td>False</td>\n",
       "      <td>0.000000</td>\n",
       "      <td>2.720461</td>\n",
       "      <td>True</td>\n",
       "    </tr>\n",
       "    <tr>\n",
       "      <th>26937</th>\n",
       "      <td>3994</td>\n",
       "      <td>M</td>\n",
       "      <td>666.550967</td>\n",
       "      <td>2020-01-04</td>\n",
       "      <td>18</td>\n",
       "      <td>{'model': 2020, 'device_score': 1, 'os': 'ANDR...</td>\n",
       "      <td>Restaurante</td>\n",
       "      <td>NaN</td>\n",
       "      <td>Física</td>\n",
       "      <td>59000</td>\n",
       "      <td>59</td>\n",
       "      <td>Rechazada</td>\n",
       "      <td>False</td>\n",
       "      <td>66.655097</td>\n",
       "      <td>5.998959</td>\n",
       "      <td>True</td>\n",
       "    </tr>\n",
       "    <tr>\n",
       "      <th>26938</th>\n",
       "      <td>3994</td>\n",
       "      <td>M</td>\n",
       "      <td>982.712607</td>\n",
       "      <td>2020-01-04</td>\n",
       "      <td>5</td>\n",
       "      <td>{'model': 2020, 'device_score': 5, 'os': 'WEB'}</td>\n",
       "      <td>Farmacia</td>\n",
       "      <td>NaN</td>\n",
       "      <td>Física</td>\n",
       "      <td>59000</td>\n",
       "      <td>59</td>\n",
       "      <td>Rechazada</td>\n",
       "      <td>False</td>\n",
       "      <td>0.000000</td>\n",
       "      <td>9.827126</td>\n",
       "      <td>True</td>\n",
       "    </tr>\n",
       "    <tr>\n",
       "      <th>26948</th>\n",
       "      <td>3994</td>\n",
       "      <td>M</td>\n",
       "      <td>380.146930</td>\n",
       "      <td>2020-01-29</td>\n",
       "      <td>1</td>\n",
       "      <td>{'model': 2020, 'device_score': 3, 'os': 'ANDR...</td>\n",
       "      <td>Restaurante</td>\n",
       "      <td>NaN</td>\n",
       "      <td>Física</td>\n",
       "      <td>59000</td>\n",
       "      <td>59</td>\n",
       "      <td>Aceptada</td>\n",
       "      <td>False</td>\n",
       "      <td>0.000000</td>\n",
       "      <td>3.801469</td>\n",
       "      <td>True</td>\n",
       "    </tr>\n",
       "  </tbody>\n",
       "</table>\n",
       "<p>810 rows × 16 columns</p>\n",
       "</div>"
      ],
      "text/plain": [
       "       id_user genero       monto      fecha  hora  \\\n",
       "21           5      M  243.020675 2020-01-11     3   \n",
       "26           7     --   43.721670 2020-01-04    17   \n",
       "37           9      F  253.327147 2020-01-14     8   \n",
       "59          14      M   19.789476 2020-01-04    16   \n",
       "100         19      F  705.462887 2020-01-22     9   \n",
       "...        ...    ...         ...        ...   ...   \n",
       "26854     3986      M  755.130672 2020-01-26    19   \n",
       "26884     3991      F  272.046103 2020-01-09    11   \n",
       "26937     3994      M  666.550967 2020-01-04    18   \n",
       "26938     3994      M  982.712607 2020-01-04     5   \n",
       "26948     3994      M  380.146930 2020-01-29     1   \n",
       "\n",
       "                                             dispositivo establecimiento  \\\n",
       "21         {'model': 2020, 'device_score': 1, 'os': '.'}             NaN   \n",
       "26       {'model': 2020, 'device_score': 1, 'os': 'WEB'}       Abarrotes   \n",
       "37       {'model': 2020, 'device_score': 1, 'os': 'WEB'}           MPago   \n",
       "59     {'model': 2020, 'device_score': 5, 'os': 'ANDR...             NaN   \n",
       "100        {'model': 2020, 'device_score': 4, 'os': '.'}             NaN   \n",
       "...                                                  ...             ...   \n",
       "26854      {'model': 2020, 'device_score': 5, 'os': '.'}             NaN   \n",
       "26884     {'model': 2020, 'device_score': 4, 'os': '%%'}        Farmacia   \n",
       "26937  {'model': 2020, 'device_score': 1, 'os': 'ANDR...     Restaurante   \n",
       "26938    {'model': 2020, 'device_score': 5, 'os': 'WEB'}        Farmacia   \n",
       "26948  {'model': 2020, 'device_score': 3, 'os': 'ANDR...     Restaurante   \n",
       "\n",
       "            ciudad  tipo_tc  linea_tc  interes_tc  status_txn  is_prime  \\\n",
       "21       Monterrey   Física     33000          54    Aceptada     False   \n",
       "26     Guadalajara   Física     72000          57    Aceptada     False   \n",
       "37             NaN   Física     62000          45    Aceptada     False   \n",
       "59          Toluca   Física     67000          35    Aceptada     False   \n",
       "100            NaN   Física     28000          42    Aceptada     False   \n",
       "...            ...      ...       ...         ...         ...       ...   \n",
       "26854       Toluca  Virtual     96000          44    Aceptada     False   \n",
       "26884       Toluca   Física     75000          36  En proceso     False   \n",
       "26937          NaN   Física     59000          59   Rechazada     False   \n",
       "26938          NaN   Física     59000          59   Rechazada     False   \n",
       "26948          NaN   Física     59000          59    Aceptada     False   \n",
       "\n",
       "            dcto   cashback  fraude  \n",
       "21      0.000000   2.430207    True  \n",
       "26      0.000000   0.437217    True  \n",
       "37      0.000000   2.533271    True  \n",
       "59      0.000000   0.197895    True  \n",
       "100    70.546289   6.349166    True  \n",
       "...          ...        ...     ...  \n",
       "26854   0.000000  15.102613    True  \n",
       "26884   0.000000   2.720461    True  \n",
       "26937  66.655097   5.998959    True  \n",
       "26938   0.000000   9.827126    True  \n",
       "26948   0.000000   3.801469    True  \n",
       "\n",
       "[810 rows x 16 columns]"
      ]
     },
     "execution_count": 47,
     "metadata": {},
     "output_type": "execute_result"
    }
   ],
   "source": [
    "df_fraude"
   ]
  },
  {
   "cell_type": "code",
   "execution_count": 48,
   "metadata": {},
   "outputs": [],
   "source": [
    "df_no_fraude=df[df['fraude']==False]"
   ]
  },
  {
   "cell_type": "code",
   "execution_count": 49,
   "metadata": {},
   "outputs": [
    {
     "data": {
      "text/html": [
       "<div>\n",
       "<style scoped>\n",
       "    .dataframe tbody tr th:only-of-type {\n",
       "        vertical-align: middle;\n",
       "    }\n",
       "\n",
       "    .dataframe tbody tr th {\n",
       "        vertical-align: top;\n",
       "    }\n",
       "\n",
       "    .dataframe thead th {\n",
       "        text-align: right;\n",
       "    }\n",
       "</style>\n",
       "<table border=\"1\" class=\"dataframe\">\n",
       "  <thead>\n",
       "    <tr style=\"text-align: right;\">\n",
       "      <th></th>\n",
       "      <th>id_user</th>\n",
       "      <th>genero</th>\n",
       "      <th>monto</th>\n",
       "      <th>fecha</th>\n",
       "      <th>hora</th>\n",
       "      <th>dispositivo</th>\n",
       "      <th>establecimiento</th>\n",
       "      <th>ciudad</th>\n",
       "      <th>tipo_tc</th>\n",
       "      <th>linea_tc</th>\n",
       "      <th>interes_tc</th>\n",
       "      <th>status_txn</th>\n",
       "      <th>is_prime</th>\n",
       "      <th>dcto</th>\n",
       "      <th>cashback</th>\n",
       "      <th>fraude</th>\n",
       "    </tr>\n",
       "  </thead>\n",
       "  <tbody>\n",
       "    <tr>\n",
       "      <th>0</th>\n",
       "      <td>0</td>\n",
       "      <td>F</td>\n",
       "      <td>608.345634</td>\n",
       "      <td>2020-01-21</td>\n",
       "      <td>20</td>\n",
       "      <td>{'model': 2020, 'device_score': 3, 'os': 'ANDR...</td>\n",
       "      <td>Super</td>\n",
       "      <td>Merida</td>\n",
       "      <td>Física</td>\n",
       "      <td>71000</td>\n",
       "      <td>51</td>\n",
       "      <td>Aceptada</td>\n",
       "      <td>False</td>\n",
       "      <td>60.834563</td>\n",
       "      <td>5.475111</td>\n",
       "      <td>False</td>\n",
       "    </tr>\n",
       "    <tr>\n",
       "      <th>1</th>\n",
       "      <td>0</td>\n",
       "      <td>F</td>\n",
       "      <td>88.719243</td>\n",
       "      <td>2020-01-15</td>\n",
       "      <td>7</td>\n",
       "      <td>{'model': 2020, 'device_score': 1, 'os': 'ANDR...</td>\n",
       "      <td>NaN</td>\n",
       "      <td>Merida</td>\n",
       "      <td>Virtual</td>\n",
       "      <td>71000</td>\n",
       "      <td>51</td>\n",
       "      <td>Aceptada</td>\n",
       "      <td>False</td>\n",
       "      <td>0.000000</td>\n",
       "      <td>1.774385</td>\n",
       "      <td>False</td>\n",
       "    </tr>\n",
       "    <tr>\n",
       "      <th>2</th>\n",
       "      <td>1</td>\n",
       "      <td>F</td>\n",
       "      <td>790.037653</td>\n",
       "      <td>2020-01-17</td>\n",
       "      <td>11</td>\n",
       "      <td>{'model': 2020, 'device_score': 1, 'os': '.'}</td>\n",
       "      <td>NaN</td>\n",
       "      <td>Guadalajara</td>\n",
       "      <td>Virtual</td>\n",
       "      <td>94000</td>\n",
       "      <td>56</td>\n",
       "      <td>En proceso</td>\n",
       "      <td>False</td>\n",
       "      <td>0.000000</td>\n",
       "      <td>15.800753</td>\n",
       "      <td>False</td>\n",
       "    </tr>\n",
       "    <tr>\n",
       "      <th>3</th>\n",
       "      <td>1</td>\n",
       "      <td>F</td>\n",
       "      <td>767.005387</td>\n",
       "      <td>2020-01-05</td>\n",
       "      <td>11</td>\n",
       "      <td>{'model': 2020, 'device_score': 3, 'os': 'WEB'}</td>\n",
       "      <td>MPago</td>\n",
       "      <td>Guadalajara</td>\n",
       "      <td>Física</td>\n",
       "      <td>94000</td>\n",
       "      <td>56</td>\n",
       "      <td>Aceptada</td>\n",
       "      <td>False</td>\n",
       "      <td>0.000000</td>\n",
       "      <td>7.670054</td>\n",
       "      <td>False</td>\n",
       "    </tr>\n",
       "    <tr>\n",
       "      <th>4</th>\n",
       "      <td>1</td>\n",
       "      <td>F</td>\n",
       "      <td>254.171053</td>\n",
       "      <td>2020-01-30</td>\n",
       "      <td>10</td>\n",
       "      <td>{'model': 2020, 'device_score': 3, 'os': '%%'}</td>\n",
       "      <td>NaN</td>\n",
       "      <td>Guadalajara</td>\n",
       "      <td>Física</td>\n",
       "      <td>94000</td>\n",
       "      <td>56</td>\n",
       "      <td>Aceptada</td>\n",
       "      <td>False</td>\n",
       "      <td>0.000000</td>\n",
       "      <td>2.541711</td>\n",
       "      <td>False</td>\n",
       "    </tr>\n",
       "    <tr>\n",
       "      <th>...</th>\n",
       "      <td>...</td>\n",
       "      <td>...</td>\n",
       "      <td>...</td>\n",
       "      <td>...</td>\n",
       "      <td>...</td>\n",
       "      <td>...</td>\n",
       "      <td>...</td>\n",
       "      <td>...</td>\n",
       "      <td>...</td>\n",
       "      <td>...</td>\n",
       "      <td>...</td>\n",
       "      <td>...</td>\n",
       "      <td>...</td>\n",
       "      <td>...</td>\n",
       "      <td>...</td>\n",
       "      <td>...</td>\n",
       "    </tr>\n",
       "    <tr>\n",
       "      <th>26970</th>\n",
       "      <td>3999</td>\n",
       "      <td>M</td>\n",
       "      <td>746.192089</td>\n",
       "      <td>2020-01-08</td>\n",
       "      <td>13</td>\n",
       "      <td>{'model': 2020, 'device_score': 2, 'os': 'ANDR...</td>\n",
       "      <td>NaN</td>\n",
       "      <td>Toluca</td>\n",
       "      <td>Física</td>\n",
       "      <td>40000</td>\n",
       "      <td>56</td>\n",
       "      <td>Aceptada</td>\n",
       "      <td>False</td>\n",
       "      <td>0.000000</td>\n",
       "      <td>7.461921</td>\n",
       "      <td>False</td>\n",
       "    </tr>\n",
       "    <tr>\n",
       "      <th>26971</th>\n",
       "      <td>3999</td>\n",
       "      <td>M</td>\n",
       "      <td>941.804966</td>\n",
       "      <td>2020-01-14</td>\n",
       "      <td>15</td>\n",
       "      <td>{'model': 2020, 'device_score': 2, 'os': 'WEB'}</td>\n",
       "      <td>NaN</td>\n",
       "      <td>Toluca</td>\n",
       "      <td>Física</td>\n",
       "      <td>40000</td>\n",
       "      <td>56</td>\n",
       "      <td>Aceptada</td>\n",
       "      <td>False</td>\n",
       "      <td>0.000000</td>\n",
       "      <td>9.418050</td>\n",
       "      <td>False</td>\n",
       "    </tr>\n",
       "    <tr>\n",
       "      <th>26972</th>\n",
       "      <td>3999</td>\n",
       "      <td>M</td>\n",
       "      <td>251.189885</td>\n",
       "      <td>2020-01-16</td>\n",
       "      <td>11</td>\n",
       "      <td>{'model': 2020, 'device_score': 2, 'os': 'WEB'}</td>\n",
       "      <td>NaN</td>\n",
       "      <td>Toluca</td>\n",
       "      <td>Virtual</td>\n",
       "      <td>40000</td>\n",
       "      <td>56</td>\n",
       "      <td>Aceptada</td>\n",
       "      <td>False</td>\n",
       "      <td>0.000000</td>\n",
       "      <td>5.023798</td>\n",
       "      <td>False</td>\n",
       "    </tr>\n",
       "    <tr>\n",
       "      <th>26973</th>\n",
       "      <td>3999</td>\n",
       "      <td>M</td>\n",
       "      <td>24.182665</td>\n",
       "      <td>2020-01-13</td>\n",
       "      <td>17</td>\n",
       "      <td>{'model': 2020, 'device_score': 5, 'os': '.'}</td>\n",
       "      <td>NaN</td>\n",
       "      <td>Toluca</td>\n",
       "      <td>Física</td>\n",
       "      <td>40000</td>\n",
       "      <td>56</td>\n",
       "      <td>Aceptada</td>\n",
       "      <td>False</td>\n",
       "      <td>2.418266</td>\n",
       "      <td>0.217644</td>\n",
       "      <td>False</td>\n",
       "    </tr>\n",
       "    <tr>\n",
       "      <th>26974</th>\n",
       "      <td>3999</td>\n",
       "      <td>M</td>\n",
       "      <td>517.209272</td>\n",
       "      <td>2020-01-03</td>\n",
       "      <td>20</td>\n",
       "      <td>{'model': 2020, 'device_score': 5, 'os': 'ANDR...</td>\n",
       "      <td>MPago</td>\n",
       "      <td>Toluca</td>\n",
       "      <td>Física</td>\n",
       "      <td>40000</td>\n",
       "      <td>56</td>\n",
       "      <td>En proceso</td>\n",
       "      <td>False</td>\n",
       "      <td>0.000000</td>\n",
       "      <td>5.172093</td>\n",
       "      <td>False</td>\n",
       "    </tr>\n",
       "  </tbody>\n",
       "</table>\n",
       "<p>26165 rows × 16 columns</p>\n",
       "</div>"
      ],
      "text/plain": [
       "       id_user genero       monto      fecha  hora  \\\n",
       "0            0      F  608.345634 2020-01-21    20   \n",
       "1            0      F   88.719243 2020-01-15     7   \n",
       "2            1      F  790.037653 2020-01-17    11   \n",
       "3            1      F  767.005387 2020-01-05    11   \n",
       "4            1      F  254.171053 2020-01-30    10   \n",
       "...        ...    ...         ...        ...   ...   \n",
       "26970     3999      M  746.192089 2020-01-08    13   \n",
       "26971     3999      M  941.804966 2020-01-14    15   \n",
       "26972     3999      M  251.189885 2020-01-16    11   \n",
       "26973     3999      M   24.182665 2020-01-13    17   \n",
       "26974     3999      M  517.209272 2020-01-03    20   \n",
       "\n",
       "                                             dispositivo establecimiento  \\\n",
       "0      {'model': 2020, 'device_score': 3, 'os': 'ANDR...           Super   \n",
       "1      {'model': 2020, 'device_score': 1, 'os': 'ANDR...             NaN   \n",
       "2          {'model': 2020, 'device_score': 1, 'os': '.'}             NaN   \n",
       "3        {'model': 2020, 'device_score': 3, 'os': 'WEB'}           MPago   \n",
       "4         {'model': 2020, 'device_score': 3, 'os': '%%'}             NaN   \n",
       "...                                                  ...             ...   \n",
       "26970  {'model': 2020, 'device_score': 2, 'os': 'ANDR...             NaN   \n",
       "26971    {'model': 2020, 'device_score': 2, 'os': 'WEB'}             NaN   \n",
       "26972    {'model': 2020, 'device_score': 2, 'os': 'WEB'}             NaN   \n",
       "26973      {'model': 2020, 'device_score': 5, 'os': '.'}             NaN   \n",
       "26974  {'model': 2020, 'device_score': 5, 'os': 'ANDR...           MPago   \n",
       "\n",
       "            ciudad  tipo_tc  linea_tc  interes_tc  status_txn  is_prime  \\\n",
       "0           Merida   Física     71000          51    Aceptada     False   \n",
       "1           Merida  Virtual     71000          51    Aceptada     False   \n",
       "2      Guadalajara  Virtual     94000          56  En proceso     False   \n",
       "3      Guadalajara   Física     94000          56    Aceptada     False   \n",
       "4      Guadalajara   Física     94000          56    Aceptada     False   \n",
       "...            ...      ...       ...         ...         ...       ...   \n",
       "26970       Toluca   Física     40000          56    Aceptada     False   \n",
       "26971       Toluca   Física     40000          56    Aceptada     False   \n",
       "26972       Toluca  Virtual     40000          56    Aceptada     False   \n",
       "26973       Toluca   Física     40000          56    Aceptada     False   \n",
       "26974       Toluca   Física     40000          56  En proceso     False   \n",
       "\n",
       "            dcto   cashback  fraude  \n",
       "0      60.834563   5.475111   False  \n",
       "1       0.000000   1.774385   False  \n",
       "2       0.000000  15.800753   False  \n",
       "3       0.000000   7.670054   False  \n",
       "4       0.000000   2.541711   False  \n",
       "...          ...        ...     ...  \n",
       "26970   0.000000   7.461921   False  \n",
       "26971   0.000000   9.418050   False  \n",
       "26972   0.000000   5.023798   False  \n",
       "26973   2.418266   0.217644   False  \n",
       "26974   0.000000   5.172093   False  \n",
       "\n",
       "[26165 rows x 16 columns]"
      ]
     },
     "execution_count": 49,
     "metadata": {},
     "output_type": "execute_result"
    }
   ],
   "source": [
    "df_no_fraude"
   ]
  },
  {
   "cell_type": "code",
   "execution_count": 50,
   "metadata": {},
   "outputs": [
    {
     "data": {
      "text/plain": [
       "<seaborn.axisgrid.FacetGrid at 0x123b9f150>"
      ]
     },
     "execution_count": 50,
     "metadata": {},
     "output_type": "execute_result"
    },
    {
     "data": {
      "image/png": "[encoded data removed]",
      "text/plain": [
       "<Figure size 360x360 with 1 Axes>"
      ]
     },
     "metadata": {
      "needs_background": "light"
     },
     "output_type": "display_data"
    }
   ],
   "source": [
    "sns.displot(df_fraude,x='monto')"
   ]
  },
  {
   "cell_type": "code",
   "execution_count": 53,
   "metadata": {},
   "outputs": [
    {
     "data": {
      "text/plain": [
       "count    810.000000\n",
       "mean     492.099667\n",
       "std      288.871388\n",
       "min        4.368924\n",
       "25%      247.681469\n",
       "50%      480.350852\n",
       "75%      746.656307\n",
       "max      997.882421\n",
       "Name: monto, dtype: float64"
      ]
     },
     "execution_count": 53,
     "metadata": {},
     "output_type": "execute_result"
    }
   ],
   "source": [
    "df_fraude['monto'].describe()"
   ]
  },
  {
   "cell_type": "code",
   "execution_count": 58,
   "metadata": {},
   "outputs": [
    {
     "data": {
      "text/plain": [
       "997.882420579746"
      ]
     },
     "execution_count": 58,
     "metadata": {},
     "output_type": "execute_result"
    }
   ],
   "source": [
    "df_fraude['monto'].max()"
   ]
  },
  {
   "cell_type": "code",
   "execution_count": 54,
   "metadata": {},
   "outputs": [
    {
     "data": {
      "text/plain": [
       "<seaborn.axisgrid.FacetGrid at 0x1237c9fd0>"
      ]
     },
     "execution_count": 54,
     "metadata": {},
     "output_type": "execute_result"
    },
    {
     "data": {
      "image/png": "[encoded data removed]",
      "text/plain": [
       "<Figure size 360x360 with 1 Axes>"
      ]
     },
     "metadata": {
      "needs_background": "light"
     },
     "output_type": "display_data"
    }
   ],
   "source": [
    "sns.displot(df_no_fraude,x='monto')"
   ]
  },
  {
   "cell_type": "code",
   "execution_count": 55,
   "metadata": {},
   "outputs": [
    {
     "data": {
      "text/plain": [
       "count    26165.000000\n",
       "mean       499.285260\n",
       "std        289.325903\n",
       "min          0.017303\n",
       "25%        246.520116\n",
       "50%        501.114587\n",
       "75%        749.615809\n",
       "max        999.917764\n",
       "Name: monto, dtype: float64"
      ]
     },
     "execution_count": 55,
     "metadata": {},
     "output_type": "execute_result"
    }
   ],
   "source": [
    "df_no_fraude['monto'].describe()"
   ]
  },
  {
   "cell_type": "code",
   "execution_count": 74,
   "metadata": {},
   "outputs": [
    {
     "data": {
      "text/plain": [
       "Física     0.70076\n",
       "Virtual    0.29924\n",
       "Name: tipo_tc, dtype: float64"
      ]
     },
     "execution_count": 74,
     "metadata": {},
     "output_type": "execute_result"
    }
   ],
   "source": [
    "df['tipo_tc'].value_counts(normalize=True)"
   ]
  },
  {
   "cell_type": "code",
   "execution_count": 75,
   "metadata": {},
   "outputs": [
    {
     "data": {
      "text/plain": [
       "Física     0.714815\n",
       "Virtual    0.285185\n",
       "Name: tipo_tc, dtype: float64"
      ]
     },
     "execution_count": 75,
     "metadata": {},
     "output_type": "execute_result"
    }
   ],
   "source": [
    "df_fraude['tipo_tc'].value_counts(normalize=True)"
   ]
  },
  {
   "cell_type": "code",
   "execution_count": 76,
   "metadata": {},
   "outputs": [
    {
     "data": {
      "text/plain": [
       "Física     0.700325\n",
       "Virtual    0.299675\n",
       "Name: tipo_tc, dtype: float64"
      ]
     },
     "execution_count": 76,
     "metadata": {},
     "output_type": "execute_result"
    }
   ],
   "source": [
    "df_no_fraude['tipo_tc'].value_counts(normalize=True)"
   ]
  },
  {
   "cell_type": "code",
   "execution_count": 78,
   "metadata": {},
   "outputs": [
    {
     "data": {
      "text/plain": [
       "Toluca         0.261293\n",
       "Guadalajara    0.250572\n",
       "Merida         0.245865\n",
       "Monterrey      0.242270\n",
       "Name: ciudad, dtype: float64"
      ]
     },
     "execution_count": 78,
     "metadata": {},
     "output_type": "execute_result"
    }
   ],
   "source": [
    "df['ciudad'].value_counts(normalize=True)"
   ]
  },
  {
   "cell_type": "code",
   "execution_count": 79,
   "metadata": {},
   "outputs": [
    {
     "data": {
      "text/plain": [
       "Merida         0.263158\n",
       "Toluca         0.258772\n",
       "Guadalajara    0.258772\n",
       "Monterrey      0.219298\n",
       "Name: ciudad, dtype: float64"
      ]
     },
     "execution_count": 79,
     "metadata": {},
     "output_type": "execute_result"
    }
   ],
   "source": [
    "df_fraude['ciudad'].value_counts(normalize=True)"
   ]
  },
  {
   "cell_type": "code",
   "execution_count": 104,
   "metadata": {},
   "outputs": [],
   "source": [
    "prop1= df_no_fraude['ciudad'].value_counts(normalize=True).reset_index(name='prop')\n",
    "prop2= df_fraude['ciudad'].value_counts(normalize=True).reset_index(name='prop')"
   ]
  },
  {
   "cell_type": "code",
   "execution_count": 105,
   "metadata": {},
   "outputs": [
    {
     "data": {
      "text/html": [
       "<div>\n",
       "<style scoped>\n",
       "    .dataframe tbody tr th:only-of-type {\n",
       "        vertical-align: middle;\n",
       "    }\n",
       "\n",
       "    .dataframe tbody tr th {\n",
       "        vertical-align: top;\n",
       "    }\n",
       "\n",
       "    .dataframe thead th {\n",
       "        text-align: right;\n",
       "    }\n",
       "</style>\n",
       "<table border=\"1\" class=\"dataframe\">\n",
       "  <thead>\n",
       "    <tr style=\"text-align: right;\">\n",
       "      <th></th>\n",
       "      <th>index</th>\n",
       "      <th>prop</th>\n",
       "    </tr>\n",
       "  </thead>\n",
       "  <tbody>\n",
       "    <tr>\n",
       "      <th>0</th>\n",
       "      <td>Toluca</td>\n",
       "      <td>0.261371</td>\n",
       "    </tr>\n",
       "    <tr>\n",
       "      <th>1</th>\n",
       "      <td>Guadalajara</td>\n",
       "      <td>0.250320</td>\n",
       "    </tr>\n",
       "    <tr>\n",
       "      <th>2</th>\n",
       "      <td>Merida</td>\n",
       "      <td>0.245334</td>\n",
       "    </tr>\n",
       "    <tr>\n",
       "      <th>3</th>\n",
       "      <td>Monterrey</td>\n",
       "      <td>0.242976</td>\n",
       "    </tr>\n",
       "  </tbody>\n",
       "</table>\n",
       "</div>"
      ],
      "text/plain": [
       "         index      prop\n",
       "0       Toluca  0.261371\n",
       "1  Guadalajara  0.250320\n",
       "2       Merida  0.245334\n",
       "3    Monterrey  0.242976"
      ]
     },
     "execution_count": 105,
     "metadata": {},
     "output_type": "execute_result"
    }
   ],
   "source": [
    "prop1"
   ]
  },
  {
   "cell_type": "code",
   "execution_count": 106,
   "metadata": {},
   "outputs": [
    {
     "data": {
      "text/plain": [
       "<AxesSubplot:xlabel='index', ylabel='prop'>"
      ]
     },
     "execution_count": 106,
     "metadata": {},
     "output_type": "execute_result"
    },
    {
     "data": {
      "image/png": "[encoded data removed]",
      "text/plain": [
       "<Figure size 432x288 with 1 Axes>"
      ]
     },
     "metadata": {
      "needs_background": "light"
     },
     "output_type": "display_data"
    }
   ],
   "source": [
    "sns.barplot(x='index',y='prop',data=prop1) "
   ]
  },
  {
   "cell_type": "code",
   "execution_count": 107,
   "metadata": {},
   "outputs": [
    {
     "data": {
      "text/plain": [
       "<AxesSubplot:xlabel='index', ylabel='prop'>"
      ]
     },
     "execution_count": 107,
     "metadata": {},
     "output_type": "execute_result"
    },
    {
     "data": {
      "image/png": "[encoded data removed]",
      "text/plain": [
       "<Figure size 432x288 with 1 Axes>"
      ]
     },
     "metadata": {
      "needs_background": "light"
     },
     "output_type": "display_data"
    }
   ],
   "source": [
    "sns.barplot(x='index',y='prop',data=prop2) "
   ]
  },
  {
   "cell_type": "code",
   "execution_count": 108,
   "metadata": {},
   "outputs": [],
   "source": [
    "prop1= df_no_fraude['establecimiento'].value_counts(normalize=True).reset_index(name='prop')\n",
    "prop2= df_fraude['establecimiento'].value_counts(normalize=True).reset_index(name='prop')"
   ]
  },
  {
   "cell_type": "code",
   "execution_count": 112,
   "metadata": {},
   "outputs": [
    {
     "data": {
      "text/html": [
       "<div>\n",
       "<style scoped>\n",
       "    .dataframe tbody tr th:only-of-type {\n",
       "        vertical-align: middle;\n",
       "    }\n",
       "\n",
       "    .dataframe tbody tr th {\n",
       "        vertical-align: top;\n",
       "    }\n",
       "\n",
       "    .dataframe thead th {\n",
       "        text-align: right;\n",
       "    }\n",
       "</style>\n",
       "<table border=\"1\" class=\"dataframe\">\n",
       "  <thead>\n",
       "    <tr style=\"text-align: right;\">\n",
       "      <th></th>\n",
       "      <th>index</th>\n",
       "      <th>prop</th>\n",
       "    </tr>\n",
       "  </thead>\n",
       "  <tbody>\n",
       "    <tr>\n",
       "      <th>0</th>\n",
       "      <td>MPago</td>\n",
       "      <td>0.210953</td>\n",
       "    </tr>\n",
       "    <tr>\n",
       "      <th>1</th>\n",
       "      <td>Super</td>\n",
       "      <td>0.206897</td>\n",
       "    </tr>\n",
       "    <tr>\n",
       "      <th>2</th>\n",
       "      <td>Abarrotes</td>\n",
       "      <td>0.206897</td>\n",
       "    </tr>\n",
       "    <tr>\n",
       "      <th>3</th>\n",
       "      <td>Restaurante</td>\n",
       "      <td>0.188641</td>\n",
       "    </tr>\n",
       "    <tr>\n",
       "      <th>4</th>\n",
       "      <td>Farmacia</td>\n",
       "      <td>0.186613</td>\n",
       "    </tr>\n",
       "  </tbody>\n",
       "</table>\n",
       "</div>"
      ],
      "text/plain": [
       "         index      prop\n",
       "0        MPago  0.210953\n",
       "1        Super  0.206897\n",
       "2    Abarrotes  0.206897\n",
       "3  Restaurante  0.188641\n",
       "4     Farmacia  0.186613"
      ]
     },
     "execution_count": 112,
     "metadata": {},
     "output_type": "execute_result"
    }
   ],
   "source": [
    "prop2"
   ]
  },
  {
   "cell_type": "code",
   "execution_count": 114,
   "metadata": {},
   "outputs": [
    {
     "data": {
      "text/plain": [
       "<AxesSubplot:xlabel='index', ylabel='prop'>"
      ]
     },
     "execution_count": 114,
     "metadata": {},
     "output_type": "execute_result"
    },
    {
     "data": {
      "image/png": "[encoded data removed]",
      "text/plain": [
       "<Figure size 432x288 with 1 Axes>"
      ]
     },
     "metadata": {
      "needs_background": "light"
     },
     "output_type": "display_data"
    }
   ],
   "source": [
    "sns.barplot(x='index',y='prop',data=prop1,order=['MPago','Super','Abarrotes','Restaurante','Farmacia']) "
   ]
  },
  {
   "cell_type": "code",
   "execution_count": 115,
   "metadata": {},
   "outputs": [
    {
     "data": {
      "text/plain": [
       "<AxesSubplot:xlabel='index', ylabel='prop'>"
      ]
     },
     "execution_count": 115,
     "metadata": {},
     "output_type": "execute_result"
    },
    {
     "data": {
      "image/png": "[encoded data removed]",
      "text/plain": [
       "<Figure size 432x288 with 1 Axes>"
      ]
     },
     "metadata": {
      "needs_background": "light"
     },
     "output_type": "display_data"
    }
   ],
   "source": [
    "sns.barplot(x='index',y='prop',data=prop2,order=['MPago','Super','Abarrotes','Restaurante','Farmacia']) "
   ]
  },
  {
   "cell_type": "code",
   "execution_count": 117,
   "metadata": {},
   "outputs": [
    {
     "data": {
      "text/plain": [
       "{'model': 2020, 'device_score': 4, 'os': '%%'}         1411\n",
       "{'model': 2020, 'device_score': 1, 'os': 'WEB'}        1388\n",
       "{'model': 2020, 'device_score': 5, 'os': 'WEB'}        1377\n",
       "{'model': 2020, 'device_score': 2, 'os': '.'}          1374\n",
       "{'model': 2020, 'device_score': 5, 'os': 'ANDROID'}    1372\n",
       "{'model': 2020, 'device_score': 2, 'os': '%%'}         1370\n",
       "{'model': 2020, 'device_score': 2, 'os': 'WEB'}        1358\n",
       "{'model': 2020, 'device_score': 3, 'os': '.'}          1355\n",
       "{'model': 2020, 'device_score': 1, 'os': '%%'}         1355\n",
       "{'model': 2020, 'device_score': 4, 'os': 'WEB'}        1354\n",
       "{'model': 2020, 'device_score': 5, 'os': '%%'}         1348\n",
       "{'model': 2020, 'device_score': 1, 'os': 'ANDROID'}    1344\n",
       "{'model': 2020, 'device_score': 4, 'os': '.'}          1335\n",
       "{'model': 2020, 'device_score': 4, 'os': 'ANDROID'}    1335\n",
       "{'model': 2020, 'device_score': 5, 'os': '.'}          1334\n",
       "{'model': 2020, 'device_score': 3, 'os': '%%'}         1324\n",
       "{'model': 2020, 'device_score': 3, 'os': 'ANDROID'}    1318\n",
       "{'model': 2020, 'device_score': 2, 'os': 'ANDROID'}    1317\n",
       "{'model': 2020, 'device_score': 1, 'os': '.'}          1317\n",
       "{'model': 2020, 'device_score': 3, 'os': 'WEB'}        1289\n",
       "Name: dispositivo, dtype: int64"
      ]
     },
     "execution_count": 117,
     "metadata": {},
     "output_type": "execute_result"
    }
   ],
   "source": [
    "df['dispositivo'].value_counts()"
   ]
  },
  {
   "cell_type": "code",
   "execution_count": 119,
   "metadata": {},
   "outputs": [
    {
     "data": {
      "text/html": [
       "<div>\n",
       "<style scoped>\n",
       "    .dataframe tbody tr th:only-of-type {\n",
       "        vertical-align: middle;\n",
       "    }\n",
       "\n",
       "    .dataframe tbody tr th {\n",
       "        vertical-align: top;\n",
       "    }\n",
       "\n",
       "    .dataframe thead th {\n",
       "        text-align: right;\n",
       "    }\n",
       "</style>\n",
       "<table border=\"1\" class=\"dataframe\">\n",
       "  <thead>\n",
       "    <tr style=\"text-align: right;\">\n",
       "      <th></th>\n",
       "      <th>index</th>\n",
       "      <th>id_user</th>\n",
       "    </tr>\n",
       "  </thead>\n",
       "  <tbody>\n",
       "    <tr>\n",
       "      <th>0</th>\n",
       "      <td>1958</td>\n",
       "      <td>62</td>\n",
       "    </tr>\n",
       "    <tr>\n",
       "      <th>1</th>\n",
       "      <td>320</td>\n",
       "      <td>46</td>\n",
       "    </tr>\n",
       "    <tr>\n",
       "      <th>2</th>\n",
       "      <td>2845</td>\n",
       "      <td>42</td>\n",
       "    </tr>\n",
       "    <tr>\n",
       "      <th>3</th>\n",
       "      <td>1361</td>\n",
       "      <td>42</td>\n",
       "    </tr>\n",
       "    <tr>\n",
       "      <th>4</th>\n",
       "      <td>3678</td>\n",
       "      <td>40</td>\n",
       "    </tr>\n",
       "    <tr>\n",
       "      <th>...</th>\n",
       "      <td>...</td>\n",
       "      <td>...</td>\n",
       "    </tr>\n",
       "    <tr>\n",
       "      <th>3995</th>\n",
       "      <td>1453</td>\n",
       "      <td>1</td>\n",
       "    </tr>\n",
       "    <tr>\n",
       "      <th>3996</th>\n",
       "      <td>3516</td>\n",
       "      <td>1</td>\n",
       "    </tr>\n",
       "    <tr>\n",
       "      <th>3997</th>\n",
       "      <td>3532</td>\n",
       "      <td>1</td>\n",
       "    </tr>\n",
       "    <tr>\n",
       "      <th>3998</th>\n",
       "      <td>2406</td>\n",
       "      <td>1</td>\n",
       "    </tr>\n",
       "    <tr>\n",
       "      <th>3999</th>\n",
       "      <td>2599</td>\n",
       "      <td>1</td>\n",
       "    </tr>\n",
       "  </tbody>\n",
       "</table>\n",
       "<p>4000 rows × 2 columns</p>\n",
       "</div>"
      ],
      "text/plain": [
       "      index  id_user\n",
       "0      1958       62\n",
       "1       320       46\n",
       "2      2845       42\n",
       "3      1361       42\n",
       "4      3678       40\n",
       "...     ...      ...\n",
       "3995   1453        1\n",
       "3996   3516        1\n",
       "3997   3532        1\n",
       "3998   2406        1\n",
       "3999   2599        1\n",
       "\n",
       "[4000 rows x 2 columns]"
      ]
     },
     "execution_count": 119,
     "metadata": {},
     "output_type": "execute_result"
    }
   ],
   "source": [
    "df['id_user'].value_counts().reset_index()"
   ]
  },
  {
   "cell_type": "code",
   "execution_count": 125,
   "metadata": {},
   "outputs": [
    {
     "data": {
      "text/html": [
       "<div>\n",
       "<style scoped>\n",
       "    .dataframe tbody tr th:only-of-type {\n",
       "        vertical-align: middle;\n",
       "    }\n",
       "\n",
       "    .dataframe tbody tr th {\n",
       "        vertical-align: top;\n",
       "    }\n",
       "\n",
       "    .dataframe thead th {\n",
       "        text-align: right;\n",
       "    }\n",
       "</style>\n",
       "<table border=\"1\" class=\"dataframe\">\n",
       "  <thead>\n",
       "    <tr style=\"text-align: right;\">\n",
       "      <th></th>\n",
       "      <th>index</th>\n",
       "      <th>id_user</th>\n",
       "    </tr>\n",
       "  </thead>\n",
       "  <tbody>\n",
       "    <tr>\n",
       "      <th>0</th>\n",
       "      <td>1395</td>\n",
       "      <td>4</td>\n",
       "    </tr>\n",
       "    <tr>\n",
       "      <th>1</th>\n",
       "      <td>3913</td>\n",
       "      <td>4</td>\n",
       "    </tr>\n",
       "    <tr>\n",
       "      <th>2</th>\n",
       "      <td>1928</td>\n",
       "      <td>4</td>\n",
       "    </tr>\n",
       "    <tr>\n",
       "      <th>3</th>\n",
       "      <td>1872</td>\n",
       "      <td>4</td>\n",
       "    </tr>\n",
       "    <tr>\n",
       "      <th>4</th>\n",
       "      <td>3434</td>\n",
       "      <td>3</td>\n",
       "    </tr>\n",
       "    <tr>\n",
       "      <th>...</th>\n",
       "      <td>...</td>\n",
       "      <td>...</td>\n",
       "    </tr>\n",
       "    <tr>\n",
       "      <th>670</th>\n",
       "      <td>387</td>\n",
       "      <td>1</td>\n",
       "    </tr>\n",
       "    <tr>\n",
       "      <th>671</th>\n",
       "      <td>388</td>\n",
       "      <td>1</td>\n",
       "    </tr>\n",
       "    <tr>\n",
       "      <th>672</th>\n",
       "      <td>390</td>\n",
       "      <td>1</td>\n",
       "    </tr>\n",
       "    <tr>\n",
       "      <th>673</th>\n",
       "      <td>3049</td>\n",
       "      <td>1</td>\n",
       "    </tr>\n",
       "    <tr>\n",
       "      <th>674</th>\n",
       "      <td>1542</td>\n",
       "      <td>1</td>\n",
       "    </tr>\n",
       "  </tbody>\n",
       "</table>\n",
       "<p>675 rows × 2 columns</p>\n",
       "</div>"
      ],
      "text/plain": [
       "     index  id_user\n",
       "0     1395        4\n",
       "1     3913        4\n",
       "2     1928        4\n",
       "3     1872        4\n",
       "4     3434        3\n",
       "..     ...      ...\n",
       "670    387        1\n",
       "671    388        1\n",
       "672    390        1\n",
       "673   3049        1\n",
       "674   1542        1\n",
       "\n",
       "[675 rows x 2 columns]"
      ]
     },
     "execution_count": 125,
     "metadata": {},
     "output_type": "execute_result"
    }
   ],
   "source": [
    "df_fraude['id_user'].value_counts().reset_index()"
   ]
  },
  {
   "cell_type": "code",
   "execution_count": 128,
   "metadata": {},
   "outputs": [],
   "source": [
    "# si dependiendo del número de transacciones por sujeto hay más fraude o no"
   ]
  },
  {
   "cell_type": "code",
   "execution_count": null,
   "metadata": {},
   "outputs": [],
   "source": []
  },
  {
   "cell_type": "code",
   "execution_count": 54,
   "metadata": {},
   "outputs": [],
   "source": [
    "#df.join((['genero','linea_tc','interes_tc','is_prime']),on='id_user')"
   ]
  },
  {
   "cell_type": "code",
   "execution_count": 55,
   "metadata": {},
   "outputs": [],
   "source": [
    "suma_monto=df[(['id_user','monto','fraude'])].groupby('id_user').sum()"
   ]
  },
  {
   "cell_type": "code",
   "execution_count": 56,
   "metadata": {},
   "outputs": [
    {
     "data": {
      "text/html": [
       "<div>\n",
       "<style scoped>\n",
       "    .dataframe tbody tr th:only-of-type {\n",
       "        vertical-align: middle;\n",
       "    }\n",
       "\n",
       "    .dataframe tbody tr th {\n",
       "        vertical-align: top;\n",
       "    }\n",
       "\n",
       "    .dataframe thead th {\n",
       "        text-align: right;\n",
       "    }\n",
       "</style>\n",
       "<table border=\"1\" class=\"dataframe\">\n",
       "  <thead>\n",
       "    <tr style=\"text-align: right;\">\n",
       "      <th></th>\n",
       "      <th>monto</th>\n",
       "      <th>fraude</th>\n",
       "    </tr>\n",
       "    <tr>\n",
       "      <th>id_user</th>\n",
       "      <th></th>\n",
       "      <th></th>\n",
       "    </tr>\n",
       "  </thead>\n",
       "  <tbody>\n",
       "    <tr>\n",
       "      <th>0</th>\n",
       "      <td>697.064876</td>\n",
       "      <td>0</td>\n",
       "    </tr>\n",
       "    <tr>\n",
       "      <th>1</th>\n",
       "      <td>3416.796066</td>\n",
       "      <td>0</td>\n",
       "    </tr>\n",
       "    <tr>\n",
       "      <th>2</th>\n",
       "      <td>2789.893416</td>\n",
       "      <td>0</td>\n",
       "    </tr>\n",
       "    <tr>\n",
       "      <th>3</th>\n",
       "      <td>477.972148</td>\n",
       "      <td>0</td>\n",
       "    </tr>\n",
       "    <tr>\n",
       "      <th>4</th>\n",
       "      <td>277.176524</td>\n",
       "      <td>0</td>\n",
       "    </tr>\n",
       "    <tr>\n",
       "      <th>...</th>\n",
       "      <td>...</td>\n",
       "      <td>...</td>\n",
       "    </tr>\n",
       "    <tr>\n",
       "      <th>3995</th>\n",
       "      <td>2645.347065</td>\n",
       "      <td>0</td>\n",
       "    </tr>\n",
       "    <tr>\n",
       "      <th>3996</th>\n",
       "      <td>1067.430567</td>\n",
       "      <td>0</td>\n",
       "    </tr>\n",
       "    <tr>\n",
       "      <th>3997</th>\n",
       "      <td>734.703948</td>\n",
       "      <td>0</td>\n",
       "    </tr>\n",
       "    <tr>\n",
       "      <th>3998</th>\n",
       "      <td>3739.646251</td>\n",
       "      <td>0</td>\n",
       "    </tr>\n",
       "    <tr>\n",
       "      <th>3999</th>\n",
       "      <td>2480.578877</td>\n",
       "      <td>0</td>\n",
       "    </tr>\n",
       "  </tbody>\n",
       "</table>\n",
       "<p>4000 rows × 2 columns</p>\n",
       "</div>"
      ],
      "text/plain": [
       "               monto  fraude\n",
       "id_user                     \n",
       "0         697.064876       0\n",
       "1        3416.796066       0\n",
       "2        2789.893416       0\n",
       "3         477.972148       0\n",
       "4         277.176524       0\n",
       "...              ...     ...\n",
       "3995     2645.347065       0\n",
       "3996     1067.430567       0\n",
       "3997      734.703948       0\n",
       "3998     3739.646251       0\n",
       "3999     2480.578877       0\n",
       "\n",
       "[4000 rows x 2 columns]"
      ]
     },
     "execution_count": 56,
     "metadata": {},
     "output_type": "execute_result"
    }
   ],
   "source": [
    "suma_monto"
   ]
  },
  {
   "cell_type": "markdown",
   "metadata": {},
   "source": [
    "Tenemos 4,000 clientes\n",
    "- En total se tuvieron 810 transacciones de fraude\n",
    "- de los cuáles fueron 675 usuarios, es decir, se repitieron los fraudes para varios usuarios.\n",
    "- 16% del total de usuarios en la base, tuvieron una o más transacciones que fueron fraudulentas. "
   ]
  },
  {
   "cell_type": "code",
   "execution_count": 224,
   "metadata": {},
   "outputs": [
    {
     "data": {
      "text/plain": [
       "0.16875"
      ]
     },
     "execution_count": 224,
     "metadata": {},
     "output_type": "execute_result"
    }
   ],
   "source": [
    "675/4000"
   ]
  },
  {
   "cell_type": "code",
   "execution_count": 57,
   "metadata": {},
   "outputs": [],
   "source": [
    "fraudes_montos=suma_monto[suma_monto['fraude']>=1]"
   ]
  },
  {
   "cell_type": "code",
   "execution_count": 58,
   "metadata": {},
   "outputs": [
    {
     "data": {
      "text/html": [
       "<div>\n",
       "<style scoped>\n",
       "    .dataframe tbody tr th:only-of-type {\n",
       "        vertical-align: middle;\n",
       "    }\n",
       "\n",
       "    .dataframe tbody tr th {\n",
       "        vertical-align: top;\n",
       "    }\n",
       "\n",
       "    .dataframe thead th {\n",
       "        text-align: right;\n",
       "    }\n",
       "</style>\n",
       "<table border=\"1\" class=\"dataframe\">\n",
       "  <thead>\n",
       "    <tr style=\"text-align: right;\">\n",
       "      <th></th>\n",
       "      <th>monto</th>\n",
       "      <th>fraude</th>\n",
       "    </tr>\n",
       "    <tr>\n",
       "      <th>id_user</th>\n",
       "      <th></th>\n",
       "      <th></th>\n",
       "    </tr>\n",
       "  </thead>\n",
       "  <tbody>\n",
       "    <tr>\n",
       "      <th>5</th>\n",
       "      <td>955.697795</td>\n",
       "      <td>1</td>\n",
       "    </tr>\n",
       "    <tr>\n",
       "      <th>7</th>\n",
       "      <td>2407.434522</td>\n",
       "      <td>1</td>\n",
       "    </tr>\n",
       "    <tr>\n",
       "      <th>9</th>\n",
       "      <td>4341.642020</td>\n",
       "      <td>1</td>\n",
       "    </tr>\n",
       "    <tr>\n",
       "      <th>14</th>\n",
       "      <td>5763.008250</td>\n",
       "      <td>1</td>\n",
       "    </tr>\n",
       "    <tr>\n",
       "      <th>19</th>\n",
       "      <td>9897.443555</td>\n",
       "      <td>1</td>\n",
       "    </tr>\n",
       "    <tr>\n",
       "      <th>...</th>\n",
       "      <td>...</td>\n",
       "      <td>...</td>\n",
       "    </tr>\n",
       "    <tr>\n",
       "      <th>3973</th>\n",
       "      <td>1689.258783</td>\n",
       "      <td>2</td>\n",
       "    </tr>\n",
       "    <tr>\n",
       "      <th>3980</th>\n",
       "      <td>3122.148740</td>\n",
       "      <td>1</td>\n",
       "    </tr>\n",
       "    <tr>\n",
       "      <th>3986</th>\n",
       "      <td>1487.443966</td>\n",
       "      <td>1</td>\n",
       "    </tr>\n",
       "    <tr>\n",
       "      <th>3991</th>\n",
       "      <td>4586.587922</td>\n",
       "      <td>1</td>\n",
       "    </tr>\n",
       "    <tr>\n",
       "      <th>3994</th>\n",
       "      <td>14601.242187</td>\n",
       "      <td>3</td>\n",
       "    </tr>\n",
       "  </tbody>\n",
       "</table>\n",
       "<p>675 rows × 2 columns</p>\n",
       "</div>"
      ],
      "text/plain": [
       "                monto  fraude\n",
       "id_user                      \n",
       "5          955.697795       1\n",
       "7         2407.434522       1\n",
       "9         4341.642020       1\n",
       "14        5763.008250       1\n",
       "19        9897.443555       1\n",
       "...               ...     ...\n",
       "3973      1689.258783       2\n",
       "3980      3122.148740       1\n",
       "3986      1487.443966       1\n",
       "3991      4586.587922       1\n",
       "3994     14601.242187       3\n",
       "\n",
       "[675 rows x 2 columns]"
      ]
     },
     "execution_count": 58,
     "metadata": {},
     "output_type": "execute_result"
    }
   ],
   "source": [
    "fraudes_montos"
   ]
  },
  {
   "cell_type": "code",
   "execution_count": 59,
   "metadata": {},
   "outputs": [
    {
     "data": {
      "text/html": [
       "<div>\n",
       "<style scoped>\n",
       "    .dataframe tbody tr th:only-of-type {\n",
       "        vertical-align: middle;\n",
       "    }\n",
       "\n",
       "    .dataframe tbody tr th {\n",
       "        vertical-align: top;\n",
       "    }\n",
       "\n",
       "    .dataframe thead th {\n",
       "        text-align: right;\n",
       "    }\n",
       "</style>\n",
       "<table border=\"1\" class=\"dataframe\">\n",
       "  <thead>\n",
       "    <tr style=\"text-align: right;\">\n",
       "      <th></th>\n",
       "      <th>fraude</th>\n",
       "      <th>conteos</th>\n",
       "    </tr>\n",
       "  </thead>\n",
       "  <tbody>\n",
       "    <tr>\n",
       "      <th>0</th>\n",
       "      <td>1</td>\n",
       "      <td>563</td>\n",
       "    </tr>\n",
       "    <tr>\n",
       "      <th>1</th>\n",
       "      <td>2</td>\n",
       "      <td>93</td>\n",
       "    </tr>\n",
       "    <tr>\n",
       "      <th>2</th>\n",
       "      <td>3</td>\n",
       "      <td>15</td>\n",
       "    </tr>\n",
       "    <tr>\n",
       "      <th>3</th>\n",
       "      <td>4</td>\n",
       "      <td>4</td>\n",
       "    </tr>\n",
       "  </tbody>\n",
       "</table>\n",
       "</div>"
      ],
      "text/plain": [
       "   fraude  conteos\n",
       "0       1      563\n",
       "1       2       93\n",
       "2       3       15\n",
       "3       4        4"
      ]
     },
     "execution_count": 59,
     "metadata": {},
     "output_type": "execute_result"
    }
   ],
   "source": [
    "fraudes_montos.value_counts('fraude').reset_index(name='conteos')"
   ]
  },
  {
   "cell_type": "code",
   "execution_count": 60,
   "metadata": {},
   "outputs": [],
   "source": [
    "hola2=fraudes_montos.value_counts('fraude',normalize=True).reset_index(name='prop')"
   ]
  },
  {
   "cell_type": "code",
   "execution_count": 61,
   "metadata": {},
   "outputs": [
    {
     "data": {
      "text/html": [
       "<div>\n",
       "<style scoped>\n",
       "    .dataframe tbody tr th:only-of-type {\n",
       "        vertical-align: middle;\n",
       "    }\n",
       "\n",
       "    .dataframe tbody tr th {\n",
       "        vertical-align: top;\n",
       "    }\n",
       "\n",
       "    .dataframe thead th {\n",
       "        text-align: right;\n",
       "    }\n",
       "</style>\n",
       "<table border=\"1\" class=\"dataframe\">\n",
       "  <thead>\n",
       "    <tr style=\"text-align: right;\">\n",
       "      <th></th>\n",
       "      <th>fraude</th>\n",
       "      <th>prop</th>\n",
       "    </tr>\n",
       "  </thead>\n",
       "  <tbody>\n",
       "    <tr>\n",
       "      <th>0</th>\n",
       "      <td>1</td>\n",
       "      <td>0.834074</td>\n",
       "    </tr>\n",
       "    <tr>\n",
       "      <th>1</th>\n",
       "      <td>2</td>\n",
       "      <td>0.137778</td>\n",
       "    </tr>\n",
       "    <tr>\n",
       "      <th>2</th>\n",
       "      <td>3</td>\n",
       "      <td>0.022222</td>\n",
       "    </tr>\n",
       "    <tr>\n",
       "      <th>3</th>\n",
       "      <td>4</td>\n",
       "      <td>0.005926</td>\n",
       "    </tr>\n",
       "  </tbody>\n",
       "</table>\n",
       "</div>"
      ],
      "text/plain": [
       "   fraude      prop\n",
       "0       1  0.834074\n",
       "1       2  0.137778\n",
       "2       3  0.022222\n",
       "3       4  0.005926"
      ]
     },
     "execution_count": 61,
     "metadata": {},
     "output_type": "execute_result"
    }
   ],
   "source": [
    "hola2"
   ]
  },
  {
   "cell_type": "code",
   "execution_count": 62,
   "metadata": {},
   "outputs": [
    {
     "data": {
      "text/plain": [
       "<AxesSubplot:xlabel='fraude', ylabel='prop'>"
      ]
     },
     "execution_count": 62,
     "metadata": {},
     "output_type": "execute_result"
    },
    {
     "data": {
      "image/png": "[encoded data removed]",
      "text/plain": [
       "<Figure size 720x360 with 1 Axes>"
      ]
     },
     "metadata": {},
     "output_type": "display_data"
    }
   ],
   "source": [
    "# Usuarios que tuvieron fraude, 1, 2, 3 o 4 veces. \n",
    "sns.barplot(x='fraude',y='prop', data=hola2)"
   ]
  },
  {
   "cell_type": "code",
   "execution_count": 64,
   "metadata": {},
   "outputs": [
    {
     "data": {
      "text/plain": [
       "<seaborn.axisgrid.FacetGrid at 0x11da84790>"
      ]
     },
     "execution_count": 64,
     "metadata": {},
     "output_type": "execute_result"
    },
    {
     "data": {
      "image/png": "[encoded data removed]",
      "text/plain": [
       "<Figure size 360x360 with 1 Axes>"
      ]
     },
     "metadata": {},
     "output_type": "display_data"
    }
   ],
   "source": [
    "sns.displot(fraudes_montos,x='monto',multiple='stack')"
   ]
  },
  {
   "cell_type": "code",
   "execution_count": 65,
   "metadata": {},
   "outputs": [],
   "source": [
    "no_fraudes_montos=suma_monto[suma_monto['fraude']==0]"
   ]
  },
  {
   "cell_type": "code",
   "execution_count": 66,
   "metadata": {},
   "outputs": [
    {
     "data": {
      "text/plain": [
       "<seaborn.axisgrid.FacetGrid at 0x11ddcdc10>"
      ]
     },
     "execution_count": 66,
     "metadata": {},
     "output_type": "execute_result"
    },
    {
     "data": {
      "image/png": "[encoded data removed]",
      "text/plain": [
       "<Figure size 360x360 with 1 Axes>"
      ]
     },
     "metadata": {},
     "output_type": "display_data"
    }
   ],
   "source": [
    "sns.displot(no_fraudes_montos,x='monto',multiple='stack')"
   ]
  },
  {
   "cell_type": "code",
   "execution_count": 67,
   "metadata": {},
   "outputs": [
    {
     "data": {
      "text/plain": [
       "<AxesSubplot:xlabel='monto', ylabel='Count'>"
      ]
     },
     "execution_count": 67,
     "metadata": {},
     "output_type": "execute_result"
    },
    {
     "data": {
      "image/png": "[encoded data removed]",
      "text/plain": [
       "<Figure size 576x720 with 1 Axes>"
      ]
     },
     "metadata": {},
     "output_type": "display_data"
    }
   ],
   "source": [
    "sns.set(style='whitegrid',rc={'figure.figsize':(8,10)})\n",
    "sns.histplot(suma_monto,x='monto',hue='fraude',palette=sns.blend_palette(colores, 5),multiple=\"stack\")"
   ]
  },
  {
   "cell_type": "code",
   "execution_count": 68,
   "metadata": {},
   "outputs": [
    {
     "data": {
      "text/plain": [
       "<seaborn.axisgrid.FacetGrid at 0x11e558f10>"
      ]
     },
     "execution_count": 68,
     "metadata": {},
     "output_type": "execute_result"
    },
    {
     "data": {
      "image/png": "[encoded data removed]",
      "text/plain": [
       "<Figure size 405.85x360 with 1 Axes>"
      ]
     },
     "metadata": {},
     "output_type": "display_data"
    }
   ],
   "source": [
    "sns.displot(fraudes_montos,x='monto',hue='fraude',palette=sns.blend_palette(colores, 4),multiple=\"stack\")"
   ]
  },
  {
   "cell_type": "code",
   "execution_count": 69,
   "metadata": {},
   "outputs": [
    {
     "data": {
      "text/plain": [
       "<seaborn.axisgrid.FacetGrid at 0x11e13e7d0>"
      ]
     },
     "execution_count": 69,
     "metadata": {},
     "output_type": "execute_result"
    },
    {
     "data": {
      "image/png": "[encoded data removed]",
      "text/plain": [
       "<Figure size 405.85x360 with 1 Axes>"
      ]
     },
     "metadata": {},
     "output_type": "display_data"
    }
   ],
   "source": [
    "sns.displot(fraudes_montos,x='monto',hue='fraude',multiple='stack',common_norm=False,cumulative=True,palette=sns.blend_palette(colores, 4))"
   ]
  },
  {
   "cell_type": "code",
   "execution_count": null,
   "metadata": {},
   "outputs": [],
   "source": []
  },
  {
   "cell_type": "code",
   "execution_count": 73,
   "metadata": {},
   "outputs": [],
   "source": [
    "df['fecha']=df['fecha'].dt.date"
   ]
  },
  {
   "cell_type": "code",
   "execution_count": 74,
   "metadata": {},
   "outputs": [
    {
     "data": {
      "text/plain": [
       "<AxesSubplot:xlabel='hora', ylabel='fecha'>"
      ]
     },
     "execution_count": 74,
     "metadata": {},
     "output_type": "execute_result"
    },
    {
     "data": {
      "image/png": "[encoded data removed]",
      "text/plain": [
       "<Figure size 576x720 with 2 Axes>"
      ]
     },
     "metadata": {},
     "output_type": "display_data"
    }
   ],
   "source": [
    "fra=df[df['fraude']==False]\n",
    "adios=fra[(['fecha','hora'])].value_counts().reset_index(name='conteos')\n",
    "adios=adios.pivot_table(index='fecha',columns='hora',values='conteos')\n",
    "sns.heatmap(adios)"
   ]
  },
  {
   "cell_type": "code",
   "execution_count": 75,
   "metadata": {},
   "outputs": [
    {
     "data": {
      "text/plain": [
       "<AxesSubplot:xlabel='hora', ylabel='fecha'>"
      ]
     },
     "execution_count": 75,
     "metadata": {},
     "output_type": "execute_result"
    },
    {
     "data": {
      "image/png": "[encoded data removed]",
      "text/plain": [
       "<Figure size 576x720 with 2 Axes>"
      ]
     },
     "metadata": {},
     "output_type": "display_data"
    }
   ],
   "source": [
    "fra=df[df['fraude']==True]\n",
    "adios=fra[(['fecha','hora'])].value_counts().reset_index(name='conteos')\n",
    "adios=adios.pivot_table(index='fecha',columns='hora',values='conteos')\n",
    "sns.heatmap(adios)"
   ]
  },
  {
   "cell_type": "code",
   "execution_count": 76,
   "metadata": {},
   "outputs": [
    {
     "data": {
      "text/plain": [
       "<AxesSubplot:xlabel='hora', ylabel='fecha'>"
      ]
     },
     "execution_count": 76,
     "metadata": {},
     "output_type": "execute_result"
    },
    {
     "data": {
      "image/png": "[encoded data removed]",
      "text/plain": [
       "<Figure size 576x720 with 2 Axes>"
      ]
     },
     "metadata": {},
     "output_type": "display_data"
    }
   ],
   "source": [
    "adios=df[(['fecha','hora'])].value_counts().reset_index(name='conteos')\n",
    "adios=adios.pivot_table(index='fecha',columns='hora',values='conteos')\n",
    "sns.heatmap(adios)"
   ]
  },
  {
   "cell_type": "code",
   "execution_count": 77,
   "metadata": {},
   "outputs": [
    {
     "data": {
      "text/plain": [
       "<AxesSubplot:xlabel='hora', ylabel='fecha'>"
      ]
     },
     "execution_count": 77,
     "metadata": {},
     "output_type": "execute_result"
    },
    {
     "data": {
      "image/png": "[encoded data removed]",
      "text/plain": [
       "<Figure size 576x720 with 2 Axes>"
      ]
     },
     "metadata": {},
     "output_type": "display_data"
    }
   ],
   "source": [
    "adios=df[(['fecha','hora'])].value_counts().reset_index(name='conteos')\n",
    "adios=adios.pivot_table(index='fecha',columns='hora',values='conteos')\n",
    "sns.heatmap(adios)"
   ]
  },
  {
   "cell_type": "code",
   "execution_count": 79,
   "metadata": {},
   "outputs": [],
   "source": [
    "genero=df[(['id_user','genero'])].value_counts().reset_index(name='conteos')"
   ]
  },
  {
   "cell_type": "code",
   "execution_count": 80,
   "metadata": {},
   "outputs": [],
   "source": [
    "genero=df[(['id_user','genero'])].value_counts().reset_index(name='conteos')"
   ]
  },
  {
   "cell_type": "code",
   "execution_count": 81,
   "metadata": {},
   "outputs": [
    {
     "data": {
      "text/plain": [
       "M     0.50300\n",
       "F     0.39725\n",
       "--    0.09975\n",
       "Name: genero, dtype: float64"
      ]
     },
     "execution_count": 81,
     "metadata": {},
     "output_type": "execute_result"
    }
   ],
   "source": [
    "genero['genero'].value_counts(normalize=True)"
   ]
  },
  {
   "cell_type": "code",
   "execution_count": null,
   "metadata": {},
   "outputs": [],
   "source": [
    "sns.set(style='whitegrid',rc={'figure.figsize':(10,10)})\n",
    "fig, axs = plt.subplots(ncols=2)\n",
    "\n",
    "a=sns.histplot(df,x='linea_tc',hue='fraude',multiple='stack',\n",
    "             palette=sns.blend_palette(colores, 2), ax=axs[0,0])\n",
    "b=sns.histplot(df,x='interes_tc',hue='fraude',multiple='stack',\n",
    "             palette=sns.blend_palette(colores, 2), ax=axs[0,1])\n",
    "c=sns.histplot(df,x='dcto',hue='fraude',multiple='stack',\n",
    "             palette=sns.blend_palette(colores, 2), ax=axs[1,0])\n",
    "d=sns.histplot(df,x='cashback',hue='fraude',multiple='stack',\n",
    "             palette=sns.blend_palette(colores, 2), ax=axs[1,1])\n",
    "plt.show()"
   ]
  },
  {
   "cell_type": "code",
   "execution_count": null,
   "metadata": {},
   "outputs": [],
   "source": [
    "sns.set(style='whitegrid',rc={'figure.figsize':(8,7)})\n",
    "a=sns.scatterplot(data=df,x='monto', y='cashback', hue='tipo_tc',\n",
    "                palette=sns.blend_palette(colores, 2))"
   ]
  },
  {
   "cell_type": "code",
   "execution_count": null,
   "metadata": {},
   "outputs": [],
   "source": [
    "a=sns.histplot(df,x='cashback',hue='fraude',multiple='stack',common_norm=False,\n",
    "             palette=sns.blend_palette(colores, 2),bins=100)"
   ]
  }
 ],
 "metadata": {
  "kernelspec": {
   "display_name": "dpa_env",
   "language": "python",
   "name": "dpa_env"
  },
  "language_info": {
   "codemirror_mode": {
    "name": "ipython",
    "version": 3
   },
   "file_extension": ".py",
   "mimetype": "text/x-python",
   "name": "python",
   "nbconvert_exporter": "python",
   "pygments_lexer": "ipython3",
   "version": "3.7.4"
  }
 },
 "nbformat": 4,
 "nbformat_minor": 4
}
